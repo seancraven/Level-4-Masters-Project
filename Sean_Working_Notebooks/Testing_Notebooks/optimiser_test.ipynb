{
 "cells": [
  {
   "cell_type": "code",
   "execution_count": 2,
   "metadata": {},
   "outputs": [],
   "source": [
    "import tensorflow as tf \n",
    "from tensorflow import keras\n",
    "import numpy as np\n",
    "import matplotlib.pyplot as plt\n",
    "import pandas as pd\n",
    "import Common_Functions as cf \n",
    "from mpl_toolkits import mplot3d\n",
    "plt.rc('font', family='serif')\n",
    "import matplotlib\n",
    "matplotlib.rcParams.update({'legend.fontsize': 16})\n",
    "matplotlib.rcParams.update({'font.size': 16})"
   ]
  },
  {
   "cell_type": "code",
   "execution_count": 4,
   "metadata": {},
   "outputs": [],
   "source": [
    "df_pions = np.array(pd.read_csv('/home/sean/Documents/Work/Level 4/Level-4-Masters-Project/testing_data.csv',header = None))\n",
    "\n",
    "train_x, train_y = cf.data_normaliser(df_pions[:-1000,:-1]), df_pions[:-1000,-1]\n",
    "val_x, val_y = cf.data_normaliser(df_pions[-1000:,:-1]), df_pions[-1000:,-1]\n",
    "opt = ['SGD','Adagrad','RMSprop','Adam','NAdam','Adamax',]"
   ]
  },
  {
   "cell_type": "code",
   "execution_count": 5,
   "metadata": {},
   "outputs": [],
   "source": [
    "def optimiser_test(optimiser_list,repeats):\n",
    "    no_optimsier = len(optimiser_list)\n",
    "    is_last_val_bool = np.zeros(no_optimsier)\n",
    "    min_mape = np.zeros((no_optimsier,repeats))\n",
    "    for i in range(no_optimsier):\n",
    "        last_val_bool = 0\n",
    "        for j in range(repeats):\n",
    "            df = pd.DataFrame(cf.trained_network(train_x,train_y,val_x,val_y,[512,512], optimizer= optimiser_list[i], verbose= 0,epochs = 100, batch_size= 256, ).history)\n",
    "            val_mape_ar_smoothed = cf.exponetial_smoothing(np.array(df['val_mean_absolute_percentage_error']),0.4)\n",
    "            loss_ar_smoothed = cf.exponetial_smoothing(np.array(df['loss']),0.4)\n",
    "            min_mape[i,j] = np.min(val_mape_ar_smoothed)\n",
    "            if cf.neg_grad_tester(val_mape_ar_smoothed,loss_ar_smoothed):\n",
    "                last_val_bool +=1\n",
    "                print('Negative Grad Identified')\n",
    "            else:\n",
    "                pass\n",
    "        if last_val_bool >= repeats/4:\n",
    "            is_last_val_bool[i] = 1\n",
    "        else:\n",
    "            is_last_val_bool[i] = 0\n",
    "    return min_mape, is_last_val_bool"
   ]
  },
  {
   "cell_type": "code",
   "execution_count": 6,
   "metadata": {},
   "outputs": [
    {
     "name": "stderr",
     "output_type": "stream",
     "text": [
      "2022-01-12 16:11:25.978402: I tensorflow/stream_executor/cuda/cuda_gpu_executor.cc:937] successful NUMA node read from SysFS had negative value (-1), but there must be at least one NUMA node, so returning NUMA node zero\n",
      "2022-01-12 16:11:26.059005: I tensorflow/stream_executor/cuda/cuda_gpu_executor.cc:937] successful NUMA node read from SysFS had negative value (-1), but there must be at least one NUMA node, so returning NUMA node zero\n",
      "2022-01-12 16:11:26.059459: I tensorflow/stream_executor/cuda/cuda_gpu_executor.cc:937] successful NUMA node read from SysFS had negative value (-1), but there must be at least one NUMA node, so returning NUMA node zero\n",
      "2022-01-12 16:11:26.060230: I tensorflow/core/platform/cpu_feature_guard.cc:142] This TensorFlow binary is optimized with oneAPI Deep Neural Network Library (oneDNN) to use the following CPU instructions in performance-critical operations:  AVX2 FMA\n",
      "To enable them in other operations, rebuild TensorFlow with the appropriate compiler flags.\n",
      "2022-01-12 16:11:26.061562: I tensorflow/stream_executor/cuda/cuda_gpu_executor.cc:937] successful NUMA node read from SysFS had negative value (-1), but there must be at least one NUMA node, so returning NUMA node zero\n",
      "2022-01-12 16:11:26.061976: I tensorflow/stream_executor/cuda/cuda_gpu_executor.cc:937] successful NUMA node read from SysFS had negative value (-1), but there must be at least one NUMA node, so returning NUMA node zero\n",
      "2022-01-12 16:11:26.062345: I tensorflow/stream_executor/cuda/cuda_gpu_executor.cc:937] successful NUMA node read from SysFS had negative value (-1), but there must be at least one NUMA node, so returning NUMA node zero\n",
      "2022-01-12 16:11:26.824662: I tensorflow/stream_executor/cuda/cuda_gpu_executor.cc:937] successful NUMA node read from SysFS had negative value (-1), but there must be at least one NUMA node, so returning NUMA node zero\n",
      "2022-01-12 16:11:26.824932: I tensorflow/stream_executor/cuda/cuda_gpu_executor.cc:937] successful NUMA node read from SysFS had negative value (-1), but there must be at least one NUMA node, so returning NUMA node zero\n",
      "2022-01-12 16:11:26.825239: I tensorflow/stream_executor/cuda/cuda_gpu_executor.cc:937] successful NUMA node read from SysFS had negative value (-1), but there must be at least one NUMA node, so returning NUMA node zero\n",
      "2022-01-12 16:11:26.825542: I tensorflow/core/common_runtime/gpu/gpu_device.cc:1510] Created device /job:localhost/replica:0/task:0/device:GPU:0 with 2826 MB memory:  -> device: 0, name: NVIDIA GeForce GTX 970, pci bus id: 0000:2b:00.0, compute capability: 5.2\n",
      "2022-01-12 16:11:26.994637: I tensorflow/compiler/mlir/mlir_graph_optimization_pass.cc:185] None of the MLIR Optimization Passes are enabled (registered 2)\n"
     ]
    },
    {
     "name": "stdout",
     "output_type": "stream",
     "text": [
      "Negative Grad Identified\n",
      "Negative Grad Identified\n",
      "Negative Grad Identified\n",
      "Negative Grad Identified\n",
      "Negative Grad Identified\n",
      "Negative Grad Identified\n",
      "Negative Grad Identified\n",
      "Negative Grad Identified\n",
      "Negative Grad Identified\n",
      "Negative Grad Identified\n",
      "Negative Grad Identified\n",
      "Negative Grad Identified\n",
      "Negative Grad Identified\n",
      "Negative Grad Identified\n",
      "Negative Grad Identified\n",
      "Negative Grad Identified\n",
      "Negative Grad Identified\n",
      "Negative Grad Identified\n",
      "Negative Grad Identified\n",
      "Negative Grad Identified\n",
      "Negative Grad Identified\n",
      "Negative Grad Identified\n",
      "Negative Grad Identified\n"
     ]
    }
   ],
   "source": [
    "min_mape ,bool = optimiser_test(opt,10)\n",
    "\n"
   ]
  },
  {
   "cell_type": "code",
   "execution_count": 21,
   "metadata": {},
   "outputs": [
    {
     "name": "stdout",
     "output_type": "stream",
     "text": [
      "[        nan 92.34131722  5.30239598  3.98219555  4.13522284  4.40013698]\n",
      "[       nan 0.99368826 0.05185904 0.02756497 0.01455147 0.03748911]\n"
     ]
    },
    {
     "data": {
      "image/png": "[encoded data removed]",
      "text/plain": [
       "<Figure size 720x432 with 1 Axes>"
      ]
     },
     "metadata": {
      "needs_background": "light"
     },
     "output_type": "display_data"
    }
   ],
   "source": [
    "mean_min_mape = np.mean(min_mape,axis = 1)\n",
    "#print(min_mape[0,:])\n",
    "ste = np.std(min_mape,axis = 1)/10**0.5\n",
    "fig = plt.figure( figsize = (10,6))\n",
    "plt.errorbar(range(5),mean_min_mape[:-1],ste[:-1], linestyle = '' , marker = 'x',capsize= 0.5,c = 'black')\n",
    "plt.xticks(range(5),opt[:-1])\n",
    "plt.xlim(-0.5,4.5)\n",
    "plt.ylim(3,6)\n",
    "plt.ylabel('Mean Minimum MAPE')\n",
    "plt.xlabel('Optimizer')\n",
    "print(mean_min_mape)\n",
    "print(ste)\n"
   ]
  },
  {
   "cell_type": "code",
   "execution_count": 20,
   "metadata": {},
   "outputs": [],
   "source": [
    "np.savetxt('/home/sean/Documents/Work/Level 4/Level-4-Masters-Project/Sean_Working_Notebooks/Testing_Notebooks/optimisers.csv',min_mape)\n",
    "fig.savefig('/home/sean/Documents/Work/Level 4/Level-4-Masters-Project/Figures/diff_opt.png',dpi = 300)"
   ]
  },
  {
   "cell_type": "code",
   "execution_count": null,
   "metadata": {},
   "outputs": [],
   "source": []
  }
 ],
 "metadata": {
  "interpreter": {
   "hash": "f104f88efb840d0e3bc7589e04724d256e4ed8b928c3ad9315ee551fb11f4dcf"
  },
  "kernelspec": {
   "display_name": "Python 3.9.7 64-bit ('tf-gpu': conda)",
   "name": "python3"
  },
  "language_info": {
   "codemirror_mode": {
    "name": "ipython",
    "version": 3
   },
   "file_extension": ".py",
   "mimetype": "text/x-python",
   "name": "python",
   "nbconvert_exporter": "python",
   "pygments_lexer": "ipython3",
   "version": "3.9.7"
  },
  "orig_nbformat": 4
 },
 "nbformat": 4,
 "nbformat_minor": 2
}
