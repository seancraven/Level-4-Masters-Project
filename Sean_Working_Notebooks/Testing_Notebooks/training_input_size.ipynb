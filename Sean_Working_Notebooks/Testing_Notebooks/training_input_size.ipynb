{
 "cells": [
  {
   "cell_type": "code",
   "execution_count": 1,
   "metadata": {},
   "outputs": [],
   "source": [
    "import tensorflow as tf \n",
    "from tensorflow import keras\n",
    "import numpy as np\n",
    "import matplotlib.pyplot as plt\n",
    "import pandas as pd\n",
    "import Common_Functions as cf \n",
    "from mpl_toolkits import mplot3d\n",
    "plt.rc('font', family='serif')\n",
    "import matplotlib\n",
    "matplotlib.rcParams.update({'font.size': 12})"
   ]
  },
  {
   "cell_type": "code",
   "execution_count": 2,
   "metadata": {},
   "outputs": [
    {
     "name": "stdout",
     "output_type": "stream",
     "text": [
      "(100000, 17)\n"
     ]
    }
   ],
   "source": [
    "df_pions = np.array(pd.read_csv('/home/sean/Documents/Work/Level 4/Level-4-Masters-Project/testing_data.csv',header = None))\n",
    "print(df_pions.shape)\n",
    "\n",
    "train_x, train_y = cf.data_normaliser(df_pions[:-1000,:-1]), df_pions[:-1000,-1]\n",
    "val_x, val_y = cf.data_normaliser(df_pions[-1000:,:-1]), df_pions[-1000:,-1]\n",
    "opt = keras.optimizers.Adam(learning_rate= 0.005, beta_1 = 0.881, beta_2= 0.99)\n"
   ]
  },
  {
   "cell_type": "code",
   "execution_count": 3,
   "metadata": {},
   "outputs": [],
   "source": [
    "def training_data_point_tester(points_array, repeats):\n",
    "\n",
    "    no_point  = points_array.shape[0]\n",
    "    min_mape = np.zeros((no_point,repeats))\n",
    "    is_last_val_bool = np.zeros_like(points_array)\n",
    "    for i in range(no_point):\n",
    "        print(points_array[i], 'Training Points')\n",
    "        last_val_bool = 0\n",
    "        for j in range(repeats):\n",
    "            df = pd.DataFrame(cf.trained_network(train_x[:points_array[i]],train_y[:points_array[i]],val_x,val_y,[512,512], optimizer= opt, verbose= 0,epochs = 100, batch_size= 256 ).history)\n",
    "            val_mape_ar_smoothed = cf.exponetial_smoothing(np.array(df['val_mean_absolute_percentage_error']),0.4)\n",
    "            loss_ar_smoothed = cf.exponetial_smoothing(np.array(df['loss']),0.4)\n",
    "            min_mape[i,j] = np.min(val_mape_ar_smoothed)\n",
    "            if cf.neg_grad_tester(val_mape_ar_smoothed,loss_ar_smoothed):\n",
    "                last_val_bool +=1\n",
    "                print('Negative Grad Identified')\n",
    "            else:\n",
    "                pass\n",
    "        if last_val_bool >= repeats/4:\n",
    "            is_last_val_bool[i] = 1\n",
    "        else:\n",
    "            is_last_val_bool[i] = 0\n",
    "    return min_mape, is_last_val_bool"
   ]
  },
  {
   "cell_type": "code",
   "execution_count": 4,
   "metadata": {},
   "outputs": [
    {
     "name": "stdout",
     "output_type": "stream",
     "text": [
      "10 Training Points\n"
     ]
    },
    {
     "name": "stderr",
     "output_type": "stream",
     "text": [
      "2021-12-06 16:19:45.203503: I tensorflow/stream_executor/cuda/cuda_gpu_executor.cc:937] successful NUMA node read from SysFS had negative value (-1), but there must be at least one NUMA node, so returning NUMA node zero\n",
      "2021-12-06 16:19:45.208784: I tensorflow/stream_executor/cuda/cuda_gpu_executor.cc:937] successful NUMA node read from SysFS had negative value (-1), but there must be at least one NUMA node, so returning NUMA node zero\n",
      "2021-12-06 16:19:45.209224: I tensorflow/stream_executor/cuda/cuda_gpu_executor.cc:937] successful NUMA node read from SysFS had negative value (-1), but there must be at least one NUMA node, so returning NUMA node zero\n",
      "2021-12-06 16:19:45.210503: I tensorflow/core/platform/cpu_feature_guard.cc:142] This TensorFlow binary is optimized with oneAPI Deep Neural Network Library (oneDNN) to use the following CPU instructions in performance-critical operations:  AVX2 FMA\n",
      "To enable them in other operations, rebuild TensorFlow with the appropriate compiler flags.\n",
      "2021-12-06 16:19:45.211575: I tensorflow/stream_executor/cuda/cuda_gpu_executor.cc:937] successful NUMA node read from SysFS had negative value (-1), but there must be at least one NUMA node, so returning NUMA node zero\n",
      "2021-12-06 16:19:45.211934: I tensorflow/stream_executor/cuda/cuda_gpu_executor.cc:937] successful NUMA node read from SysFS had negative value (-1), but there must be at least one NUMA node, so returning NUMA node zero\n",
      "2021-12-06 16:19:45.212164: I tensorflow/stream_executor/cuda/cuda_gpu_executor.cc:937] successful NUMA node read from SysFS had negative value (-1), but there must be at least one NUMA node, so returning NUMA node zero\n",
      "2021-12-06 16:19:45.497004: I tensorflow/stream_executor/cuda/cuda_gpu_executor.cc:937] successful NUMA node read from SysFS had negative value (-1), but there must be at least one NUMA node, so returning NUMA node zero\n",
      "2021-12-06 16:19:45.497247: I tensorflow/stream_executor/cuda/cuda_gpu_executor.cc:937] successful NUMA node read from SysFS had negative value (-1), but there must be at least one NUMA node, so returning NUMA node zero\n",
      "2021-12-06 16:19:45.497461: I tensorflow/stream_executor/cuda/cuda_gpu_executor.cc:937] successful NUMA node read from SysFS had negative value (-1), but there must be at least one NUMA node, so returning NUMA node zero\n",
      "2021-12-06 16:19:45.497642: I tensorflow/core/common_runtime/gpu/gpu_device.cc:1510] Created device /job:localhost/replica:0/task:0/device:GPU:0 with 2346 MB memory:  -> device: 0, name: NVIDIA GeForce GTX 970, pci bus id: 0000:2b:00.0, compute capability: 5.2\n",
      "2021-12-06 16:19:45.644425: I tensorflow/compiler/mlir/mlir_graph_optimization_pass.cc:185] None of the MLIR Optimization Passes are enabled (registered 2)\n"
     ]
    },
    {
     "name": "stdout",
     "output_type": "stream",
     "text": [
      "Negative Grad Identified\n",
      "Negative Grad Identified\n",
      "Negative Grad Identified\n",
      "Negative Grad Identified\n",
      "Negative Grad Identified\n",
      "Negative Grad Identified\n",
      "Negative Grad Identified\n",
      "Negative Grad Identified\n",
      "Negative Grad Identified\n",
      "Negative Grad Identified\n",
      "16 Training Points\n",
      "Negative Grad Identified\n",
      "Negative Grad Identified\n",
      "Negative Grad Identified\n",
      "Negative Grad Identified\n",
      "Negative Grad Identified\n",
      "Negative Grad Identified\n",
      "Negative Grad Identified\n",
      "Negative Grad Identified\n",
      "Negative Grad Identified\n",
      "26 Training Points\n",
      "Negative Grad Identified\n",
      "Negative Grad Identified\n",
      "Negative Grad Identified\n",
      "Negative Grad Identified\n",
      "Negative Grad Identified\n",
      "Negative Grad Identified\n",
      "Negative Grad Identified\n",
      "Negative Grad Identified\n",
      "Negative Grad Identified\n",
      "42 Training Points\n",
      "Negative Grad Identified\n",
      "Negative Grad Identified\n",
      "Negative Grad Identified\n",
      "Negative Grad Identified\n",
      "Negative Grad Identified\n",
      "Negative Grad Identified\n",
      "Negative Grad Identified\n",
      "Negative Grad Identified\n",
      "Negative Grad Identified\n",
      "Negative Grad Identified\n",
      "69 Training Points\n",
      "Negative Grad Identified\n",
      "Negative Grad Identified\n",
      "Negative Grad Identified\n",
      "Negative Grad Identified\n",
      "Negative Grad Identified\n",
      "Negative Grad Identified\n",
      "Negative Grad Identified\n",
      "Negative Grad Identified\n",
      "Negative Grad Identified\n",
      "Negative Grad Identified\n",
      "112 Training Points\n",
      "Negative Grad Identified\n",
      "Negative Grad Identified\n",
      "Negative Grad Identified\n",
      "Negative Grad Identified\n",
      "Negative Grad Identified\n",
      "Negative Grad Identified\n",
      "Negative Grad Identified\n",
      "Negative Grad Identified\n",
      "Negative Grad Identified\n",
      "Negative Grad Identified\n",
      "183 Training Points\n",
      "Negative Grad Identified\n",
      "Negative Grad Identified\n",
      "Negative Grad Identified\n",
      "Negative Grad Identified\n",
      "Negative Grad Identified\n",
      "Negative Grad Identified\n",
      "Negative Grad Identified\n",
      "Negative Grad Identified\n",
      "Negative Grad Identified\n",
      "Negative Grad Identified\n",
      "297 Training Points\n",
      "Negative Grad Identified\n",
      "Negative Grad Identified\n",
      "Negative Grad Identified\n",
      "Negative Grad Identified\n",
      "Negative Grad Identified\n",
      "Negative Grad Identified\n",
      "Negative Grad Identified\n",
      "Negative Grad Identified\n",
      "Negative Grad Identified\n",
      "Negative Grad Identified\n",
      "483 Training Points\n",
      "Negative Grad Identified\n",
      "Negative Grad Identified\n",
      "Negative Grad Identified\n",
      "Negative Grad Identified\n",
      "Negative Grad Identified\n",
      "Negative Grad Identified\n",
      "Negative Grad Identified\n",
      "Negative Grad Identified\n",
      "Negative Grad Identified\n",
      "784 Training Points\n",
      "Negative Grad Identified\n",
      "1274 Training Points\n",
      "2069 Training Points\n",
      "3359 Training Points\n",
      "5455 Training Points\n",
      "8858 Training Points\n",
      "14384 Training Points\n",
      "23357 Training Points\n",
      "37926 Training Points\n",
      "61584 Training Points\n",
      "100000 Training Points\n"
     ]
    }
   ],
   "source": [
    "points = np.logspace(1,5,20,dtype= int)\n",
    "min_mape, is_last_val_bool = training_data_point_tester(points,10)"
   ]
  },
  {
   "cell_type": "code",
   "execution_count": 5,
   "metadata": {},
   "outputs": [
    {
     "name": "stdout",
     "output_type": "stream",
     "text": [
      "(array([19]), array([6]))\n",
      "[[116.29659548  96.21745339  95.87369861 154.44139971 119.39015619\n",
      "  114.32690275  91.67759733 106.9351355  163.95879067  87.58325035]\n",
      " [ 73.85659988  88.65202047  86.09864241  89.09238293  89.7157276\n",
      "   77.32044994  92.28568226  97.06366666  89.38635496  88.53509259]\n",
      " [ 95.25430363  70.97528648  94.86257556  71.66154772  72.01334777\n",
      "   74.47993489  73.58168304  67.98703023  65.90522728  74.20503043]\n",
      " [ 73.881325    69.21046062  68.0387039   68.79238471  64.21070936\n",
      "   77.20544092  76.57035344  70.42784552  67.09938506  65.90343587]\n",
      " [ 60.1258713   65.83416283  64.92359627  65.61203384  70.55530245\n",
      "   71.17016914  66.03453382  74.80060759  73.08607605  64.78304429]\n",
      " [ 65.17373092  65.86749253  54.70458087  64.72287364  61.68960027\n",
      "   64.70247522  61.60291659  65.82752484  65.85884104  63.16183088]\n",
      " [ 65.80887282  65.85963743  65.9215667   53.5413003   51.2482325\n",
      "   65.79799625  53.44257949  65.85988699  65.83640022  65.86541584]\n",
      " [ 41.58645755  41.88362707  38.83215043  39.23548738  45.24996926\n",
      "   43.1891421   39.69405439  39.17789433  61.34504398  43.8352367 ]\n",
      " [ 31.82829167  36.37152902  50.86564216  30.50049496  33.66874934\n",
      "   65.88569349  65.91046616  34.10450045  28.40048447  65.9291537 ]\n",
      " [ 65.92520778  24.91782543  22.80671244  27.39431087  28.81659332\n",
      "   28.28698439  22.97897601  21.52435574  36.96458213  25.47283103]\n",
      " [ 15.96286663  18.1638185   18.99903754  16.99348136  16.48266535\n",
      "   18.77187799  65.67125246  20.85272034  16.61720517  16.58432847]\n",
      " [ 14.5769306   27.41031531  65.97256687  14.02286244  14.80960648\n",
      "   14.90354453  14.33939902  14.30013328  14.78495772  14.7729242 ]\n",
      " [ 13.61204773  13.03900309  14.16601433  13.36838572  14.19609458\n",
      "   13.16601176  13.21087383  13.9304209   12.76544038  11.21609718]\n",
      " [ 12.15423115  11.44794265   9.26123205  65.98113289   9.49753504\n",
      "   10.06463472  14.31892303  12.05557914   9.91143192  10.088727  ]\n",
      " [  8.63027853   9.03678851   9.141756     8.22542543   8.73594213\n",
      "    7.77347524   8.23702919   8.23396965   7.94876715   7.76548268]\n",
      " [  6.32294783   6.36282742   6.7374935    6.32543387   6.11593191\n",
      "    6.60728293   6.63207508   6.65999677   6.58187118   6.0985346 ]\n",
      " [  5.2732676    5.18457241   5.42786984   5.52982843   5.13583813\n",
      "    5.36573139   5.28327943   5.32818506   5.16819379   5.13766985]\n",
      " [  4.72804253   4.97191826   5.04709052   5.09927219   4.91484615\n",
      "    4.9392315    4.95227392   5.0668373    5.00070743   6.82884902]\n",
      " [  4.39250491   4.43033696   4.43287025   4.41886926   4.47196698\n",
      "    4.59577154   4.65348716   4.53084394   4.43507312   4.46955168]\n",
      " [  4.70585089   5.47882486   4.21035266   4.20630819   4.29846869\n",
      "    4.37237185   4.1079244    4.31496954   4.17604065   4.32427701]]\n"
     ]
    }
   ],
   "source": [
    "print(np.where(min_mape == np.min(min_mape)))\n",
    "print((min_mape))\n"
   ]
  },
  {
   "cell_type": "code",
   "execution_count": 32,
   "metadata": {},
   "outputs": [
    {
     "name": "stdout",
     "output_type": "stream",
     "text": [
      "(20,)\n"
     ]
    }
   ],
   "source": [
    "np.savetxt('./training_datapoints.csv',min_mape,delimiter=',')\n",
    "np.savetxt('./training_datapoints_bool.csv',is_last_val_bool,delimiter=',')\n",
    "print(is_last_val_bool.shape)\n",
    "def return_not_convergerd(x,z,bools): \n",
    "    if bools.shape != z.shape:\n",
    "        print('wrong size input')\n",
    "    indecies = np.where(z*bools != 0)\n",
    " \n",
    "    unconverged_z = []\n",
    "    unconverged_x =[]\n",
    "    for i in range(len(indecies)):\n",
    "        print(indecies[i])\n",
    "        unconverged_z.append(z[(indecies[i])])\n",
    "        unconverged_x.append(x[(indecies[i])])\n",
    "    return unconverged_x  , unconverged_z"
   ]
  },
  {
   "cell_type": "code",
   "execution_count": 25,
   "metadata": {},
   "outputs": [
    {
     "name": "stdout",
     "output_type": "stream",
     "text": [
      "[[116.29659548  96.21745339  95.87369861 120.17632273 119.39015619\n",
      "  114.32690275  91.67759733 106.9351355  120.17632273  87.58325035]\n",
      " [ 73.85659988  88.65202047  86.09864241  89.09238293  89.7157276\n",
      "   77.32044994  92.28568226  92.68021043  89.38635496  88.53509259]\n",
      " [ 76.21230147  70.97528648  76.21230147  71.66154772  72.01334777\n",
      "   74.47993489  73.58168304  67.98703023  65.90522728  74.20503043]\n",
      " [ 71.6872233   69.21046062  68.0387039   68.79238471  64.21070936\n",
      "   71.6872233   71.6872233   70.42784552  67.09938506  65.90343587]\n",
      " [ 60.1258713   65.83416283  64.92359627  65.61203384  70.31079613\n",
      "   70.31079613  66.03453382  70.31079613  70.31079613  64.78304429]\n",
      " [ 65.17373092  65.86749253  54.70458087  64.72287364  61.68960027\n",
      "   64.70247522  61.60291659  65.82752484  65.85884104  63.16183088]\n",
      " [ 65.80887282  65.85963743  65.9215667   53.5413003   51.2482325\n",
      "   65.79799625  53.44257949  65.85988699  65.83640022  65.86541584]\n",
      " [ 41.58645755  41.88362707  38.83215043  39.23548738  43.69308976\n",
      "   43.1891421   39.69405439  39.17789433  43.69308976  43.69308976]\n",
      " [ 31.82829167  36.37152902  49.73808319  30.50049496  33.66874934\n",
      "   49.73808319  49.73808319  34.10450045  28.40048447  49.73808319]\n",
      " [ 29.91620922  24.91782543  22.80671244  27.39431087  28.81659332\n",
      "   28.28698439  22.97897601  21.52435574  29.91620922  25.47283103]\n",
      " [ 15.96286663  18.1638185   18.99903754  16.99348136  16.48266535\n",
      "   18.77187799  17.82764198  17.82764198  16.61720517  16.58432847]\n",
      " [ 14.5769306   15.33913821  15.33913821  14.02286244  14.80960648\n",
      "   14.90354453  14.33939902  14.30013328  14.78495772  14.7729242 ]\n",
      " [ 13.61204773  13.03900309  13.23674885  13.36838572  13.23674885\n",
      "   13.16601176  13.21087383  13.9304209   12.76544038  11.21609718]\n",
      " [ 12.15423115  11.44794265   9.26123205  11.10287486   9.49753504\n",
      "   10.06463472  11.10287486  12.05557914   9.91143192  10.088727  ]\n",
      " [  8.26938464   8.26938464   8.26938464   8.22542543   8.26938464\n",
      "    7.77347524   8.23702919   8.23396965   7.94876715   7.76548268]\n",
      " [  6.32294783   6.36282742   6.43214565   6.32543387   6.11593191\n",
      "    6.60728293   6.63207508   6.43214565   6.58187118   6.0985346 ]\n",
      " [  5.2732676    5.18457241   5.25461854   5.25461854   5.13583813\n",
      "    5.25461854   5.28327943   5.32818506   5.16819379   5.13766985]\n",
      " [  4.72804253   4.97191826   5.04709052   4.98132878   4.91484615\n",
      "    4.9392315    4.95227392   5.0668373    5.00070743   4.98132878]\n",
      " [  4.39250491   4.43033696   4.43287025   4.41886926   4.47196698\n",
      "    4.4549685    4.4549685    4.4549685    4.43507312   4.46955168]\n",
      " [  4.2823305    4.2823305    4.21035266   4.20630819   4.29846869\n",
      "    4.37237185   4.1079244    4.31496954   4.17604065   4.32427701]]\n"
     ]
    }
   ],
   "source": [
    "def clean_min_mape(min_mape):\n",
    "    orig_min = min_mape.copy()\n",
    "    mean_min_mape = np.mean(min_mape,axis =1 )\n",
    "    mean_min_mape_array = (np.ones_like(min_mape).transpose()*mean_min_mape).transpose()\n",
    "    std = np.std(min_mape,axis = 1)\n",
    "    mean_plus_1_sigma = mean_min_mape+std\n",
    "    mean_plus_1_sigma_array = (np.ones_like(min_mape).transpose()*mean_plus_1_sigma).transpose()\n",
    "    #print(mean_plus_1_sigma_array)\n",
    "    index = np.where(min_mape> mean_plus_1_sigma_array)\n",
    "    min_mape[index] = mean_min_mape_array[index]\n",
    "\n",
    "    return np.vstack((orig_min[:10,:],min_mape[10:,:]))\n",
    "    \n",
    "cleaned_min_mape = clean_min_mape(min_mape)\n",
    "print(cleaned_min_mape)"
   ]
  },
  {
   "cell_type": "code",
   "execution_count": 30,
   "metadata": {},
   "outputs": [
    {
     "name": "stdout",
     "output_type": "stream",
     "text": [
      "[0 1 2 3 4 5 6 7 8]\n"
     ]
    },
    {
     "data": {
      "text/plain": [
       "Text(0, 0.5, 'Mean Minimum MAPE')"
      ]
     },
     "execution_count": 30,
     "metadata": {},
     "output_type": "execute_result"
    },
    {
     "data": {
      "image/png": "[encoded data removed]",
      "text/plain": [
       "<Figure size 720x360 with 1 Axes>"
      ]
     },
     "metadata": {
      "needs_background": "light"
     },
     "output_type": "display_data"
    }
   ],
   "source": [
    "\n",
    "\n",
    "clean_mean_min_mape = np.mean(cleaned_min_mape, axis = 1 )\n",
    "min_mape_mean = np.mean(min_mape,axis=1)\n",
    "unclean_ste = np.std(min_mape,axis= 1)/10**0.5\n",
    "non_c_x,non_c_y = return_not_convergerd(points,clean_mean_min_mape ,is_last_val_bool)\n",
    "mape_ste = np.std(cleaned_min_mape,axis = 1)/10**0.5\n",
    "fig,axs = plt.subplots(1,1,figsize = (10,5))\n",
    "axs.errorbar(points,clean_mean_min_mape,mape_ste,linestyle = '-',c = 'Black', capsize= 0.5)\n",
    "#axs.errorbar(points,min_mape_mean,unclean_ste,linestyle = '--',c = 'blue', capthick= 0.5, alpha = 0.5)\n",
    "axs.set_xscale('log')\n",
    "axs.set_yscale('log')\n",
    "#axs.set_ylim(0,10)\n",
    "axs.plot(non_c_x,non_c_y,marker = 'x',c = 'r')\n",
    "axs.set_xlabel('Number of Training Points')\n",
    "axs.set_ylabel('Mean Minimum MAPE')"
   ]
  },
  {
   "cell_type": "code",
   "execution_count": 31,
   "metadata": {},
   "outputs": [],
   "source": [
    "fig.savefig('/home/sean/Documents/Work/Level 4/Level-4-Masters-Project/Figures/training_data_points.png',dpi = 300)"
   ]
  },
  {
   "cell_type": "code",
   "execution_count": null,
   "metadata": {},
   "outputs": [],
   "source": []
  }
 ],
 "metadata": {
  "interpreter": {
   "hash": "f104f88efb840d0e3bc7589e04724d256e4ed8b928c3ad9315ee551fb11f4dcf"
  },
  "kernelspec": {
   "display_name": "Python 3.9.7 64-bit ('tf-gpu': conda)",
   "language": "python",
   "name": "python3"
  },
  "language_info": {
   "codemirror_mode": {
    "name": "ipython",
    "version": 3
   },
   "file_extension": ".py",
   "mimetype": "text/x-python",
   "name": "python",
   "nbconvert_exporter": "python",
   "pygments_lexer": "ipython3",
   "version": "3.9.7"
  },
  "orig_nbformat": 4
 },
 "nbformat": 4,
 "nbformat_minor": 2
}
