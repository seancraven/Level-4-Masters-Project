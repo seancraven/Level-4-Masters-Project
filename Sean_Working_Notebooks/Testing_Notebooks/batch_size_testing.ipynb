{
 "cells": [
  {
   "cell_type": "code",
   "execution_count": 65,
   "metadata": {},
   "outputs": [],
   "source": [
    "import tensorflow as tf \n",
    "from tensorflow import keras\n",
    "import numpy as np\n",
    "import matplotlib.pyplot as plt\n",
    "import pandas as pd\n",
    "import Common_Functions as cf \n",
    "from mpl_toolkits import mplot3d\n",
    "plt.rc('font', family='serif')\n",
    "import matplotlib\n",
    "matplotlib.rcParams.update({'font.size': 12})"
   ]
  },
  {
   "cell_type": "code",
   "execution_count": null,
   "metadata": {},
   "outputs": [
    {
     "name": "stderr",
     "output_type": "stream",
     "text": [
      "2021-11-30 14:30:44.590629: I tensorflow/stream_executor/cuda/cuda_gpu_executor.cc:937] successful NUMA node read from SysFS had negative value (-1), but there must be at least one NUMA node, so returning NUMA node zero\n",
      "2021-11-30 14:30:44.590949: I tensorflow/stream_executor/cuda/cuda_gpu_executor.cc:937] successful NUMA node read from SysFS had negative value (-1), but there must be at least one NUMA node, so returning NUMA node zero\n",
      "2021-11-30 14:30:44.591195: I tensorflow/stream_executor/cuda/cuda_gpu_executor.cc:937] successful NUMA node read from SysFS had negative value (-1), but there must be at least one NUMA node, so returning NUMA node zero\n",
      "2021-11-30 14:30:44.591447: I tensorflow/stream_executor/cuda/cuda_gpu_executor.cc:937] successful NUMA node read from SysFS had negative value (-1), but there must be at least one NUMA node, so returning NUMA node zero\n",
      "2021-11-30 14:30:44.591653: I tensorflow/stream_executor/cuda/cuda_gpu_executor.cc:937] successful NUMA node read from SysFS had negative value (-1), but there must be at least one NUMA node, so returning NUMA node zero\n",
      "2021-11-30 14:30:44.591825: I tensorflow/core/common_runtime/gpu/gpu_device.cc:1510] Created device /job:localhost/replica:0/task:0/device:GPU:0 with 2611 MB memory:  -> device: 0, name: NVIDIA GeForce GTX 970, pci bus id: 0000:2b:00.0, compute capability: 5.2\n"
     ]
    }
   ],
   "source": [
    "#Empty GPU Memory\n",
    "cf.reset()"
   ]
  },
  {
   "cell_type": "code",
   "execution_count": 48,
   "metadata": {},
   "outputs": [],
   "source": [
    "#Load Data\n",
    "df_pions = np.array(pd.read_csv('/home/sean/Documents/Work/Level 4/Level-4-Masters-Project/testing_data.csv',header = None))\n",
    "#Hold Out Validation\n",
    "train_x, train_y = df_pions[:-1000,:-1], df_pions[:-1000,-1]\n",
    "val_x, val_y = df_pions[-1000:,:-1], df_pions[-1000:,-1]"
   ]
  },
  {
   "cell_type": "code",
   "execution_count": 49,
   "metadata": {},
   "outputs": [],
   "source": [
    "#Adam Optimiser\n",
    "opt = keras.optimizers.Adam( amsgrad= True)"
   ]
  },
  {
   "cell_type": "code",
   "execution_count": 50,
   "metadata": {},
   "outputs": [],
   "source": [
    "## Function Creates multiple Identical networks while varying batch size.\n",
    "## Returns numpy array of Batch sizes \n",
    "## Returns numpy array of min MAPE of size len(batch_size),repeats\n",
    "def batch_size_tester(batch_size_range,step = 2,repeats = 5,section = None):\n",
    "    batch_size_min, batch_size_max = batch_size_range\n",
    "    batch_size_max = batch_size_max+1 ##Indexing trick so that the last batch size value is included \n",
    "    batch_sizes = np.arange(batch_size_min,batch_size_max,step = step)\n",
    "    min_mape = np.zeros((len(batch_sizes),repeats))\n",
    "    for i,_ in enumerate(batch_sizes):\n",
    "        print('Batch Size ',batch_sizes[i])\n",
    "        for j in range(repeats):\n",
    "            mape_df = cf.trained_network(train_x[:section],train_y[:section],val_x,val_y,[512,512,512], optimizer= opt, verbose= 0,batch_size = batch_sizes[i]).history['val_mean_absolute_percentage_error']\n",
    "            min_mape[i,j] = np.min(mape_df)\n",
    "    return min_mape, batch_sizes"
   ]
  },
  {
   "cell_type": "code",
   "execution_count": 58,
   "metadata": {},
   "outputs": [
    {
     "name": "stdout",
     "output_type": "stream",
     "text": [
      "Batch Size  4\n",
      "Batch Size  20\n",
      "Batch Size  36\n",
      "Batch Size  52\n",
      "Batch Size  68\n",
      "Batch Size  84\n",
      "Batch Size  100\n",
      "Batch Size  116\n",
      "Batch Size  132\n",
      "Batch Size  148\n",
      "Batch Size  164\n",
      "Batch Size  180\n",
      "Batch Size  196\n",
      "Batch Size  212\n",
      "Batch Size  228\n",
      "Batch Size  244\n",
      "Batch Size  260\n",
      "Batch Size  276\n",
      "Batch Size  292\n",
      "Batch Size  308\n",
      "Batch Size  324\n",
      "Batch Size  340\n",
      "Batch Size  356\n",
      "Batch Size  372\n",
      "Batch Size  388\n",
      "Batch Size  404\n",
      "Batch Size  420\n",
      "Batch Size  436\n",
      "Batch Size  452\n",
      "Batch Size  468\n",
      "Batch Size  484\n",
      "Batch Size  500\n"
     ]
    }
   ],
   "source": [
    "min_mape, batch_sizes = batch_size_tester((4,500),step = 16, repeats= 10)"
   ]
  },
  {
   "cell_type": "code",
   "execution_count": 59,
   "metadata": {},
   "outputs": [],
   "source": [
    "#Calculation of plotting quantities\n",
    "mean_min_mape = np.mean(min_mape,axis= 1)\n",
    "std_min_mape = np.std(min_mape,axis= 1)\n",
    "mse = std_min_mape/min_mape.shape[1]**0.5"
   ]
  },
  {
   "cell_type": "code",
   "execution_count": 66,
   "metadata": {},
   "outputs": [
    {
     "data": {
      "text/plain": [
       "Text(0, 0.5, 'Mean Minimum MAPE')"
      ]
     },
     "execution_count": 66,
     "metadata": {},
     "output_type": "execute_result"
    },
    {
     "data": {
      "image/png": "[encoded data removed]",
      "text/plain": [
       "<Figure size 720x360 with 1 Axes>"
      ]
     },
     "metadata": {
      "needs_background": "light"
     },
     "output_type": "display_data"
    }
   ],
   "source": [
    "#plotting\n",
    "fig = plt.figure(figsize= (10,5))\n",
    "ax = fig.add_axes((0,0,1,1))\n",
    "ax.errorbar(batch_sizes,mean_min_mape,mse,color = 'black',capsize= 2)\n",
    "ax.set_xlabel('Batch Size')\n",
    "ax.set_ylabel('Mean Minimum MAPE')\n"
   ]
  },
  {
   "cell_type": "code",
   "execution_count": 64,
   "metadata": {},
   "outputs": [],
   "source": [
    "fig.savefig('/home/sean/Documents/Work/Level 4/Level-4-Masters-Project/Figures/Batch_size.png',dpi = 300)"
   ]
  },
  {
   "cell_type": "code",
   "execution_count": null,
   "metadata": {},
   "outputs": [],
   "source": []
  }
 ],
 "metadata": {
  "interpreter": {
   "hash": "f104f88efb840d0e3bc7589e04724d256e4ed8b928c3ad9315ee551fb11f4dcf"
  },
  "kernelspec": {
   "display_name": "Python 3.9.7 64-bit ('tf-gpu': conda)",
   "language": "python",
   "name": "python3"
  },
  "language_info": {
   "codemirror_mode": {
    "name": "ipython",
    "version": 3
   },
   "file_extension": ".py",
   "mimetype": "text/x-python",
   "name": "python",
   "nbconvert_exporter": "python",
   "pygments_lexer": "ipython3",
   "version": "3.9.7"
  },
  "orig_nbformat": 4
 },
 "nbformat": 4,
 "nbformat_minor": 2
}
