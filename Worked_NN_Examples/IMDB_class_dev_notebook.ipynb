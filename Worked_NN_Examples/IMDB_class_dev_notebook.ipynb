{
 "cells": [
  {
   "cell_type": "code",
   "execution_count": 1,
   "metadata": {},
   "outputs": [
    {
     "name": "stderr",
     "output_type": "stream",
     "text": [
      "/home/sean/anaconda3/envs/tf-gpu-cuda8/lib/python3.7/site-packages/tensorflow/python/framework/dtypes.py:516: FutureWarning: Passing (type, 1) or '1type' as a synonym of type is deprecated; in a future version of numpy, it will be understood as (type, (1,)) / '(1,)type'.\n",
      "  _np_qint8 = np.dtype([(\"qint8\", np.int8, 1)])\n",
      "/home/sean/anaconda3/envs/tf-gpu-cuda8/lib/python3.7/site-packages/tensorflow/python/framework/dtypes.py:517: FutureWarning: Passing (type, 1) or '1type' as a synonym of type is deprecated; in a future version of numpy, it will be understood as (type, (1,)) / '(1,)type'.\n",
      "  _np_quint8 = np.dtype([(\"quint8\", np.uint8, 1)])\n",
      "/home/sean/anaconda3/envs/tf-gpu-cuda8/lib/python3.7/site-packages/tensorflow/python/framework/dtypes.py:518: FutureWarning: Passing (type, 1) or '1type' as a synonym of type is deprecated; in a future version of numpy, it will be understood as (type, (1,)) / '(1,)type'.\n",
      "  _np_qint16 = np.dtype([(\"qint16\", np.int16, 1)])\n",
      "/home/sean/anaconda3/envs/tf-gpu-cuda8/lib/python3.7/site-packages/tensorflow/python/framework/dtypes.py:519: FutureWarning: Passing (type, 1) or '1type' as a synonym of type is deprecated; in a future version of numpy, it will be understood as (type, (1,)) / '(1,)type'.\n",
      "  _np_quint16 = np.dtype([(\"quint16\", np.uint16, 1)])\n",
      "/home/sean/anaconda3/envs/tf-gpu-cuda8/lib/python3.7/site-packages/tensorflow/python/framework/dtypes.py:520: FutureWarning: Passing (type, 1) or '1type' as a synonym of type is deprecated; in a future version of numpy, it will be understood as (type, (1,)) / '(1,)type'.\n",
      "  _np_qint32 = np.dtype([(\"qint32\", np.int32, 1)])\n",
      "/home/sean/anaconda3/envs/tf-gpu-cuda8/lib/python3.7/site-packages/tensorflow/python/framework/dtypes.py:525: FutureWarning: Passing (type, 1) or '1type' as a synonym of type is deprecated; in a future version of numpy, it will be understood as (type, (1,)) / '(1,)type'.\n",
      "  np_resource = np.dtype([(\"resource\", np.ubyte, 1)])\n",
      "/home/sean/anaconda3/envs/tf-gpu-cuda8/lib/python3.7/site-packages/tensorboard/compat/tensorflow_stub/dtypes.py:541: FutureWarning: Passing (type, 1) or '1type' as a synonym of type is deprecated; in a future version of numpy, it will be understood as (type, (1,)) / '(1,)type'.\n",
      "  _np_qint8 = np.dtype([(\"qint8\", np.int8, 1)])\n",
      "/home/sean/anaconda3/envs/tf-gpu-cuda8/lib/python3.7/site-packages/tensorboard/compat/tensorflow_stub/dtypes.py:542: FutureWarning: Passing (type, 1) or '1type' as a synonym of type is deprecated; in a future version of numpy, it will be understood as (type, (1,)) / '(1,)type'.\n",
      "  _np_quint8 = np.dtype([(\"quint8\", np.uint8, 1)])\n",
      "/home/sean/anaconda3/envs/tf-gpu-cuda8/lib/python3.7/site-packages/tensorboard/compat/tensorflow_stub/dtypes.py:543: FutureWarning: Passing (type, 1) or '1type' as a synonym of type is deprecated; in a future version of numpy, it will be understood as (type, (1,)) / '(1,)type'.\n",
      "  _np_qint16 = np.dtype([(\"qint16\", np.int16, 1)])\n",
      "/home/sean/anaconda3/envs/tf-gpu-cuda8/lib/python3.7/site-packages/tensorboard/compat/tensorflow_stub/dtypes.py:544: FutureWarning: Passing (type, 1) or '1type' as a synonym of type is deprecated; in a future version of numpy, it will be understood as (type, (1,)) / '(1,)type'.\n",
      "  _np_quint16 = np.dtype([(\"quint16\", np.uint16, 1)])\n",
      "/home/sean/anaconda3/envs/tf-gpu-cuda8/lib/python3.7/site-packages/tensorboard/compat/tensorflow_stub/dtypes.py:545: FutureWarning: Passing (type, 1) or '1type' as a synonym of type is deprecated; in a future version of numpy, it will be understood as (type, (1,)) / '(1,)type'.\n",
      "  _np_qint32 = np.dtype([(\"qint32\", np.int32, 1)])\n",
      "/home/sean/anaconda3/envs/tf-gpu-cuda8/lib/python3.7/site-packages/tensorboard/compat/tensorflow_stub/dtypes.py:550: FutureWarning: Passing (type, 1) or '1type' as a synonym of type is deprecated; in a future version of numpy, it will be understood as (type, (1,)) / '(1,)type'.\n",
      "  np_resource = np.dtype([(\"resource\", np.ubyte, 1)])\n"
     ]
    }
   ],
   "source": [
    "import tensorflow as tf \n",
    "from tensorflow import keras\n",
    "from tensorflow.keras import layers \n",
    "from tensorflow.keras import models \n",
    "import numpy as np\n",
    "import matplotlib.pyplot as plt "
   ]
  },
  {
   "cell_type": "code",
   "execution_count": 2,
   "metadata": {},
   "outputs": [],
   "source": [
    "from tensorflow.keras.datasets import imdb"
   ]
  },
  {
   "cell_type": "markdown",
   "metadata": {},
   "source": [
    "Following along with the book Deep Learning with Python by Francois Chollet, \n",
    "determining positive or negative reviews\n"
   ]
  },
  {
   "cell_type": "code",
   "execution_count": 3,
   "metadata": {},
   "outputs": [
    {
     "name": "stderr",
     "output_type": "stream",
     "text": [
      "/home/sean/anaconda3/envs/tf-gpu-cuda8/lib/python3.7/site-packages/tensorflow/python/keras/datasets/imdb.py:128: VisibleDeprecationWarning: Creating an ndarray from ragged nested sequences (which is a list-or-tuple of lists-or-tuples-or ndarrays with different lengths or shapes) is deprecated. If you meant to do this, you must specify 'dtype=object' when creating the ndarray.\n",
      "  x_train, y_train = np.array(xs[:idx]), np.array(labels[:idx])\n",
      "/home/sean/anaconda3/envs/tf-gpu-cuda8/lib/python3.7/site-packages/tensorflow/python/keras/datasets/imdb.py:129: VisibleDeprecationWarning: Creating an ndarray from ragged nested sequences (which is a list-or-tuple of lists-or-tuples-or ndarrays with different lengths or shapes) is deprecated. If you meant to do this, you must specify 'dtype=object' when creating the ndarray.\n",
      "  x_test, y_test = np.array(xs[idx:]), np.array(labels[idx:])\n"
     ]
    }
   ],
   "source": [
    "(train_data,train_labels),(test_data,test_labels) = imdb.load_data(num_words= 10000)"
   ]
  },
  {
   "cell_type": "code",
   "execution_count": 4,
   "metadata": {},
   "outputs": [],
   "source": [
    "word_index = imdb.get_word_index()"
   ]
  },
  {
   "cell_type": "markdown",
   "metadata": {},
   "source": [
    "### List decoding \n",
    "The imdb reviews are encoded so that the 10,000 most common words are given an integer each, and then the review is turned into a list. The dictionary which references this is word_index.items()\n",
    "The function below, decodes a single review.\n"
   ]
  },
  {
   "cell_type": "code",
   "execution_count": 5,
   "metadata": {},
   "outputs": [],
   "source": [
    "def Review_decode(review_index):\n",
    "    reverse_word_index = dict(\n",
    "        [(value, key) for (key,value) in word_index.items()])\n",
    "    decoced_review = ' '.join(\n",
    "    reverse_word_index.get(i-3,'?') for i in train_data [review_index]\n",
    "    )\n",
    "    return decoced_review"
   ]
  },
  {
   "cell_type": "markdown",
   "metadata": {},
   "source": [
    "In order to input the reviews into a neural net in keras there are two options to vectorise the imput. Either have padded lists which have length = max length of the review. \n",
    "or each review can be encoded into a matrix of 10,000 x number words in review, where the inputs are one-hot. "
   ]
  },
  {
   "cell_type": "code",
   "execution_count": 6,
   "metadata": {},
   "outputs": [],
   "source": [
    "def vectorise_sequence(sequences, dimention = 10000):\n",
    "    results = np.zeros((len(sequences), dimention))\n",
    "    for i, sequence in enumerate(sequences):\n",
    "        results[i,sequence] = 1\n",
    "    return results\n",
    "    "
   ]
  },
  {
   "cell_type": "code",
   "execution_count": 7,
   "metadata": {},
   "outputs": [],
   "source": [
    "x_train = vectorise_sequence(train_data)\n",
    "x_test = vectorise_sequence(test_data)\n"
   ]
  },
  {
   "cell_type": "code",
   "execution_count": 8,
   "metadata": {},
   "outputs": [],
   "source": [
    "y_train = np.asarray(train_labels).astype(\"float32\")\n",
    "y_test = np.asarray(test_labels).astype(\"float32\")"
   ]
  },
  {
   "cell_type": "code",
   "execution_count": 9,
   "metadata": {},
   "outputs": [
    {
     "name": "stdout",
     "output_type": "stream",
     "text": [
      "WARNING:tensorflow:From /home/sean/anaconda3/envs/tf-gpu-cuda8/lib/python3.7/site-packages/tensorflow/python/ops/init_ops.py:1251: calling VarianceScaling.__init__ (from tensorflow.python.ops.init_ops) with dtype is deprecated and will be removed in a future version.\n",
      "Instructions for updating:\n",
      "Call initializer instance with the dtype argument instead of passing it to the constructor\n"
     ]
    }
   ],
   "source": [
    "model = models.Sequential()\n",
    "model.add(layers.Dense(16,activation='relu',input_shape = (10000,)))\n",
    "model.add(layers.Dense(16,activation= 'relu'))\n",
    "model.add(layers.Dense(1,activation='sigmoid'))"
   ]
  },
  {
   "cell_type": "code",
   "execution_count": 10,
   "metadata": {},
   "outputs": [
    {
     "name": "stdout",
     "output_type": "stream",
     "text": [
      "WARNING:tensorflow:From /home/sean/anaconda3/envs/tf-gpu-cuda8/lib/python3.7/site-packages/tensorflow/python/ops/nn_impl.py:180: add_dispatch_support.<locals>.wrapper (from tensorflow.python.ops.array_ops) is deprecated and will be removed in a future version.\n",
      "Instructions for updating:\n",
      "Use tf.where in 2.0, which has the same broadcast rule as np.where\n"
     ]
    }
   ],
   "source": [
    "model.compile(optimizer='rmsprop',loss='binary_crossentropy',metrics=['accuracy'])"
   ]
  },
  {
   "cell_type": "code",
   "execution_count": 11,
   "metadata": {},
   "outputs": [],
   "source": [
    "x_val = x_train[:10000]\n",
    "partial_x_train = x_train[10000:]\n",
    "y_val = y_train[:10000]\n",
    "partial_y_train = y_train[10000:]"
   ]
  },
  {
   "cell_type": "code",
   "execution_count": 12,
   "metadata": {},
   "outputs": [
    {
     "name": "stdout",
     "output_type": "stream",
     "text": [
      "Train on 15000 samples, validate on 10000 samples\n"
     ]
    },
    {
     "name": "stderr",
     "output_type": "stream",
     "text": [
      "2021-10-07 15:20:50.756832: I tensorflow/core/platform/cpu_feature_guard.cc:142] Your CPU supports instructions that this TensorFlow binary was not compiled to use: SSE4.1 SSE4.2 AVX AVX2 FMA\n",
      "2021-10-07 15:20:50.777594: I tensorflow/core/platform/profile_utils/cpu_utils.cc:94] CPU Frequency: 3700055000 Hz\n",
      "2021-10-07 15:20:50.778205: I tensorflow/compiler/xla/service/service.cc:168] XLA service 0x55696ced4c50 executing computations on platform Host. Devices:\n",
      "2021-10-07 15:20:50.778225: I tensorflow/compiler/xla/service/service.cc:175]   StreamExecutor device (0): <undefined>, <undefined>\n",
      "2021-10-07 15:20:50.778808: I tensorflow/stream_executor/platform/default/dso_loader.cc:42] Successfully opened dynamic library libcuda.so.1\n",
      "2021-10-07 15:20:50.801623: I tensorflow/stream_executor/cuda/cuda_gpu_executor.cc:1005] successful NUMA node read from SysFS had negative value (-1), but there must be at least one NUMA node, so returning NUMA node zero\n",
      "2021-10-07 15:20:50.801900: I tensorflow/core/common_runtime/gpu/gpu_device.cc:1640] Found device 0 with properties: \n",
      "name: NVIDIA GeForce GTX 970 major: 5 minor: 2 memoryClockRate(GHz): 1.253\n",
      "pciBusID: 0000:2b:00.0\n",
      "2021-10-07 15:20:50.802049: I tensorflow/stream_executor/platform/default/dso_loader.cc:42] Successfully opened dynamic library libcudart.so.9.0\n",
      "2021-10-07 15:20:50.802611: I tensorflow/stream_executor/platform/default/dso_loader.cc:42] Successfully opened dynamic library libcublas.so.9.0\n",
      "2021-10-07 15:20:50.803322: I tensorflow/stream_executor/platform/default/dso_loader.cc:42] Successfully opened dynamic library libcufft.so.9.0\n",
      "2021-10-07 15:20:50.803482: I tensorflow/stream_executor/platform/default/dso_loader.cc:42] Successfully opened dynamic library libcurand.so.9.0\n",
      "2021-10-07 15:20:50.804146: I tensorflow/stream_executor/platform/default/dso_loader.cc:42] Successfully opened dynamic library libcusolver.so.9.0\n",
      "2021-10-07 15:20:50.804752: I tensorflow/stream_executor/platform/default/dso_loader.cc:42] Successfully opened dynamic library libcusparse.so.9.0\n",
      "2021-10-07 15:20:50.806515: I tensorflow/stream_executor/platform/default/dso_loader.cc:42] Successfully opened dynamic library libcudnn.so.7\n",
      "2021-10-07 15:20:50.806593: I tensorflow/stream_executor/cuda/cuda_gpu_executor.cc:1005] successful NUMA node read from SysFS had negative value (-1), but there must be at least one NUMA node, so returning NUMA node zero\n",
      "2021-10-07 15:20:50.806902: I tensorflow/stream_executor/cuda/cuda_gpu_executor.cc:1005] successful NUMA node read from SysFS had negative value (-1), but there must be at least one NUMA node, so returning NUMA node zero\n",
      "2021-10-07 15:20:50.807142: I tensorflow/core/common_runtime/gpu/gpu_device.cc:1763] Adding visible gpu devices: 0\n",
      "2021-10-07 15:20:50.807168: I tensorflow/stream_executor/platform/default/dso_loader.cc:42] Successfully opened dynamic library libcudart.so.9.0\n",
      "2021-10-07 15:20:50.828149: I tensorflow/core/common_runtime/gpu/gpu_device.cc:1181] Device interconnect StreamExecutor with strength 1 edge matrix:\n",
      "2021-10-07 15:20:50.828167: I tensorflow/core/common_runtime/gpu/gpu_device.cc:1187]      0 \n",
      "2021-10-07 15:20:50.828172: I tensorflow/core/common_runtime/gpu/gpu_device.cc:1200] 0:   N \n",
      "2021-10-07 15:20:50.828288: I tensorflow/stream_executor/cuda/cuda_gpu_executor.cc:1005] successful NUMA node read from SysFS had negative value (-1), but there must be at least one NUMA node, so returning NUMA node zero\n",
      "2021-10-07 15:20:50.828526: I tensorflow/stream_executor/cuda/cuda_gpu_executor.cc:1005] successful NUMA node read from SysFS had negative value (-1), but there must be at least one NUMA node, so returning NUMA node zero\n",
      "2021-10-07 15:20:50.828725: I tensorflow/stream_executor/cuda/cuda_gpu_executor.cc:1005] successful NUMA node read from SysFS had negative value (-1), but there must be at least one NUMA node, so returning NUMA node zero\n",
      "2021-10-07 15:20:50.828913: I tensorflow/core/common_runtime/gpu/gpu_device.cc:1326] Created TensorFlow device (/job:localhost/replica:0/task:0/device:GPU:0 with 3053 MB memory) -> physical GPU (device: 0, name: NVIDIA GeForce GTX 970, pci bus id: 0000:2b:00.0, compute capability: 5.2)\n",
      "2021-10-07 15:20:50.829732: I tensorflow/compiler/xla/service/service.cc:168] XLA service 0x556975d417b0 executing computations on platform CUDA. Devices:\n",
      "2021-10-07 15:20:50.829740: I tensorflow/compiler/xla/service/service.cc:175]   StreamExecutor device (0): NVIDIA GeForce GTX 970, Compute Capability 5.2\n"
     ]
    },
    {
     "name": "stdout",
     "output_type": "stream",
     "text": [
      "Epoch 1/20\n",
      " 4608/15000 [========>.....................] - ETA: 0s - loss: 0.6327 - acc: 0.6495"
     ]
    },
    {
     "name": "stderr",
     "output_type": "stream",
     "text": [
      "2021-10-07 15:20:51.099557: I tensorflow/stream_executor/platform/default/dso_loader.cc:42] Successfully opened dynamic library libcublas.so.9.0\n"
     ]
    },
    {
     "name": "stdout",
     "output_type": "stream",
     "text": [
      "15000/15000 [==============================] - 1s 50us/sample - loss: 0.5114 - acc: 0.7788 - val_loss: 0.3951 - val_acc: 0.8561\n",
      "Epoch 2/20\n",
      "15000/15000 [==============================] - 1s 37us/sample - loss: 0.3056 - acc: 0.9015 - val_loss: 0.3123 - val_acc: 0.8791\n",
      "Epoch 3/20\n",
      "15000/15000 [==============================] - 1s 34us/sample - loss: 0.2224 - acc: 0.9281 - val_loss: 0.2779 - val_acc: 0.8907\n",
      "Epoch 4/20\n",
      "15000/15000 [==============================] - 1s 39us/sample - loss: 0.1784 - acc: 0.9412 - val_loss: 0.2782 - val_acc: 0.8876\n",
      "Epoch 5/20\n",
      "15000/15000 [==============================] - 1s 35us/sample - loss: 0.1435 - acc: 0.9541 - val_loss: 0.2803 - val_acc: 0.8886\n",
      "Epoch 6/20\n",
      "15000/15000 [==============================] - 0s 33us/sample - loss: 0.1200 - acc: 0.9629 - val_loss: 0.2919 - val_acc: 0.8866\n",
      "Epoch 7/20\n",
      "15000/15000 [==============================] - 1s 38us/sample - loss: 0.1016 - acc: 0.9695 - val_loss: 0.3132 - val_acc: 0.8825\n",
      "Epoch 8/20\n",
      "15000/15000 [==============================] - 0s 33us/sample - loss: 0.0826 - acc: 0.9777 - val_loss: 0.3282 - val_acc: 0.8820\n",
      "Epoch 9/20\n",
      "15000/15000 [==============================] - 1s 37us/sample - loss: 0.0694 - acc: 0.9817 - val_loss: 0.3554 - val_acc: 0.8797\n",
      "Epoch 10/20\n",
      "15000/15000 [==============================] - 1s 38us/sample - loss: 0.0582 - acc: 0.9851 - val_loss: 0.3807 - val_acc: 0.8769\n",
      "Epoch 11/20\n",
      "15000/15000 [==============================] - 1s 41us/sample - loss: 0.0478 - acc: 0.9881 - val_loss: 0.4382 - val_acc: 0.8675\n",
      "Epoch 12/20\n",
      "15000/15000 [==============================] - 1s 44us/sample - loss: 0.0379 - acc: 0.9914 - val_loss: 0.4300 - val_acc: 0.8741\n",
      "Epoch 13/20\n",
      "15000/15000 [==============================] - 1s 40us/sample - loss: 0.0314 - acc: 0.9936 - val_loss: 0.4593 - val_acc: 0.8714\n",
      "Epoch 14/20\n",
      "15000/15000 [==============================] - 0s 33us/sample - loss: 0.0252 - acc: 0.9953 - val_loss: 0.5181 - val_acc: 0.8675\n",
      "Epoch 15/20\n",
      "15000/15000 [==============================] - 1s 39us/sample - loss: 0.0213 - acc: 0.9962 - val_loss: 0.5278 - val_acc: 0.8709\n",
      "Epoch 16/20\n",
      "15000/15000 [==============================] - 1s 39us/sample - loss: 0.0176 - acc: 0.9971 - val_loss: 0.5599 - val_acc: 0.8710\n",
      "Epoch 17/20\n",
      "15000/15000 [==============================] - 1s 35us/sample - loss: 0.0103 - acc: 0.9994 - val_loss: 0.5965 - val_acc: 0.8686\n",
      "Epoch 18/20\n",
      "15000/15000 [==============================] - 1s 37us/sample - loss: 0.0129 - acc: 0.9980 - val_loss: 0.6394 - val_acc: 0.8656\n",
      "Epoch 19/20\n",
      "15000/15000 [==============================] - 0s 32us/sample - loss: 0.0095 - acc: 0.9985 - val_loss: 0.6595 - val_acc: 0.8659\n",
      "Epoch 20/20\n",
      "15000/15000 [==============================] - 0s 32us/sample - loss: 0.0051 - acc: 0.9999 - val_loss: 0.6997 - val_acc: 0.8642\n"
     ]
    },
    {
     "data": {
      "text/plain": [
       "dict_keys(['loss', 'acc', 'val_loss', 'val_acc'])"
      ]
     },
     "execution_count": 12,
     "metadata": {},
     "output_type": "execute_result"
    }
   ],
   "source": [
    "history = model.fit(partial_x_train,partial_y_train,epochs= 20,batch_size=512,validation_data=(x_val,y_val))\n",
    "history_dict = history.history\n",
    "history_dict.keys()"
   ]
  },
  {
   "cell_type": "markdown",
   "metadata": {},
   "source": [
    "## Loss function \n",
    "This is plotting binary cross entropy, on the training data and the validation data. I think this is a classic example of overtraining, where the loss function is minimised for the small data set and the true loss on the whole data set is increasing \n"
   ]
  },
  {
   "cell_type": "code",
   "execution_count": 13,
   "metadata": {},
   "outputs": [
    {
     "data": {
      "text/plain": [
       "Text(0, 0.5, 'Loss')"
      ]
     },
     "execution_count": 13,
     "metadata": {},
     "output_type": "execute_result"
    },
    {
     "data": {
      "image/png": "[encoded data removed]",
      "text/plain": [
       "<Figure size 432x288 with 1 Axes>"
      ]
     },
     "metadata": {
      "needs_background": "light"
     },
     "output_type": "display_data"
    }
   ],
   "source": [
    "\n",
    "loss = history_dict['loss']\n",
    "val_loss_values = history_dict['val_loss']#\n",
    "\n",
    "\n",
    "epochs = range(1,len(history_dict['acc'])+1)\n",
    "\n",
    "\n",
    "##Plotting \n",
    "plt.plot(epochs, val_loss_values,'b',label ='Validation loss')\n",
    "plt.plot(epochs, loss,'bo',label ='Training loss')\n",
    "plt.legend()\n",
    "plt.xlabel('Epochs')\n",
    "plt.ylabel('Loss')"
   ]
  },
  {
   "cell_type": "markdown",
   "metadata": {},
   "source": [
    "## Accuracy Plotting \n",
    "This further show the overtraining where the accuracy decreases to 87% but the accuracy on the training data is much higher at 99% \n"
   ]
  },
  {
   "cell_type": "code",
   "execution_count": 14,
   "metadata": {},
   "outputs": [
    {
     "name": "stdout",
     "output_type": "stream",
     "text": [
      "0.8642\n"
     ]
    },
    {
     "data": {
      "text/plain": [
       "Text(0, 0.5, 'Accuraccy')"
      ]
     },
     "execution_count": 14,
     "metadata": {},
     "output_type": "execute_result"
    },
    {
     "data": {
      "image/png": "[encoded data removed]",
      "text/plain": [
       "<Figure size 432x288 with 1 Axes>"
      ]
     },
     "metadata": {
      "needs_background": "light"
     },
     "output_type": "display_data"
    }
   ],
   "source": [
    "acc_values = history_dict['acc']\n",
    "val_acc_values = history_dict['val_acc']\n",
    "print(val_acc_values[-1])\n",
    "\n",
    "plt.plot(epochs,acc_values,'bo')\n",
    "plt.plot(epochs,val_acc_values)\n",
    "plt.xlabel('Epochs')\n",
    "plt.ylabel('Accuraccy')"
   ]
  },
  {
   "cell_type": "markdown",
   "metadata": {},
   "source": [
    "The model predict function I think is doing something close to soft max where there is a pdf of the output, this gives you the probability that a review is positive "
   ]
  },
  {
   "cell_type": "code",
   "execution_count": 15,
   "metadata": {},
   "outputs": [
    {
     "data": {
      "text/plain": [
       "array([[5.5735111e-03],\n",
       "       [9.9999774e-01],\n",
       "       [6.1487997e-01],\n",
       "       [9.6001732e-01],\n",
       "       [9.9643987e-01],\n",
       "       [9.9869442e-01],\n",
       "       [9.6816242e-01],\n",
       "       [2.3841858e-06],\n",
       "       [8.5792392e-01],\n",
       "       [9.9999881e-01]], dtype=float32)"
      ]
     },
     "execution_count": 15,
     "metadata": {},
     "output_type": "execute_result"
    }
   ],
   "source": [
    "model.predict(x_test)[:10]"
   ]
  },
  {
   "cell_type": "markdown",
   "metadata": {},
   "source": [
    "Below is a test on what happens when I remove a layer \n",
    "I maintiained the similar accuracy when changing some of the parameters, the standadrd deviation on the accuracy increases. \n"
   ]
  },
  {
   "cell_type": "code",
   "execution_count": 16,
   "metadata": {},
   "outputs": [],
   "source": [
    "model_prime = models.Sequential()\n",
    "model_prime.add(layers.Dense(128,activation='relu',input_shape = (10000,)))\n",
    "model_prime.add(layers.Dense(128,activation= 'relu'))\n",
    "model_prime.add(layers.Dense(1,activation='sigmoid'))\n",
    "model_prime.compile(optimizer='rmsprop',loss='binary_crossentropy',metrics=['accuracy'])"
   ]
  },
  {
   "cell_type": "code",
   "execution_count": 17,
   "metadata": {},
   "outputs": [
    {
     "name": "stdout",
     "output_type": "stream",
     "text": [
      "Train on 15000 samples, validate on 10000 samples\n",
      "Epoch 1/20\n",
      "15000/15000 [==============================] - 1s 46us/sample - loss: 0.4967 - acc: 0.7637 - val_loss: 0.3292 - val_acc: 0.8720\n",
      "Epoch 2/20\n",
      "15000/15000 [==============================] - 1s 37us/sample - loss: 0.2604 - acc: 0.9006 - val_loss: 0.2723 - val_acc: 0.8924\n",
      "Epoch 3/20\n",
      "15000/15000 [==============================] - 1s 36us/sample - loss: 0.1866 - acc: 0.9315 - val_loss: 0.2909 - val_acc: 0.8883\n",
      "Epoch 4/20\n",
      "15000/15000 [==============================] - 1s 43us/sample - loss: 0.1263 - acc: 0.9520 - val_loss: 0.3032 - val_acc: 0.8854\n",
      "Epoch 5/20\n",
      "15000/15000 [==============================] - 1s 36us/sample - loss: 0.0833 - acc: 0.9706 - val_loss: 0.4576 - val_acc: 0.8576\n",
      "Epoch 6/20\n",
      "15000/15000 [==============================] - 1s 37us/sample - loss: 0.0639 - acc: 0.9798 - val_loss: 0.3769 - val_acc: 0.8816\n",
      "Epoch 7/20\n",
      "15000/15000 [==============================] - 1s 38us/sample - loss: 0.0511 - acc: 0.9853 - val_loss: 0.3769 - val_acc: 0.8837\n",
      "Epoch 8/20\n",
      "15000/15000 [==============================] - 1s 38us/sample - loss: 0.0082 - acc: 0.9993 - val_loss: 0.4877 - val_acc: 0.8814\n",
      "Epoch 9/20\n",
      "15000/15000 [==============================] - 1s 38us/sample - loss: 0.0710 - acc: 0.9854 - val_loss: 0.4795 - val_acc: 0.8774\n",
      "Epoch 10/20\n",
      "15000/15000 [==============================] - 1s 38us/sample - loss: 0.0027 - acc: 0.9999 - val_loss: 0.5364 - val_acc: 0.8829\n",
      "Epoch 11/20\n",
      "15000/15000 [==============================] - 1s 35us/sample - loss: 0.0011 - acc: 1.0000 - val_loss: 0.6176 - val_acc: 0.8820\n",
      "Epoch 12/20\n",
      "15000/15000 [==============================] - 1s 36us/sample - loss: 4.8178e-04 - acc: 1.0000 - val_loss: 0.7176 - val_acc: 0.8782\n",
      "Epoch 13/20\n",
      "15000/15000 [==============================] - 1s 37us/sample - loss: 0.0942 - acc: 0.9865 - val_loss: 0.6920 - val_acc: 0.8802\n",
      "Epoch 14/20\n",
      "15000/15000 [==============================] - 1s 37us/sample - loss: 1.6337e-04 - acc: 1.0000 - val_loss: 0.7229 - val_acc: 0.8810\n",
      "Epoch 15/20\n",
      "15000/15000 [==============================] - 1s 39us/sample - loss: 1.0788e-04 - acc: 1.0000 - val_loss: 0.7637 - val_acc: 0.8795\n",
      "Epoch 16/20\n",
      "15000/15000 [==============================] - 1s 37us/sample - loss: 6.7398e-05 - acc: 1.0000 - val_loss: 0.8222 - val_acc: 0.8786\n",
      "Epoch 17/20\n",
      "15000/15000 [==============================] - 1s 41us/sample - loss: 3.4823e-05 - acc: 1.0000 - val_loss: 0.9046 - val_acc: 0.8773\n",
      "Epoch 18/20\n",
      "15000/15000 [==============================] - 1s 39us/sample - loss: 1.4362e-05 - acc: 1.0000 - val_loss: 0.9954 - val_acc: 0.8772\n",
      "Epoch 19/20\n",
      "15000/15000 [==============================] - 1s 44us/sample - loss: 0.0260 - acc: 0.9969 - val_loss: 1.3948 - val_acc: 0.8476\n",
      "Epoch 20/20\n",
      "15000/15000 [==============================] - 1s 41us/sample - loss: 0.0018 - acc: 0.9997 - val_loss: 1.0334 - val_acc: 0.8766\n"
     ]
    }
   ],
   "source": [
    "history_prime = model_prime.fit(partial_x_train,partial_y_train,epochs= 20,batch_size=512,validation_data=(x_val,y_val))"
   ]
  },
  {
   "cell_type": "code",
   "execution_count": 18,
   "metadata": {},
   "outputs": [
    {
     "name": "stdout",
     "output_type": "stream",
     "text": [
      "0.8766\n"
     ]
    },
    {
     "data": {
      "text/plain": [
       "Text(0, 0.5, 'Accuracy')"
      ]
     },
     "execution_count": 18,
     "metadata": {},
     "output_type": "execute_result"
    },
    {
     "data": {
      "image/png": "[encoded data removed]",
      "text/plain": [
       "<Figure size 432x288 with 1 Axes>"
      ]
     },
     "metadata": {
      "needs_background": "light"
     },
     "output_type": "display_data"
    }
   ],
   "source": [
    "history_dict = history_prime.history\n",
    "history_dict.keys()\n",
    "acc_values = history_dict['acc']\n",
    "val_acc_values = history_dict['val_acc']\n",
    "print(val_acc_values[-1])\n",
    "\n",
    "plt.plot(epochs,acc_values,'bo')\n",
    "plt.plot(epochs,val_acc_values)\n",
    "plt.xlabel('Epochs')\n",
    "plt.ylabel('Accuracy')"
   ]
  },
  {
   "cell_type": "code",
   "execution_count": null,
   "metadata": {},
   "outputs": [],
   "source": []
  },
  {
   "cell_type": "code",
   "execution_count": null,
   "metadata": {},
   "outputs": [],
   "source": []
  },
  {
   "cell_type": "code",
   "execution_count": null,
   "metadata": {},
   "outputs": [],
   "source": []
  }
 ],
 "metadata": {
  "interpreter": {
   "hash": "747e10b70f6080f0bd7f506f4a278cc40a2da2e2842866c9e118e4fa0fbc3bf4"
  },
  "kernelspec": {
   "display_name": "Python 3.7.11 64-bit ('tf-gpu-cuda8': conda)",
   "name": "python3"
  },
  "language_info": {
   "codemirror_mode": {
    "name": "ipython",
    "version": 3
   },
   "file_extension": ".py",
   "mimetype": "text/x-python",
   "name": "python",
   "nbconvert_exporter": "python",
   "pygments_lexer": "ipython3",
   "version": "3.7.11"
  },
  "orig_nbformat": 4
 },
 "nbformat": 4,
 "nbformat_minor": 2
}
