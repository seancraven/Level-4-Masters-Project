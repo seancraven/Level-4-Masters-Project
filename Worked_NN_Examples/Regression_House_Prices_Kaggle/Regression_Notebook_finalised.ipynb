{
 "cells": [
  {
   "cell_type": "code",
   "execution_count": 78,
   "metadata": {},
   "outputs": [],
   "source": [
    "import tensorflow as tf \n",
    "from tensorflow import keras\n",
    "from tensorflow.keras import layers \n",
    "from tensorflow.keras import models \n",
    "import numpy as np\n",
    "import matplotlib.pyplot as plt \n",
    "import pandas as pd\n",
    "from scipy.stats import lognorm\n",
    "from scipy.stats import norm"
   ]
  },
  {
   "cell_type": "code",
   "execution_count": 79,
   "metadata": {},
   "outputs": [],
   "source": [
    "train_data = pd.read_csv('./train.csv')\n",
    "test_data = pd.read_csv('./test.csv')\n",
    "cut = 1300\n",
    "train_data_x , train_data_y  = train_data.iloc[:cut,1:-1].copy(), train_data.iloc[:cut,-1].copy()\n",
    "val_data_x , val_data_y = train_data.iloc[cut:,1:-1].copy(), train_data.iloc[cut:,-1].copy()\n",
    "test_data_x  = test_data\n"
   ]
  },
  {
   "cell_type": "code",
   "execution_count": 80,
   "metadata": {},
   "outputs": [],
   "source": [
    "\n",
    "##Un hash comments to eliminate the percentile you want, was not found to be usefull.\n",
    "##excluding top 5%\n",
    "#index = np.where(train_data_y < np.percentile(train_data_y,99))\n",
    "\n",
    "#train_data_y , train_data_x    = train_data_y.iloc[index], train_data_x.iloc[index]\n",
    "#train_data_x  = np.delete(train_data_x,drop_index)"
   ]
  },
  {
   "cell_type": "code",
   "execution_count": 81,
   "metadata": {},
   "outputs": [],
   "source": [
    "\n",
    "def gaus(x, mean,std):##Gaussian\n",
    "    return 1/(std*(2*np.pi)**0.5)*np.exp(-0.5*((x-mean)/std)**2)\n",
    "\n",
    "def bin_bisect(bins):## Bin Bisector, finds the midpoints of histogram bins\n",
    "    bisects = np.zeros(len(bins)-1)\n",
    "    for i in range(len(bins)-1):\n",
    "        bisects[i] = (bins[i]+bins[i+1])/2\n",
    "    return(bisects)\n",
    "\n",
    "def rss(observed,expected):##Residual sum of squares. Provides a metric for fit quality\n",
    "    return(np.sum((observed-expected)**2))"
   ]
  },
  {
   "cell_type": "code",
   "execution_count": 82,
   "metadata": {},
   "outputs": [
    {
     "name": "stdout",
     "output_type": "stream",
     "text": [
      "180983.51461538463\n",
      "1.2151782995734465e-11\n",
      "1.5721638628623447e-10\n"
     ]
    },
    {
     "data": {
      "image/png": "[encoded data removed]",
      "text/plain": [
       "<Figure size 720x360 with 1 Axes>"
      ]
     },
     "metadata": {
      "needs_background": "light"
     },
     "output_type": "display_data"
    }
   ],
   "source": [
    "fig = plt.figure(figsize=(10,5))\n",
    "vals, bins , _ = plt.hist(train_data_y,50, density= True, color = 'black', alpha = 0.3)\n",
    "\n",
    "## Quantities for fitting the PDFs to the histogram \n",
    "bin_bisects = bin_bisect(bins)\n",
    "sigma, mean, scale = lognorm.fit(train_data_y)\n",
    "sigma_norm, mean_norm = np.mean(train_data_y), np.std(train_data_y)\n",
    "fit_norm = gaus(bin_bisects,mean_norm,sigma_norm)\n",
    "fit = lognorm.pdf(bin_bisects, sigma, scale = scale)\n",
    "#print(np.mean(train_data_y))\n",
    "\n",
    "\n",
    "##Plotting \n",
    "plt.plot(bin_bisects, fit, c = 'black', label = 'Log-Norm')\n",
    "plt.plot(bin_bisects, fit_norm, c = 'black',linestyle = '--', label = 'Normal')\n",
    "plt.xticks(range(0,800000,100000),range(0,800,100))\n",
    "plt.xlabel('House Price ($1000)')\n",
    "plt.ylabel('Frequency Density')\n",
    "## Fits \n",
    "print(rss(vals,fit))\n",
    "print(rss(vals,fit_norm))\n",
    "plt.legend()\n",
    "fig.savefig('../Kaggle_Housing_Figures/Data_Dist.png',dpi = 300)"
   ]
  },
  {
   "cell_type": "code",
   "execution_count": 83,
   "metadata": {},
   "outputs": [
    {
     "name": "stdout",
     "output_type": "stream",
     "text": [
      "80199.81680683528\n",
      "4601.555635979909\n"
     ]
    }
   ],
   "source": [
    "###Finding MAE with random variables distributed according to the pdf \n",
    "\n",
    "random_variable = lognorm.rvs(sigma,loc = mean,size = len(val_data_y)*1000,scale = scale)\n",
    "rv_mean = np.zeros(1000)\n",
    "for i in range(1000):\n",
    "    chunk = random_variable[160*i:160*(i+1)]\n",
    "    rv_mean[i] = np.mean(abs(val_data_y -random_variable[160*i:160*(i+1)]))\n",
    "\n",
    "print(np.mean(rv_mean))##Random basline MAE\n",
    "print(np.std(rv_mean))##Variance on the Random MAE"
   ]
  },
  {
   "cell_type": "code",
   "execution_count": 84,
   "metadata": {},
   "outputs": [],
   "source": [
    "def atributes_to_int(series):## Field with N different strings or truth values are converted to integers and normalised to the range 0-1\n",
    "    unique_ent = pd.unique(series)\n",
    "    num_unique_ent = len(unique_ent)\n",
    "    for i in range(num_unique_ent):\n",
    "        index = np.where(unique_ent[i] == series)\n",
    "        series.iloc[index] = i\n",
    "    return series/num_unique_ent ### I divided by the number of unique entries so that all the values in the input columns are between 0-1\n",
    "\n",
    "def normalise(series):## Normalise a float/ integer input to the range [-1,1] ish \n",
    "    mean = np.mean(series)\n",
    "    std = np.std(series)\n",
    "    if std == 0:\n",
    "        return (series - mean)\n",
    "    else:\n",
    "        return((series - mean)/std)\n",
    "\n",
    "def column_processor(series):##determines which normalisation process is applied to each column\n",
    "    \n",
    "    #series = series.fillna(0)\n",
    "    if series.dtype == object:\n",
    "        norm_series = atributes_to_int(series)\n",
    "    if series.dtype == int or float:\n",
    "        norm_series = normalise(series)\n",
    "    return norm_series\n",
    "\n",
    "def process_input_data(data):## Applies to all columns in dataset \n",
    "    data = data.fillna(0)\n",
    "    for i in range(len(data.iloc[0])):\n",
    "        data.iloc[:,i] = column_processor(data.iloc[:,i])\n",
    "    return data\n",
    "\n",
    "def expn_smooth(function,smoothing_param):## Applies an exponential smooth to an array\n",
    "    smoothed_function = np.zeros_like(function)\n",
    "    smoothed_function[0] = function[0]\n",
    "    for i in range(1,len(function)):\n",
    "        smoothed_function[i] = function[i]*(smoothing_param)+(1-smoothing_param)*smoothed_function[i-1]\n",
    "    return smoothed_function"
   ]
  },
  {
   "cell_type": "code",
   "execution_count": 85,
   "metadata": {},
   "outputs": [
    {
     "name": "stderr",
     "output_type": "stream",
     "text": [
      "/home/sean/anaconda3/envs/tf-gpu-cuda8/lib/python3.7/site-packages/pandas/core/indexing.py:1732: SettingWithCopyWarning: \n",
      "A value is trying to be set on a copy of a slice from a DataFrame\n",
      "\n",
      "See the caveats in the documentation: https://pandas.pydata.org/pandas-docs/stable/user_guide/indexing.html#returning-a-view-versus-a-copy\n",
      "  self._setitem_single_block(indexer, value, name)\n"
     ]
    }
   ],
   "source": [
    "train_data_x = process_input_data(train_data_x)\n",
    "val_data_x = process_input_data(val_data_x)"
   ]
  },
  {
   "cell_type": "markdown",
   "metadata": {},
   "source": [
    "## Neural Net"
   ]
  },
  {
   "cell_type": "code",
   "execution_count": 119,
   "metadata": {},
   "outputs": [],
   "source": [
    "def build_model(num_layers,layer_size): ## Builds Neural net \n",
    "    model = models.Sequential()\n",
    "    model.add(layers.Dense(layer_size[0],activation= 'relu',input_shape = (train_data_x.shape[1],)))\n",
    "    \n",
    "    for i in range(1,num_layers):\n",
    "        model.add(layers.Dense(layer_size[i],activation = 'relu'))\n",
    "    model.add(layers.Dense(1))\n",
    "    opt = tf.keras.optimizers.Adam(learning_rate = 0.05)\n",
    "    model.compile(optimizer = opt,loss = 'mse', metrics = ['mae'])\n",
    "    return model\n",
    "###\n",
    "###\n",
    "###\n",
    "# Note: I think in hindsight this should be a class where lots of these parameters can be called individually and the functions are smaller and more \\\n",
    "# Specific as Plotter is too limited in what it does for a more general approach. \n",
    "def hyperparam_investigator(epoch_num, layer_num,layer_shape,start = 0 ,batch_size = 32):## Function that returns training and validation data \n",
    "    \n",
    "    model = build_model(layer_num,layer_shape)\n",
    "    history = model.fit(train_data_x,train_data_y, validation_data= (val_data_x,val_data_y),epochs = epoch_num ,batch_size = batch_size,verbose = 0)\n",
    "    mae = (history.history['val_mean_absolute_error'])\n",
    "    train_err = history.history['loss']\n",
    "    epochs = range(1,epoch_num+1)\n",
    "    return [mae , train_err , epochs] \n",
    "    \n",
    "def plotter(hyperparam_investigator_out,mae_smooth = .25, train_err_smooth = 0.25, start_mae = 0,start_train = 0 ,savefig = False, filename = 'default'): ### Plots Training and validation data\n",
    "    mae = expn_smooth(hyperparam_investigator_out[0], mae_smooth)\n",
    "    train_err = expn_smooth(hyperparam_investigator_out[1], train_err_smooth)\n",
    "    epochs = hyperparam_investigator_out[2]\n",
    "    fig ,axs = plt.subplots(1,2, figsize = (10,5))\n",
    "    axs[0].set_ylabel('Mean Absolute Error')\n",
    "    axs[0].set_xlabel('Epochs')\n",
    "    axs[1].set_xlabel('Epochs')\n",
    "    axs[1].set_ylabel('Loss Function')\n",
    "    mae_slice  = mae[start_mae:]\n",
    "    train_err_slice = train_err[start_train:]\n",
    "    epochs_slice_train = epochs[start_train:]\n",
    "    epochs_slice_mae = epochs[start_mae:]\n",
    "    axs[0].plot(epochs_slice_mae,mae_slice,c = 'black')\n",
    "    axs[1].plot(epochs_slice_train,train_err_slice, c = 'black')\n",
    "    if savefig:\n",
    "        fig.savefig('../Kaggle_Housing_Figures/'+filename+'.png')\n",
    "    print(np.min(mae))\n"
   ]
  },
  {
   "cell_type": "code",
   "execution_count": 125,
   "metadata": {},
   "outputs": [
    {
     "name": "stdout",
     "output_type": "stream",
     "text": [
      "20775.951\n"
     ]
    },
    {
     "data": {
      "image/png": "[encoded data removed]",
      "text/plain": [
       "<Figure size 720x360 with 2 Axes>"
      ]
     },
     "metadata": {
      "needs_background": "light"
     },
     "output_type": "display_data"
    }
   ],
   "source": [
    "test = hyperparam_investigator(300,2,[32,32])\n",
    "plotter(test, start_mae = 0,start_train= 10, savefig = True,filename = '32_32', )"
   ]
  },
  {
   "cell_type": "code",
   "execution_count": null,
   "metadata": {},
   "outputs": [],
   "source": []
  },
  {
   "cell_type": "code",
   "execution_count": null,
   "metadata": {},
   "outputs": [],
   "source": []
  },
  {
   "cell_type": "code",
   "execution_count": null,
   "metadata": {},
   "outputs": [],
   "source": []
  },
  {
   "cell_type": "code",
   "execution_count": null,
   "metadata": {},
   "outputs": [],
   "source": []
  },
  {
   "cell_type": "code",
   "execution_count": null,
   "metadata": {},
   "outputs": [],
   "source": []
  }
 ],
 "metadata": {
  "interpreter": {
   "hash": "747e10b70f6080f0bd7f506f4a278cc40a2da2e2842866c9e118e4fa0fbc3bf4"
  },
  "kernelspec": {
   "display_name": "Python 3.7.11 64-bit ('tf-gpu-cuda8': conda)",
   "name": "python3"
  },
  "language_info": {
   "codemirror_mode": {
    "name": "ipython",
    "version": 3
   },
   "file_extension": ".py",
   "mimetype": "text/x-python",
   "name": "python",
   "nbconvert_exporter": "python",
   "pygments_lexer": "ipython3",
   "version": "3.7.11"
  },
  "orig_nbformat": 4
 },
 "nbformat": 4,
 "nbformat_minor": 2
}
