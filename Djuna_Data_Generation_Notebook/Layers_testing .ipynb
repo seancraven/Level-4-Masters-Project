{
 "cells": [
  {
   "cell_type": "code",
   "execution_count": 1,
   "metadata": {},
   "outputs": [],
   "source": [
    "import tensorflow as tf \n",
    "from tensorflow import keras\n",
    "import numpy as np\n",
    "import matplotlib.pyplot as plt\n",
    "import pandas as pd\n",
    "import Common_Functions as cf \n"
   ]
  },
  {
   "cell_type": "code",
   "execution_count": 2,
   "metadata": {},
   "outputs": [],
   "source": [
    "df_pions = np.array(pd.read_csv('/home/sean/Documents/Work/Level 4/Level-4-Masters-Project/Djuna_Data_Generation_Notebook/noshift1.csv',header = None))\n",
    "train_x, train_y = cf.data_normaliser(df_pions[:-1000,:8]), df_pions[:-1000,-1]\n",
    "val_x, val_y = cf.data_normaliser(df_pions[-1000:,:8]), df_pions[-1000:,-1]"
   ]
  },
  {
   "cell_type": "code",
   "execution_count": null,
   "metadata": {},
   "outputs": [],
   "source": []
  },
  {
   "cell_type": "code",
   "execution_count": 3,
   "metadata": {},
   "outputs": [],
   "source": [
    "opt = keras.optimizers.Adam(learning_rate= 0.005, beta_1 = 0.7, beta_2= 0.99)"
   ]
  },
  {
   "cell_type": "code",
   "execution_count": 19,
   "metadata": {},
   "outputs": [],
   "source": [
    "def layers_tester(size_range,size_spacing,layer_range,repeats):\n",
    "    min_size, max_size = size_range\n",
    "    if (max_size-min_size)/size_spacing == int: \n",
    "        raise Exception('Spacing Must Be Integer U fuckwit')\n",
    "    else:\n",
    "        size_steps = int((max_size-min_size)/size_spacing)\n",
    "        size_list = np.linspace(int(min_size),int(max_size),size_steps)\n",
    "        layer_range_list = range(1,1+layer_range)\n",
    "        min_mape = np.zeros((size_steps,layer_range,repeats)) ###Axis 0:Size of Layers 1:Number of Layers 3:Number of repeats to take average over. \n",
    "        for i in range(size_steps):\n",
    "            for j in range(layer_range):\n",
    "                loop_layer_shape = size_list[i]*np.ones((layer_range_list[j]))\n",
    "                print(loop_layer_shape)\n"
   ]
  },
  {
   "cell_type": "code",
   "execution_count": 16,
   "metadata": {},
   "outputs": [
    {
     "name": "stdout",
     "output_type": "stream",
     "text": [
      "5\n",
      "[0.]\n",
      "[0. 0.]\n",
      "[0. 0. 0.]\n",
      "[0. 0. 0. 0.]\n",
      "[0. 0. 0. 0. 0.]\n",
      "[2.5]\n",
      "[2.5 2.5]\n",
      "[2.5 2.5 2.5]\n",
      "[2.5 2.5 2.5 2.5]\n",
      "[2.5 2.5 2.5 2.5 2.5]\n",
      "[5.]\n",
      "[5. 5.]\n",
      "[5. 5. 5.]\n",
      "[5. 5. 5. 5.]\n",
      "[5. 5. 5. 5. 5.]\n",
      "[7.5]\n",
      "[7.5 7.5]\n",
      "[7.5 7.5 7.5]\n",
      "[7.5 7.5 7.5 7.5]\n",
      "[7.5 7.5 7.5 7.5 7.5]\n",
      "[10.]\n",
      "[10. 10.]\n",
      "[10. 10. 10.]\n",
      "[10. 10. 10. 10.]\n",
      "[10. 10. 10. 10. 10.]\n"
     ]
    }
   ],
   "source": [
    "layers_tester((0,10),2,5,5)"
   ]
  },
  {
   "cell_type": "code",
   "execution_count": null,
   "metadata": {},
   "outputs": [],
   "source": []
  }
 ],
 "metadata": {
  "interpreter": {
   "hash": "f104f88efb840d0e3bc7589e04724d256e4ed8b928c3ad9315ee551fb11f4dcf"
  },
  "kernelspec": {
   "display_name": "Python 3.9.7 64-bit ('tf-gpu': conda)",
   "language": "python",
   "name": "python3"
  },
  "language_info": {
   "codemirror_mode": {
    "name": "ipython",
    "version": 3
   },
   "file_extension": ".py",
   "mimetype": "text/x-python",
   "name": "python",
   "nbconvert_exporter": "python",
   "pygments_lexer": "ipython3",
   "version": "3.9.7"
  },
  "orig_nbformat": 4
 },
 "nbformat": 4,
 "nbformat_minor": 2
}
