{
 "cells": [
  {
   "cell_type": "code",
   "execution_count": 1,
   "metadata": {},
   "outputs": [],
   "source": [
    "import numpy as np\n",
    "import matplotlib.pyplot as plt\n",
    "import pandas as pd\n",
    "import tensorflow as tf \n",
    "from tensorflow import keras\n",
    "import Common_Functions as cf\n",
    "import os\n",
    "import tensorflow as tf\n",
    "\n",
    "os.environ['CUDA_VISIBLE_DEVICES'] = '-1'\n"
   ]
  },
  {
   "cell_type": "code",
   "execution_count": 2,
   "metadata": {},
   "outputs": [],
   "source": [
    "df_pions = np.array(pd.read_csv('/home/sean/Documents/Work/Level 4/Level-4-Masters-Project/Djuna_Data_Generation_Notebook/noshift1.csv',header = None))\n",
    "\n",
    "def data_normaliser(data):\n",
    "    mean = np.mean(data, axis = 0)\n",
    "    std = np.std(data,axis = 0)\n",
    "    return (data -mean)/std "
   ]
  },
  {
   "cell_type": "code",
   "execution_count": 3,
   "metadata": {},
   "outputs": [],
   "source": [
    "train_x, train_y = cf.data_normaliser(df_pions[:-1000,:8]), df_pions[:-1000,-1]\n",
    "val_x, val_y = cf.data_normaliser(df_pions[-1000:,:8]), df_pions[-1000:,-1]"
   ]
  },
  {
   "cell_type": "code",
   "execution_count": 4,
   "metadata": {},
   "outputs": [],
   "source": [
    "opt = keras.optimizers.Adam(learning_rate= 0.005, beta_1 = 0.7, beta_2= 0.99)\n",
    "#inital_test = trained_network(train_x,train_y,val_x,val_y,[16,16], optimizer= opt, verbose= 0).history\n"
   ]
  },
  {
   "cell_type": "code",
   "execution_count": 5,
   "metadata": {},
   "outputs": [],
   "source": [
    "#plt.plot(range(1,101),inital_test['mean_absolute_percentage_error'])\n",
    "#print(np.min(inital_test['mean_absolute_percentage_error']))"
   ]
  },
  {
   "cell_type": "markdown",
   "metadata": {},
   "source": [
    "Initial Work - What metric am i going to define a minimum by\n",
    "- Ideally I dont want to look at each graph- Thus I think some kind of exponential smoothing should be added, \n",
    "this weights each point with history \n",
    "-Possible Idea --- Find a minimum, If the mean of the points after is greater than the standard deviation of 20 nearest neighbours, then this is a U shape tp - find some way of assesing the error there\n",
    "                --- if you find a minimum and point plus std is less than future points then you can take the mean of future points and calculate the eror, \n",
    "                --- if the minima is the final point take that and maybe label "
   ]
  },
  {
   "cell_type": "markdown",
   "metadata": {},
   "source": [
    "Testing convergance with sample size. \n",
    "Going to take in the range of 10 hours \n",
    "Im going to absolutely cook my computer \n"
   ]
  },
  {
   "cell_type": "code",
   "execution_count": 6,
   "metadata": {},
   "outputs": [],
   "source": [
    "\n",
    "def parallel_test(num_points, train_x,train_y, width):\n",
    "    number_of_training_points = np.geomspace(10,len(train_x),num = num_points,dtype= int)\n",
    "    #print(number_of_training_points)\n",
    "    min_mae = np.zeros((num_points,width))\n",
    "    is_last_epoc = np.zeros_like(min_mae)\n",
    "    for i in range(num_points): \n",
    "        print('Loop Number #',i)\n",
    "        for j in range(width):\n",
    "            history  =  cf.trained_network(train_x[:number_of_training_points[i]],train_y[:number_of_training_points[i]],val_x,val_y,[16,16], optimizer= opt, verbose= 0).history\n",
    "            mae = np.array(history['mean_absolute_percentage_error'])\n",
    "            min_mae[i,j] = np.min(mae)\n",
    "\n",
    "            if np.argmin(mae) == len(mae)-1: is_last_epoc[i,j] = 1\n",
    "    return min_mae,is_last_epoc,number_of_training_points\n",
    "        "
   ]
  },
  {
   "cell_type": "code",
   "execution_count": 7,
   "metadata": {},
   "outputs": [
    {
     "name": "stdout",
     "output_type": "stream",
     "text": [
      "Loop Number # 0\n"
     ]
    },
    {
     "name": "stderr",
     "output_type": "stream",
     "text": [
      "2021-11-04 13:17:57.699111: E tensorflow/stream_executor/cuda/cuda_driver.cc:271] failed call to cuInit: CUDA_ERROR_NO_DEVICE: no CUDA-capable device is detected\n",
      "2021-11-04 13:17:57.699139: I tensorflow/stream_executor/cuda/cuda_diagnostics.cc:169] retrieving CUDA diagnostic information for host: Sean-PC\n",
      "2021-11-04 13:17:57.699144: I tensorflow/stream_executor/cuda/cuda_diagnostics.cc:176] hostname: Sean-PC\n",
      "2021-11-04 13:17:57.699251: I tensorflow/stream_executor/cuda/cuda_diagnostics.cc:200] libcuda reported version is: 470.63.1\n",
      "2021-11-04 13:17:57.699266: I tensorflow/stream_executor/cuda/cuda_diagnostics.cc:204] kernel reported version is: 470.63.1\n",
      "2021-11-04 13:17:57.699270: I tensorflow/stream_executor/cuda/cuda_diagnostics.cc:310] kernel version seems to match DSO: 470.63.1\n",
      "2021-11-04 13:17:57.699487: I tensorflow/core/platform/cpu_feature_guard.cc:142] This TensorFlow binary is optimized with oneAPI Deep Neural Network Library (oneDNN) to use the following CPU instructions in performance-critical operations:  AVX2 FMA\n",
      "To enable them in other operations, rebuild TensorFlow with the appropriate compiler flags.\n",
      "2021-11-04 13:17:57.748616: I tensorflow/compiler/mlir/mlir_graph_optimization_pass.cc:185] None of the MLIR Optimization Passes are enabled (registered 2)\n"
     ]
    },
    {
     "name": "stdout",
     "output_type": "stream",
     "text": [
      "Loop Number # 1\n",
      "Loop Number # 2\n",
      "Loop Number # 3\n",
      "Loop Number # 4\n",
      "Loop Number # 5\n",
      "Loop Number # 6\n",
      "Loop Number # 7\n",
      "Loop Number # 8\n",
      "Loop Number # 9\n",
      "Loop Number # 10\n",
      "Loop Number # 11\n",
      "Loop Number # 12\n",
      "Loop Number # 13\n",
      "Loop Number # 14\n",
      "Loop Number # 15\n",
      "Loop Number # 16\n",
      "Loop Number # 17\n",
      "Loop Number # 18\n",
      "Loop Number # 19\n",
      "Loop Number # 20\n",
      "Loop Number # 21\n",
      "Loop Number # 22\n",
      "Loop Number # 23\n",
      "Loop Number # 24\n",
      "Loop Number # 25\n",
      "Loop Number # 26\n",
      "Loop Number # 27\n",
      "Loop Number # 28\n",
      "Loop Number # 29\n",
      "Loop Number # 30\n",
      "Loop Number # 31\n",
      "Loop Number # 32\n",
      "Loop Number # 33\n",
      "Loop Number # 34\n",
      "Loop Number # 35\n",
      "Loop Number # 36\n",
      "Loop Number # 37\n",
      "Loop Number # 38\n",
      "Loop Number # 39\n",
      "Loop Number # 40\n",
      "Loop Number # 41\n",
      "Loop Number # 42\n",
      "Loop Number # 43\n",
      "Loop Number # 44\n",
      "Loop Number # 45\n",
      "Loop Number # 46\n",
      "Loop Number # 47\n",
      "Loop Number # 48\n",
      "Loop Number # 49\n"
     ]
    }
   ],
   "source": [
    "points = 50\n",
    "test_width = 10\n",
    "min_mae, min_val_bool, training_points = parallel_test(points,train_x,train_y, test_width)"
   ]
  },
  {
   "cell_type": "code",
   "execution_count": 48,
   "metadata": {},
   "outputs": [
    {
     "name": "stdout",
     "output_type": "stream",
     "text": [
      "622\n"
     ]
    }
   ],
   "source": [
    "np.savetxt('#of_training_points.csv',min_mae,delimiter= '.')\n",
    "np.savetxt('is min.csv',min_val_bool,delimiter= ',')\n",
    "np.savetxt('#_training_points.csv',training_points,delimiter=',')\n",
    "print(training_points[22])"
   ]
  },
  {
   "cell_type": "code",
   "execution_count": 49,
   "metadata": {},
   "outputs": [
    {
     "data": {
      "text/plain": [
       "Text(0, 0.5, 'Mean Absolute Percentage Error')"
      ]
     },
     "execution_count": 49,
     "metadata": {},
     "output_type": "execute_result"
    },
    {
     "data": {
      "image/png": "[encoded data removed]",
      "text/plain": [
       "<Figure size 1080x720 with 1 Axes>"
      ]
     },
     "metadata": {
      "needs_background": "light"
     },
     "output_type": "display_data"
    }
   ],
   "source": [
    "fig, ax = plt.subplots(figsize=(15,10))\n",
    "wierd_shit = 22\n",
    "mean_mape = np.mean(min_mae,axis=1)\n",
    "std_mape = np.std(min_mae, axis = 1)\n",
    "ax.errorbar(training_points[wierd_shit:],mean_mape[wierd_shit:],yerr = std_mape[wierd_shit:]/(10)**0.5 ,\n",
    "c = 'black')\n",
    "ax.set_xlabel('Training Data Points')\n",
    "ax.set_ylabel('Mean Absolute Percentage Error')"
   ]
  },
  {
   "cell_type": "code",
   "execution_count": 50,
   "metadata": {},
   "outputs": [],
   "source": [
    "fig.savefig('../Figures/Mape_training_data_points.png',dpi = 300)"
   ]
  },
  {
   "cell_type": "code",
   "execution_count": 65,
   "metadata": {},
   "outputs": [
    {
     "name": "stdout",
     "output_type": "stream",
     "text": [
      "[[1. 1. 1. 1. 1. 1. 0. 1. 1. 1.]\n",
      " [1. 1. 1. 1. 1. 1. 1. 1. 1. 1.]\n",
      " [1. 1. 1. 1. 1. 1. 0. 1. 1. 1.]\n",
      " [1. 1. 1. 1. 1. 1. 1. 1. 1. 1.]\n",
      " [1. 1. 1. 1. 1. 1. 1. 1. 1. 1.]\n",
      " [1. 1. 1. 1. 1. 1. 1. 1. 1. 1.]\n",
      " [1. 1. 1. 1. 1. 1. 1. 1. 1. 1.]\n",
      " [1. 0. 0. 1. 1. 1. 1. 1. 0. 1.]\n",
      " [1. 0. 0. 0. 1. 0. 0. 1. 0. 0.]\n",
      " [1. 1. 1. 1. 1. 0. 1. 0. 0. 1.]\n",
      " [1. 0. 1. 0. 0. 0. 0. 1. 0. 1.]\n",
      " [1. 1. 0. 0. 0. 1. 0. 0. 0. 0.]\n",
      " [0. 1. 1. 1. 1. 1. 0. 1. 0. 1.]\n",
      " [1. 0. 1. 1. 1. 1. 0. 0. 1. 0.]\n",
      " [0. 1. 1. 0. 0. 1. 0. 1. 0. 0.]\n",
      " [1. 1. 0. 0. 0. 0. 0. 1. 0. 0.]\n",
      " [1. 1. 0. 0. 0. 0. 0. 0. 0. 0.]\n",
      " [0. 0. 0. 0. 0. 0. 0. 0. 1. 1.]\n",
      " [0. 0. 0. 1. 0. 0. 0. 0. 1. 0.]\n",
      " [0. 1. 0. 0. 0. 0. 0. 0. 1. 0.]\n",
      " [0. 0. 0. 1. 1. 1. 0. 1. 0. 0.]\n",
      " [0. 0. 0. 0. 0. 1. 0. 0. 0. 1.]\n",
      " [1. 0. 0. 0. 0. 1. 0. 0. 0. 0.]\n",
      " [0. 0. 0. 0. 0. 0. 0. 0. 0. 1.]\n",
      " [0. 0. 0. 0. 0. 1. 0. 0. 0. 0.]\n",
      " [0. 0. 0. 0. 1. 0. 0. 0. 1. 0.]\n",
      " [0. 0. 0. 1. 0. 0. 0. 0. 0. 1.]\n",
      " [0. 1. 0. 0. 1. 0. 0. 0. 1. 0.]\n",
      " [0. 0. 1. 0. 0. 0. 0. 0. 0. 0.]\n",
      " [0. 0. 0. 1. 0. 0. 0. 0. 0. 1.]\n",
      " [0. 0. 0. 0. 0. 0. 0. 0. 0. 0.]\n",
      " [0. 0. 0. 0. 0. 0. 1. 0. 1. 0.]\n",
      " [0. 0. 0. 0. 1. 0. 0. 0. 0. 0.]\n",
      " [0. 1. 0. 1. 1. 0. 0. 0. 1. 0.]\n",
      " [1. 1. 1. 0. 1. 0. 0. 0. 0. 0.]\n",
      " [0. 0. 0. 0. 0. 0. 0. 0. 1. 0.]\n",
      " [1. 1. 0. 0. 1. 1. 1. 0. 1. 0.]\n",
      " [0. 0. 0. 1. 0. 0. 1. 1. 0. 0.]\n",
      " [0. 0. 0. 0. 1. 0. 1. 0. 0. 0.]\n",
      " [1. 0. 0. 0. 0. 1. 0. 0. 0. 0.]\n",
      " [0. 0. 1. 0. 0. 1. 1. 1. 0. 0.]\n",
      " [1. 0. 0. 0. 0. 0. 0. 0. 1. 0.]\n",
      " [0. 0. 0. 0. 0. 0. 0. 0. 0. 0.]\n",
      " [0. 1. 0. 0. 0. 0. 0. 0. 0. 0.]\n",
      " [0. 0. 1. 0. 0. 0. 0. 0. 1. 0.]\n",
      " [0. 0. 0. 0. 1. 0. 0. 0. 0. 0.]\n",
      " [0. 0. 0. 0. 0. 0. 0. 0. 0. 0.]\n",
      " [0. 0. 0. 0. 0. 0. 0. 0. 0. 0.]\n",
      " [0. 0. 0. 0. 0. 0. 0. 0. 0. 0.]\n",
      " [0. 0. 0. 0. 0. 0. 0. 0. 0. 0.]]\n"
     ]
    }
   ],
   "source": [
    "training_points_slice = training_points[wierd_shit:]\n",
    "mean_mape_slice = mean_mape[wierd_shit:]\n",
    "print(min_val_bool)"
   ]
  },
  {
   "cell_type": "code",
   "execution_count": 63,
   "metadata": {},
   "outputs": [
    {
     "data": {
      "text/plain": [
       "46715"
      ]
     },
     "execution_count": 63,
     "metadata": {},
     "output_type": "execute_result"
    }
   ],
   "source": [
    "training_points_slice[np.argmin(mean_mape_slice)-1]"
   ]
  },
  {
   "cell_type": "markdown",
   "metadata": {},
   "source": [
    "For Future tests aproc 50,000 seems to be a good point for training data length\n"
   ]
  },
  {
   "cell_type": "code",
   "execution_count": null,
   "metadata": {},
   "outputs": [],
   "source": []
  }
 ],
 "metadata": {
  "interpreter": {
   "hash": "f104f88efb840d0e3bc7589e04724d256e4ed8b928c3ad9315ee551fb11f4dcf"
  },
  "kernelspec": {
   "display_name": "Python 3.9.7 64-bit ('tf-gpu': conda)",
   "name": "python3"
  },
  "language_info": {
   "codemirror_mode": {
    "name": "ipython",
    "version": 3
   },
   "file_extension": ".py",
   "mimetype": "text/x-python",
   "name": "python",
   "nbconvert_exporter": "python",
   "pygments_lexer": "ipython3",
   "version": "3.9.7"
  },
  "orig_nbformat": 4
 },
 "nbformat": 4,
 "nbformat_minor": 2
}
