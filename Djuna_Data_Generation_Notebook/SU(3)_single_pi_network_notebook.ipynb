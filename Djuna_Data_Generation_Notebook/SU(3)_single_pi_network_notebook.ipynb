{
 "cells": [
  {
   "cell_type": "code",
   "execution_count": 2,
   "metadata": {},
   "outputs": [
    {
     "name": "stderr",
     "output_type": "stream",
     "text": [
      "/home/sean/anaconda3/envs/tf-gpu-cuda8/lib/python3.7/site-packages/tensorflow/python/framework/dtypes.py:516: FutureWarning: Passing (type, 1) or '1type' as a synonym of type is deprecated; in a future version of numpy, it will be understood as (type, (1,)) / '(1,)type'.\n",
      "  _np_qint8 = np.dtype([(\"qint8\", np.int8, 1)])\n",
      "/home/sean/anaconda3/envs/tf-gpu-cuda8/lib/python3.7/site-packages/tensorflow/python/framework/dtypes.py:517: FutureWarning: Passing (type, 1) or '1type' as a synonym of type is deprecated; in a future version of numpy, it will be understood as (type, (1,)) / '(1,)type'.\n",
      "  _np_quint8 = np.dtype([(\"quint8\", np.uint8, 1)])\n",
      "/home/sean/anaconda3/envs/tf-gpu-cuda8/lib/python3.7/site-packages/tensorflow/python/framework/dtypes.py:518: FutureWarning: Passing (type, 1) or '1type' as a synonym of type is deprecated; in a future version of numpy, it will be understood as (type, (1,)) / '(1,)type'.\n",
      "  _np_qint16 = np.dtype([(\"qint16\", np.int16, 1)])\n",
      "/home/sean/anaconda3/envs/tf-gpu-cuda8/lib/python3.7/site-packages/tensorflow/python/framework/dtypes.py:519: FutureWarning: Passing (type, 1) or '1type' as a synonym of type is deprecated; in a future version of numpy, it will be understood as (type, (1,)) / '(1,)type'.\n",
      "  _np_quint16 = np.dtype([(\"quint16\", np.uint16, 1)])\n",
      "/home/sean/anaconda3/envs/tf-gpu-cuda8/lib/python3.7/site-packages/tensorflow/python/framework/dtypes.py:520: FutureWarning: Passing (type, 1) or '1type' as a synonym of type is deprecated; in a future version of numpy, it will be understood as (type, (1,)) / '(1,)type'.\n",
      "  _np_qint32 = np.dtype([(\"qint32\", np.int32, 1)])\n",
      "/home/sean/anaconda3/envs/tf-gpu-cuda8/lib/python3.7/site-packages/tensorflow/python/framework/dtypes.py:525: FutureWarning: Passing (type, 1) or '1type' as a synonym of type is deprecated; in a future version of numpy, it will be understood as (type, (1,)) / '(1,)type'.\n",
      "  np_resource = np.dtype([(\"resource\", np.ubyte, 1)])\n",
      "/home/sean/anaconda3/envs/tf-gpu-cuda8/lib/python3.7/site-packages/tensorboard/compat/tensorflow_stub/dtypes.py:541: FutureWarning: Passing (type, 1) or '1type' as a synonym of type is deprecated; in a future version of numpy, it will be understood as (type, (1,)) / '(1,)type'.\n",
      "  _np_qint8 = np.dtype([(\"qint8\", np.int8, 1)])\n",
      "/home/sean/anaconda3/envs/tf-gpu-cuda8/lib/python3.7/site-packages/tensorboard/compat/tensorflow_stub/dtypes.py:542: FutureWarning: Passing (type, 1) or '1type' as a synonym of type is deprecated; in a future version of numpy, it will be understood as (type, (1,)) / '(1,)type'.\n",
      "  _np_quint8 = np.dtype([(\"quint8\", np.uint8, 1)])\n",
      "/home/sean/anaconda3/envs/tf-gpu-cuda8/lib/python3.7/site-packages/tensorboard/compat/tensorflow_stub/dtypes.py:543: FutureWarning: Passing (type, 1) or '1type' as a synonym of type is deprecated; in a future version of numpy, it will be understood as (type, (1,)) / '(1,)type'.\n",
      "  _np_qint16 = np.dtype([(\"qint16\", np.int16, 1)])\n",
      "/home/sean/anaconda3/envs/tf-gpu-cuda8/lib/python3.7/site-packages/tensorboard/compat/tensorflow_stub/dtypes.py:544: FutureWarning: Passing (type, 1) or '1type' as a synonym of type is deprecated; in a future version of numpy, it will be understood as (type, (1,)) / '(1,)type'.\n",
      "  _np_quint16 = np.dtype([(\"quint16\", np.uint16, 1)])\n",
      "/home/sean/anaconda3/envs/tf-gpu-cuda8/lib/python3.7/site-packages/tensorboard/compat/tensorflow_stub/dtypes.py:545: FutureWarning: Passing (type, 1) or '1type' as a synonym of type is deprecated; in a future version of numpy, it will be understood as (type, (1,)) / '(1,)type'.\n",
      "  _np_qint32 = np.dtype([(\"qint32\", np.int32, 1)])\n",
      "/home/sean/anaconda3/envs/tf-gpu-cuda8/lib/python3.7/site-packages/tensorboard/compat/tensorflow_stub/dtypes.py:550: FutureWarning: Passing (type, 1) or '1type' as a synonym of type is deprecated; in a future version of numpy, it will be understood as (type, (1,)) / '(1,)type'.\n",
      "  np_resource = np.dtype([(\"resource\", np.ubyte, 1)])\n"
     ]
    }
   ],
   "source": [
    "import tensorflow as tf \n",
    "from tensorflow import keras\n",
    "from tensorflow.keras import layers \n",
    "from tensorflow.keras import models \n",
    "import numpy as np\n",
    "import matplotlib.pyplot as plt\n",
    "import pandas as pd"
   ]
  },
  {
   "cell_type": "code",
   "execution_count": 3,
   "metadata": {},
   "outputs": [],
   "source": [
    "df_pions = pd.read_csv('/home/sean/Documents/Work/Level 4/Level-4-Masters-Project/Djuna_Data_Generation_Notebook/noshift1.csv',header = None)\n",
    "\n",
    "def data_normaliser(data):\n",
    "    mean = np.mean(data, axis = 0)\n",
    "    std = np.std(data,axis = 0)\n",
    "    return (data -mean)/std "
   ]
  },
  {
   "cell_type": "code",
   "execution_count": 4,
   "metadata": {},
   "outputs": [],
   "source": [
    "train_x, train_y = df_pions.iloc[:-1000,:8], df_pions.iloc[:-1000,-1]\n",
    "val_x, val_y = df_pions.iloc[-1000:,:8], df_pions.iloc[-1000:,-1]"
   ]
  },
  {
   "cell_type": "code",
   "execution_count": 24,
   "metadata": {},
   "outputs": [],
   "source": [
    "class network():\n",
    "    def __init__(self,train_x,train_y,val_x,val_y, layer_shapes, optimizer = 'Adam', ):\n",
    "        self.train_x = train_x\n",
    "        self.train_y = train_y\n",
    "        self.val_x = val_x\n",
    "        self.val_y = val_y\n",
    "        self.optimizer = optimizer\n",
    "        self.layer_shapes = layer_shapes\n",
    "    def build(self,model_summary = False):\n",
    "        #print(self.layer_shapes)\n",
    "        model = models.Sequential()\n",
    "        ##Layers \n",
    "        model.add(layers.Dense(self.layer_shapes[0],activation= 'relu',input_shape = (train_x.shape[1],)))\n",
    "        for i in range(1,len(self.layer_shapes)):\n",
    "            #print(i)\n",
    "            model.add(layers.Dense(self.layer_shapes[i],activation = 'relu'))\n",
    "        model.add(layers.Dense(1))\n",
    "        model.compile(optimizer = self.optimizer,loss = 'mse', metrics = ['mean_absolute_percentage_error'])\n",
    "        \n",
    "        if model_summary:\n",
    "            model.summary()\n",
    "        \n",
    "        return model\n",
    "\n",
    "#### I fucking Hate How many hyperparameters there are \n",
    "class trained_network(network):\n",
    "    def __init__(self,train_x,train_y,val_x,val_y, layer_shapes, optimizer = 'Adam', verbose = 0,epochs = 100):\n",
    "        super().__init__(train_x,train_y,val_x,val_y, layer_shapes, optimizer)\n",
    "        #print(layer_shapes)\n",
    "        super().build()\n",
    "        self.verbose  = verbose\n",
    "        self.epochs = epochs \n",
    "        network = self.build()\n",
    "        \n",
    "        def fit(self,net):\n",
    "            net_hist = net.fit( self.train_x, self.train_y, validation_data = (self.val_x,self.val_y), verbose  = self.verbose, epochs = self.epochs, use_multiprocessing = True)\n",
    "            return net_hist\n",
    "        self.history = fit(self,network).history \n",
    "        \n",
    "class plotter():\n",
    "    def __init__(self, history):\n",
    "        self.history = history\n",
    "    def basic(self):\n",
    "        mape = self.history['mean_absolute_percentage_error']\n",
    "        #percentageloss = \n",
    "        epochs = range(1,len(mape)+1) \n",
    "        plt.plot(epochs, mape)\n",
    "    \n",
    "### What do I want out of this??\n",
    "#- Be able to vary shape of network easily \n",
    "#- Output Basic plot for fast comparison\n",
    "#- Output History data for more in depth comparison \n",
    "#- I would quite like to automate my testing, so say I pass list of [[3,36],[2.36]...etc] it runs and stores some measure of how good these were, often interpreting the data requires a graph so maybe it needs to plot a bunch of subplots\n",
    "#- Save Fig \n",
    "#- Diff Optimisers \n",
    "\n",
    "\n",
    "\n",
    "## Definin\n",
    "\n"
   ]
  },
  {
   "cell_type": "code",
   "execution_count": 16,
   "metadata": {},
   "outputs": [
    {
     "name": "stdout",
     "output_type": "stream",
     "text": [
      "1\n",
      "1\n"
     ]
    }
   ],
   "source": [
    "opt = keras.optimizers.Adam(learning_rate= 0.005, beta_1 = 0.7, beta_2= 0.99)\n",
    "inital_test = trained_network(train_x,train_y,val_x,val_y,[16,16], optimizer= opt, verbose= 0).history\n"
   ]
  },
  {
   "cell_type": "code",
   "execution_count": 15,
   "metadata": {},
   "outputs": [
    {
     "name": "stdout",
     "output_type": "stream",
     "text": [
      "3.029111\n"
     ]
    },
    {
     "data": {
      "image/png": "[encoded data removed]",
      "text/plain": [
       "<Figure size 432x288 with 1 Axes>"
      ]
     },
     "metadata": {
      "needs_background": "light"
     },
     "output_type": "display_data"
    }
   ],
   "source": [
    "plt.plot(range(1,101),inital_test['mean_absolute_percentage_error'])\n",
    "print(np.min(inital_test['mean_absolute_percentage_error']))"
   ]
  },
  {
   "cell_type": "markdown",
   "metadata": {},
   "source": [
    "Initial Work - What metric am i going to define a minimum by\n",
    "- Ideally I dont want to look at each graph- Thus I think some kind of exponential smoothing should be added, \n",
    "this weights each point with history \n",
    "-Possible Idea --- Find a minimum, If the mean of the points after is greater than the standard deviation of 20 nearest neighbours, then this is a U shape tp - find some way of assesing the error there\n",
    "                --- if you find a minimum and point plus std is less than future points then you can take the mean of future points and calculate the eror, \n",
    "                --- if the minima is the final point take that and maybe label "
   ]
  },
  {
   "cell_type": "markdown",
   "metadata": {},
   "source": [
    "Testing convergance with sample size. \n"
   ]
  },
  {
   "cell_type": "code",
   "execution_count": 25,
   "metadata": {},
   "outputs": [
    {
     "name": "stdout",
     "output_type": "stream",
     "text": [
      "Loop Number # 0\n",
      "Loop Number # 1\n",
      "Loop Number # 2\n",
      "Loop Number # 3\n",
      "Loop Number # 4\n",
      "Loop Number # 5\n",
      "Loop Number # 6\n",
      "Loop Number # 7\n",
      "Loop Number # 8\n",
      "Loop Number # 9\n",
      "Loop Number # 10\n",
      "Loop Number # 11\n",
      "Loop Number # 12\n",
      "Loop Number # 13\n",
      "Loop Number # 14\n",
      "Loop Number # 15\n",
      "Loop Number # 16\n",
      "Loop Number # 17\n",
      "Loop Number # 18\n",
      "Loop Number # 19\n",
      "Loop Number # 20\n",
      "Loop Number # 21\n",
      "Loop Number # 22\n",
      "Loop Number # 23\n",
      "Loop Number # 24\n",
      "Loop Number # 25\n",
      "Loop Number # 26\n",
      "Loop Number # 27\n",
      "Loop Number # 28\n",
      "Loop Number # 29\n",
      "Loop Number # 30\n",
      "Loop Number # 31\n",
      "Loop Number # 32\n",
      "Loop Number # 33\n",
      "Loop Number # 34\n",
      "Loop Number # 35\n",
      "Loop Number # 36\n",
      "Loop Number # 37\n",
      "Loop Number # 38\n",
      "Loop Number # 39\n",
      "Loop Number # 40\n",
      "Loop Number # 41\n",
      "Loop Number # 42\n",
      "Loop Number # 43\n",
      "Loop Number # 44\n",
      "Loop Number # 45\n",
      "Loop Number # 46\n",
      "Loop Number # 47\n",
      "Loop Number # 48\n",
      "Loop Number # 49\n"
     ]
    }
   ],
   "source": [
    "num_points = 50\n",
    "number_of_training_points = np.geomspace(10,99000,num = num_points,dtype= int)\n",
    "#print(number_of_training_points)\n",
    "min_mae = []\n",
    "is_last_epoc = []\n",
    "\n",
    "for i in range(num_points): \n",
    "    print('Loop Number #',i)\n",
    "    for i in range(10):\n",
    "    history  =  trained_network(train_x[:number_of_training_points[i]],train_y[:number_of_training_points[i]],val_x,val_y,[16,16], optimizer= opt, verbose= 0).history\n",
    "    mae = history['mean_absolute_percentage_error']\n",
    "    min_mae.append(np.min(mae))\n",
    "    \n",
    "    if np.argmin(mae) == len(mae)-1:\n",
    "        is_last_epoc.append(1)\n",
    "    else: \n",
    "        is_last_epoc.append(0)\n",
    "    "
   ]
  },
  {
   "cell_type": "code",
   "execution_count": 33,
   "metadata": {},
   "outputs": [
    {
     "data": {
      "text/plain": [
       "([<matplotlib.axis.XTick at 0x7f4f7d0aa410>,\n",
       "  <matplotlib.axis.XTick at 0x7f4f7d0aa390>,\n",
       "  <matplotlib.axis.XTick at 0x7f4f7d0aab90>,\n",
       "  <matplotlib.axis.XTick at 0x7f4f7d06a2d0>,\n",
       "  <matplotlib.axis.XTick at 0x7f4f7d06a6d0>,\n",
       "  <matplotlib.axis.XTick at 0x7f4f7d073110>],\n",
       " [Text(2.302585092994046, 0, '10'),\n",
       "  Text(3.9889840465642745, 0, '54'),\n",
       "  Text(5.869296913133774, 0, '354'),\n",
       "  Text(7.7475968386928855, 0, '2316'),\n",
       "  Text(9.625227618663251, 0, '15142'),\n",
       "  Text(11.502875129116727, 0, '99000')])"
      ]
     },
     "execution_count": 33,
     "metadata": {},
     "output_type": "execute_result"
    },
    {
     "data": {
      "image/png": "[encoded data removed]",
      "text/plain": [
       "<Figure size 432x288 with 1 Axes>"
      ]
     },
     "metadata": {
      "needs_background": "light"
     },
     "output_type": "display_data"
    }
   ],
   "source": [
    "plt.plot(np.log(number_of_training_points),min_mae)\n",
    "plt.xticks(np.log(number_of_training_points)[[0,9,19,29,39,49]],labels= number_of_training_points[[0,9,19,29,39,49]])"
   ]
  },
  {
   "cell_type": "code",
   "execution_count": null,
   "metadata": {},
   "outputs": [],
   "source": []
  }
 ],
 "metadata": {
  "interpreter": {
   "hash": "747e10b70f6080f0bd7f506f4a278cc40a2da2e2842866c9e118e4fa0fbc3bf4"
  },
  "kernelspec": {
   "display_name": "Python 3.7.11 64-bit ('tf-gpu-cuda8': conda)",
   "name": "python3"
  },
  "language_info": {
   "codemirror_mode": {
    "name": "ipython",
    "version": 3
   },
   "file_extension": ".py",
   "mimetype": "text/x-python",
   "name": "python",
   "nbconvert_exporter": "python",
   "pygments_lexer": "ipython3",
   "version": "3.7.11"
  },
  "orig_nbformat": 4
 },
 "nbformat": 4,
 "nbformat_minor": 2
}
