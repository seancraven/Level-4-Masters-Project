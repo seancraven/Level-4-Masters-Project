{
 "cells": [
  {
   "cell_type": "code",
   "execution_count": 11,
   "metadata": {},
   "outputs": [],
   "source": [
    "import sys \n",
    "sys.path.append('/home/sean/Documents/Work/Level 4/Level-4-Masters-Project/')\n",
    "import tensorflow as tf \n",
    "import numpy as np\n",
    "import matplotlib.pyplot as plt\n",
    "from tensorflow import keras\n",
    "from tensorflow.keras import layers \n",
    "from tensorflow.keras import models \n",
    "import matplotlib\n",
    "import Hyperparam_Testing.Testing_Notebooks.Common_Functions as cf \n",
    "from sklearn.model_selection import train_test_split as tts\n",
    "import datetime\n",
    "matplotlib.rcParams.update({'legend.fontsize': 16})\n",
    "matplotlib.rcParams.update({'font.size': 16})\n"
   ]
  },
  {
   "cell_type": "markdown",
   "metadata": {},
   "source": [
    "# Maths For Repopulating Array \n",
    "given that  \\\n",
    "$P(x>cutoff) = F$  \\\n",
    "$P(x<cutoff) = 1-F$  \\\n",
    "$n_{d}$ is both number of input fields and the number of desired fields.  \\\n",
    "$n_{gi}$ is number of inital fields which satisfy $(x>cutoff)$.  \\\n",
    "$n_{tg}$ is the total number of fields to generate.  \\\n",
    "$n_{gf}$ is number of fields generated in the second instance, which satisfy $(x>cutoff)$.   \\\n",
    "points required with buffer (b):  \\\n",
    "$n_{tg} = b \\cdot \\frac{n_{d}}{F}$  \\\n",
    "$n_{tg} = n_{gi} + n_{gf}$  \\\n",
    "$n_{gi} = n_d \\cdot F$     \\\n",
    "$n_{gf} = n_d\\cdot \\frac{b-F^2}{F}$"
   ]
  },
  {
   "cell_type": "code",
   "execution_count": 16,
   "metadata": {},
   "outputs": [
    {
     "data": {
      "text/plain": [
       "'20_02_22'"
      ]
     },
     "execution_count": 16,
     "metadata": {},
     "output_type": "execute_result"
    }
   ],
   "source": [
    "time = datetime.datetime.now()\n",
    "time_string = time.strftime('%d_%m_%y')\n"
   ]
  },
  {
   "cell_type": "code",
   "execution_count": 2,
   "metadata": {},
   "outputs": [
    {
     "name": "stdout",
     "output_type": "stream",
     "text": [
      "Training data cut for potential values below 0.1\n",
      "Remaining data fraction after cut  = 0.58188\n",
      "To retain 100000 training points generating 72755 more \n",
      "This produces 100522 usefull points\n"
     ]
    }
   ],
   "source": [
    "\n",
    "sigma = 0.03\n",
    "data = cf.noisy(sigma).data(10**5,cutoff = 0.1)"
   ]
  },
  {
   "cell_type": "code",
   "execution_count": 3,
   "metadata": {},
   "outputs": [],
   "source": [
    "x,y = data[:,:16],data[:,16]\n",
    "train_x, val_x, train_y, val_y =  tts(x,y,test_size = 0.1)"
   ]
  },
  {
   "cell_type": "code",
   "execution_count": 4,
   "metadata": {},
   "outputs": [
    {
     "name": "stderr",
     "output_type": "stream",
     "text": [
      "2022-02-20 14:01:36.696899: I tensorflow/stream_executor/cuda/cuda_gpu_executor.cc:937] successful NUMA node read from SysFS had negative value (-1), but there must be at least one NUMA node, so returning NUMA node zero\n",
      "2022-02-20 14:01:36.701263: I tensorflow/stream_executor/cuda/cuda_gpu_executor.cc:937] successful NUMA node read from SysFS had negative value (-1), but there must be at least one NUMA node, so returning NUMA node zero\n",
      "2022-02-20 14:01:36.701492: I tensorflow/stream_executor/cuda/cuda_gpu_executor.cc:937] successful NUMA node read from SysFS had negative value (-1), but there must be at least one NUMA node, so returning NUMA node zero\n"
     ]
    },
    {
     "name": "stdout",
     "output_type": "stream",
     "text": [
      "Model: \"sequential\"\n",
      "_________________________________________________________________\n",
      "Layer (type)                 Output Shape              Param #   \n",
      "=================================================================\n",
      "dense (Dense)                (None, 300)               5100      \n",
      "_________________________________________________________________\n",
      "dense_1 (Dense)              (None, 300)               90300     \n",
      "_________________________________________________________________\n",
      "dense_2 (Dense)              (None, 300)               90300     \n",
      "_________________________________________________________________\n",
      "dense_3 (Dense)              (None, 300)               90300     \n",
      "_________________________________________________________________\n",
      "dense_4 (Dense)              (None, 300)               90300     \n",
      "_________________________________________________________________\n",
      "dense_5 (Dense)              (None, 1)                 301       \n",
      "=================================================================\n",
      "Total params: 366,601\n",
      "Trainable params: 366,601\n",
      "Non-trainable params: 0\n",
      "_________________________________________________________________\n"
     ]
    },
    {
     "name": "stderr",
     "output_type": "stream",
     "text": [
      "2022-02-20 14:01:36.702282: I tensorflow/core/platform/cpu_feature_guard.cc:142] This TensorFlow binary is optimized with oneAPI Deep Neural Network Library (oneDNN) to use the following CPU instructions in performance-critical operations:  AVX2 FMA\n",
      "To enable them in other operations, rebuild TensorFlow with the appropriate compiler flags.\n",
      "2022-02-20 14:01:36.703086: I tensorflow/stream_executor/cuda/cuda_gpu_executor.cc:937] successful NUMA node read from SysFS had negative value (-1), but there must be at least one NUMA node, so returning NUMA node zero\n",
      "2022-02-20 14:01:36.703443: I tensorflow/stream_executor/cuda/cuda_gpu_executor.cc:937] successful NUMA node read from SysFS had negative value (-1), but there must be at least one NUMA node, so returning NUMA node zero\n",
      "2022-02-20 14:01:36.703647: I tensorflow/stream_executor/cuda/cuda_gpu_executor.cc:937] successful NUMA node read from SysFS had negative value (-1), but there must be at least one NUMA node, so returning NUMA node zero\n",
      "2022-02-20 14:01:36.961335: I tensorflow/stream_executor/cuda/cuda_gpu_executor.cc:937] successful NUMA node read from SysFS had negative value (-1), but there must be at least one NUMA node, so returning NUMA node zero\n",
      "2022-02-20 14:01:36.961579: I tensorflow/stream_executor/cuda/cuda_gpu_executor.cc:937] successful NUMA node read from SysFS had negative value (-1), but there must be at least one NUMA node, so returning NUMA node zero\n",
      "2022-02-20 14:01:36.961783: I tensorflow/stream_executor/cuda/cuda_gpu_executor.cc:937] successful NUMA node read from SysFS had negative value (-1), but there must be at least one NUMA node, so returning NUMA node zero\n",
      "2022-02-20 14:01:36.961967: I tensorflow/core/common_runtime/gpu/gpu_device.cc:1510] Created device /job:localhost/replica:0/task:0/device:GPU:0 with 2628 MB memory:  -> device: 0, name: NVIDIA GeForce GTX 970, pci bus id: 0000:2b:00.0, compute capability: 5.2\n"
     ]
    }
   ],
   "source": [
    "#Clear Session \n",
    "tf.keras.backend.clear_session()  \n",
    "\n",
    "opt = keras.optimizers.Adam(beta_1= 0.9, beta_2= 0.98)\n",
    "#Build Model \n",
    "model = models.Sequential()\n",
    "model.add(layers.Input(train_x.shape[1]))\n",
    "model.add(layers.Dense(300,activation= 'relu',))\n",
    "model.add(layers.Dense(300,activation= 'relu',))\n",
    "model.add(layers.Dense(300,activation= 'relu',))\n",
    "model.add(layers.Dense(300,activation= 'relu',))\n",
    "model.add(layers.Dense(300,activation= 'relu',))\n",
    "model.add(layers.Dense(1))\n",
    "model.compile(optimizer = opt,loss = 'mape', metrics = [['mean_absolute_error'],['mean_absolute_percentage_error']])\n",
    "model.summary()"
   ]
  },
  {
   "cell_type": "code",
   "execution_count": 5,
   "metadata": {},
   "outputs": [],
   "source": [
    "epoch_num = 100\n"
   ]
  },
  {
   "cell_type": "code",
   "execution_count": 6,
   "metadata": {},
   "outputs": [
    {
     "name": "stderr",
     "output_type": "stream",
     "text": [
      "2022-02-20 14:01:37.098094: I tensorflow/compiler/mlir/mlir_graph_optimization_pass.cc:185] None of the MLIR Optimization Passes are enabled (registered 2)\n"
     ]
    },
    {
     "name": "stdout",
     "output_type": "stream",
     "text": [
      "Epoch 1/100\n",
      "2813/2813 [==============================] - 5s 1ms/step - loss: 18.8336 - mean_absolute_error: 0.0397 - mean_absolute_percentage_error: 18.8336 - val_loss: 15.9873 - val_mean_absolute_error: 0.0344 - val_mean_absolute_percentage_error: 15.9873\n",
      "Epoch 2/100\n",
      "2813/2813 [==============================] - 4s 1ms/step - loss: 15.0657 - mean_absolute_error: 0.0304 - mean_absolute_percentage_error: 15.0657 - val_loss: 13.4154 - val_mean_absolute_error: 0.0263 - val_mean_absolute_percentage_error: 13.4154\n",
      "Epoch 3/100\n",
      "2813/2813 [==============================] - 4s 1ms/step - loss: 14.1501 - mean_absolute_error: 0.0284 - mean_absolute_percentage_error: 14.1501 - val_loss: 16.0848 - val_mean_absolute_error: 0.0320 - val_mean_absolute_percentage_error: 16.0848\n",
      "Epoch 4/100\n",
      "2813/2813 [==============================] - 4s 1ms/step - loss: 13.8567 - mean_absolute_error: 0.0277 - mean_absolute_percentage_error: 13.8567 - val_loss: 14.3506 - val_mean_absolute_error: 0.0292 - val_mean_absolute_percentage_error: 14.3506\n",
      "Epoch 5/100\n",
      "2813/2813 [==============================] - 4s 1ms/step - loss: 13.5097 - mean_absolute_error: 0.0269 - mean_absolute_percentage_error: 13.5097 - val_loss: 15.5821 - val_mean_absolute_error: 0.0333 - val_mean_absolute_percentage_error: 15.5821\n",
      "Epoch 6/100\n",
      "2813/2813 [==============================] - 4s 1ms/step - loss: 13.4614 - mean_absolute_error: 0.0268 - mean_absolute_percentage_error: 13.4614 - val_loss: 14.2574 - val_mean_absolute_error: 0.0290 - val_mean_absolute_percentage_error: 14.2574\n",
      "Epoch 7/100\n",
      "2813/2813 [==============================] - 4s 1ms/step - loss: 13.2544 - mean_absolute_error: 0.0263 - mean_absolute_percentage_error: 13.2544 - val_loss: 12.5845 - val_mean_absolute_error: 0.0249 - val_mean_absolute_percentage_error: 12.5845\n",
      "Epoch 8/100\n",
      "2813/2813 [==============================] - 4s 1ms/step - loss: 13.1619 - mean_absolute_error: 0.0262 - mean_absolute_percentage_error: 13.1619 - val_loss: 13.0655 - val_mean_absolute_error: 0.0262 - val_mean_absolute_percentage_error: 13.0655\n",
      "Epoch 9/100\n",
      "2813/2813 [==============================] - 4s 1ms/step - loss: 12.9483 - mean_absolute_error: 0.0257 - mean_absolute_percentage_error: 12.9483 - val_loss: 11.9150 - val_mean_absolute_error: 0.0235 - val_mean_absolute_percentage_error: 11.9150\n",
      "Epoch 10/100\n",
      "2813/2813 [==============================] - 4s 1ms/step - loss: 12.8764 - mean_absolute_error: 0.0256 - mean_absolute_percentage_error: 12.8764 - val_loss: 12.6624 - val_mean_absolute_error: 0.0247 - val_mean_absolute_percentage_error: 12.6624\n",
      "Epoch 11/100\n",
      "2813/2813 [==============================] - 4s 1ms/step - loss: 12.8003 - mean_absolute_error: 0.0254 - mean_absolute_percentage_error: 12.8003 - val_loss: 14.4228 - val_mean_absolute_error: 0.0273 - val_mean_absolute_percentage_error: 14.4228\n",
      "Epoch 12/100\n",
      "2813/2813 [==============================] - 4s 1ms/step - loss: 12.7591 - mean_absolute_error: 0.0253 - mean_absolute_percentage_error: 12.7591 - val_loss: 11.8922 - val_mean_absolute_error: 0.0236 - val_mean_absolute_percentage_error: 11.8922\n",
      "Epoch 13/100\n",
      "2813/2813 [==============================] - 4s 1ms/step - loss: 12.6136 - mean_absolute_error: 0.0250 - mean_absolute_percentage_error: 12.6136 - val_loss: 12.0388 - val_mean_absolute_error: 0.0244 - val_mean_absolute_percentage_error: 12.0388\n",
      "Epoch 14/100\n",
      "2813/2813 [==============================] - 4s 1ms/step - loss: 12.5598 - mean_absolute_error: 0.0248 - mean_absolute_percentage_error: 12.5598 - val_loss: 12.2696 - val_mean_absolute_error: 0.0230 - val_mean_absolute_percentage_error: 12.2696\n",
      "Epoch 15/100\n",
      "2813/2813 [==============================] - 4s 1ms/step - loss: 12.5112 - mean_absolute_error: 0.0247 - mean_absolute_percentage_error: 12.5112 - val_loss: 12.8709 - val_mean_absolute_error: 0.0263 - val_mean_absolute_percentage_error: 12.8709\n",
      "Epoch 16/100\n",
      "2813/2813 [==============================] - 3s 1ms/step - loss: 12.4644 - mean_absolute_error: 0.0247 - mean_absolute_percentage_error: 12.4644 - val_loss: 12.8227 - val_mean_absolute_error: 0.0255 - val_mean_absolute_percentage_error: 12.8227\n",
      "Epoch 17/100\n",
      "2813/2813 [==============================] - 3s 1ms/step - loss: 12.4133 - mean_absolute_error: 0.0245 - mean_absolute_percentage_error: 12.4133 - val_loss: 12.7461 - val_mean_absolute_error: 0.0257 - val_mean_absolute_percentage_error: 12.7461\n",
      "Epoch 18/100\n",
      "2813/2813 [==============================] - 3s 1ms/step - loss: 12.3027 - mean_absolute_error: 0.0243 - mean_absolute_percentage_error: 12.3027 - val_loss: 12.2869 - val_mean_absolute_error: 0.0242 - val_mean_absolute_percentage_error: 12.2869\n",
      "Epoch 19/100\n",
      "2813/2813 [==============================] - 3s 1ms/step - loss: 12.3238 - mean_absolute_error: 0.0243 - mean_absolute_percentage_error: 12.3238 - val_loss: 12.8987 - val_mean_absolute_error: 0.0272 - val_mean_absolute_percentage_error: 12.8987\n",
      "Epoch 20/100\n",
      "2813/2813 [==============================] - 3s 1ms/step - loss: 12.2541 - mean_absolute_error: 0.0242 - mean_absolute_percentage_error: 12.2541 - val_loss: 13.1741 - val_mean_absolute_error: 0.0270 - val_mean_absolute_percentage_error: 13.1741\n",
      "Epoch 21/100\n",
      "2813/2813 [==============================] - 3s 1ms/step - loss: 12.1922 - mean_absolute_error: 0.0240 - mean_absolute_percentage_error: 12.1922 - val_loss: 11.8943 - val_mean_absolute_error: 0.0237 - val_mean_absolute_percentage_error: 11.8943\n",
      "Epoch 22/100\n",
      "2813/2813 [==============================] - 3s 1ms/step - loss: 12.1100 - mean_absolute_error: 0.0239 - mean_absolute_percentage_error: 12.1100 - val_loss: 13.0390 - val_mean_absolute_error: 0.0243 - val_mean_absolute_percentage_error: 13.0390\n",
      "Epoch 23/100\n",
      "2813/2813 [==============================] - 3s 1ms/step - loss: 12.2160 - mean_absolute_error: 0.0241 - mean_absolute_percentage_error: 12.2160 - val_loss: 12.0437 - val_mean_absolute_error: 0.0234 - val_mean_absolute_percentage_error: 12.0437\n",
      "Epoch 24/100\n",
      "2813/2813 [==============================] - 3s 1ms/step - loss: 12.1175 - mean_absolute_error: 0.0239 - mean_absolute_percentage_error: 12.1175 - val_loss: 12.2688 - val_mean_absolute_error: 0.0245 - val_mean_absolute_percentage_error: 12.2688\n",
      "Epoch 25/100\n",
      "2813/2813 [==============================] - 3s 1ms/step - loss: 12.0853 - mean_absolute_error: 0.0238 - mean_absolute_percentage_error: 12.0853 - val_loss: 11.6125 - val_mean_absolute_error: 0.0227 - val_mean_absolute_percentage_error: 11.6125\n",
      "Epoch 26/100\n",
      "2813/2813 [==============================] - 3s 1ms/step - loss: 12.0202 - mean_absolute_error: 0.0237 - mean_absolute_percentage_error: 12.0202 - val_loss: 12.5559 - val_mean_absolute_error: 0.0253 - val_mean_absolute_percentage_error: 12.5559\n",
      "Epoch 27/100\n",
      "2813/2813 [==============================] - 3s 1ms/step - loss: 12.0386 - mean_absolute_error: 0.0237 - mean_absolute_percentage_error: 12.0386 - val_loss: 12.0659 - val_mean_absolute_error: 0.0235 - val_mean_absolute_percentage_error: 12.0659\n",
      "Epoch 28/100\n",
      "2813/2813 [==============================] - 3s 1ms/step - loss: 12.0251 - mean_absolute_error: 0.0237 - mean_absolute_percentage_error: 12.0251 - val_loss: 12.2161 - val_mean_absolute_error: 0.0235 - val_mean_absolute_percentage_error: 12.2161\n",
      "Epoch 29/100\n",
      "2813/2813 [==============================] - 3s 1ms/step - loss: 11.9620 - mean_absolute_error: 0.0235 - mean_absolute_percentage_error: 11.9620 - val_loss: 12.6724 - val_mean_absolute_error: 0.0236 - val_mean_absolute_percentage_error: 12.6724\n",
      "Epoch 30/100\n",
      "2813/2813 [==============================] - 4s 1ms/step - loss: 11.9162 - mean_absolute_error: 0.0235 - mean_absolute_percentage_error: 11.9162 - val_loss: 11.6778 - val_mean_absolute_error: 0.0232 - val_mean_absolute_percentage_error: 11.6778\n",
      "Epoch 31/100\n",
      "2813/2813 [==============================] - 4s 1ms/step - loss: 11.8762 - mean_absolute_error: 0.0234 - mean_absolute_percentage_error: 11.8762 - val_loss: 12.8852 - val_mean_absolute_error: 0.0261 - val_mean_absolute_percentage_error: 12.8852\n",
      "Epoch 32/100\n",
      "2813/2813 [==============================] - 4s 1ms/step - loss: 11.8998 - mean_absolute_error: 0.0234 - mean_absolute_percentage_error: 11.8998 - val_loss: 12.3575 - val_mean_absolute_error: 0.0243 - val_mean_absolute_percentage_error: 12.3575\n",
      "Epoch 33/100\n",
      "2813/2813 [==============================] - 4s 1ms/step - loss: 11.8287 - mean_absolute_error: 0.0233 - mean_absolute_percentage_error: 11.8287 - val_loss: 11.9466 - val_mean_absolute_error: 0.0241 - val_mean_absolute_percentage_error: 11.9466\n",
      "Epoch 34/100\n",
      "2813/2813 [==============================] - 3s 1ms/step - loss: 11.8515 - mean_absolute_error: 0.0233 - mean_absolute_percentage_error: 11.8515 - val_loss: 12.1402 - val_mean_absolute_error: 0.0238 - val_mean_absolute_percentage_error: 12.1402\n",
      "Epoch 35/100\n",
      "2813/2813 [==============================] - 3s 1ms/step - loss: 11.8315 - mean_absolute_error: 0.0233 - mean_absolute_percentage_error: 11.8315 - val_loss: 12.1136 - val_mean_absolute_error: 0.0244 - val_mean_absolute_percentage_error: 12.1136\n",
      "Epoch 36/100\n",
      "2813/2813 [==============================] - 4s 1ms/step - loss: 11.8386 - mean_absolute_error: 0.0233 - mean_absolute_percentage_error: 11.8386 - val_loss: 11.7970 - val_mean_absolute_error: 0.0230 - val_mean_absolute_percentage_error: 11.7970\n",
      "Epoch 37/100\n",
      "2813/2813 [==============================] - 3s 1ms/step - loss: 11.8334 - mean_absolute_error: 0.0233 - mean_absolute_percentage_error: 11.8334 - val_loss: 12.0673 - val_mean_absolute_error: 0.0236 - val_mean_absolute_percentage_error: 12.0673\n",
      "Epoch 38/100\n",
      "2813/2813 [==============================] - 4s 1ms/step - loss: 11.7284 - mean_absolute_error: 0.0230 - mean_absolute_percentage_error: 11.7284 - val_loss: 11.8907 - val_mean_absolute_error: 0.0230 - val_mean_absolute_percentage_error: 11.8907\n",
      "Epoch 39/100\n",
      "2813/2813 [==============================] - 4s 1ms/step - loss: 11.7670 - mean_absolute_error: 0.0231 - mean_absolute_percentage_error: 11.7670 - val_loss: 11.6373 - val_mean_absolute_error: 0.0223 - val_mean_absolute_percentage_error: 11.6373\n",
      "Epoch 40/100\n",
      "2813/2813 [==============================] - 3s 1ms/step - loss: 11.7413 - mean_absolute_error: 0.0231 - mean_absolute_percentage_error: 11.7413 - val_loss: 11.9709 - val_mean_absolute_error: 0.0228 - val_mean_absolute_percentage_error: 11.9709\n",
      "Epoch 41/100\n",
      "2813/2813 [==============================] - 3s 1ms/step - loss: 11.7145 - mean_absolute_error: 0.0230 - mean_absolute_percentage_error: 11.7145 - val_loss: 12.3623 - val_mean_absolute_error: 0.0256 - val_mean_absolute_percentage_error: 12.3623\n",
      "Epoch 42/100\n",
      "2813/2813 [==============================] - 4s 1ms/step - loss: 11.6788 - mean_absolute_error: 0.0230 - mean_absolute_percentage_error: 11.6788 - val_loss: 11.8895 - val_mean_absolute_error: 0.0235 - val_mean_absolute_percentage_error: 11.8895\n",
      "Epoch 43/100\n",
      "2813/2813 [==============================] - 3s 1ms/step - loss: 11.6744 - mean_absolute_error: 0.0229 - mean_absolute_percentage_error: 11.6744 - val_loss: 12.0286 - val_mean_absolute_error: 0.0241 - val_mean_absolute_percentage_error: 12.0286\n",
      "Epoch 44/100\n",
      "2813/2813 [==============================] - 4s 1ms/step - loss: 11.6792 - mean_absolute_error: 0.0230 - mean_absolute_percentage_error: 11.6792 - val_loss: 11.7466 - val_mean_absolute_error: 0.0237 - val_mean_absolute_percentage_error: 11.7466\n",
      "Epoch 45/100\n",
      "2813/2813 [==============================] - 4s 1ms/step - loss: 11.6206 - mean_absolute_error: 0.0228 - mean_absolute_percentage_error: 11.6206 - val_loss: 11.5720 - val_mean_absolute_error: 0.0221 - val_mean_absolute_percentage_error: 11.5720\n",
      "Epoch 46/100\n",
      "2813/2813 [==============================] - 3s 1ms/step - loss: 11.6447 - mean_absolute_error: 0.0228 - mean_absolute_percentage_error: 11.6447 - val_loss: 11.8224 - val_mean_absolute_error: 0.0235 - val_mean_absolute_percentage_error: 11.8224\n",
      "Epoch 47/100\n",
      "2813/2813 [==============================] - 4s 1ms/step - loss: 11.6290 - mean_absolute_error: 0.0228 - mean_absolute_percentage_error: 11.6290 - val_loss: 11.8248 - val_mean_absolute_error: 0.0231 - val_mean_absolute_percentage_error: 11.8248\n",
      "Epoch 48/100\n",
      "2813/2813 [==============================] - 3s 1ms/step - loss: 11.6259 - mean_absolute_error: 0.0229 - mean_absolute_percentage_error: 11.6259 - val_loss: 12.0306 - val_mean_absolute_error: 0.0229 - val_mean_absolute_percentage_error: 12.0306\n",
      "Epoch 49/100\n",
      "2813/2813 [==============================] - 4s 1ms/step - loss: 11.5803 - mean_absolute_error: 0.0228 - mean_absolute_percentage_error: 11.5803 - val_loss: 12.2596 - val_mean_absolute_error: 0.0241 - val_mean_absolute_percentage_error: 12.2596\n",
      "Epoch 50/100\n",
      "2813/2813 [==============================] - 3s 1ms/step - loss: 11.5372 - mean_absolute_error: 0.0227 - mean_absolute_percentage_error: 11.5372 - val_loss: 11.8328 - val_mean_absolute_error: 0.0229 - val_mean_absolute_percentage_error: 11.8328\n",
      "Epoch 51/100\n",
      "2813/2813 [==============================] - 3s 1ms/step - loss: 11.5343 - mean_absolute_error: 0.0226 - mean_absolute_percentage_error: 11.5343 - val_loss: 11.7400 - val_mean_absolute_error: 0.0226 - val_mean_absolute_percentage_error: 11.7400\n",
      "Epoch 52/100\n",
      "2813/2813 [==============================] - 3s 1ms/step - loss: 11.5627 - mean_absolute_error: 0.0227 - mean_absolute_percentage_error: 11.5627 - val_loss: 11.8666 - val_mean_absolute_error: 0.0236 - val_mean_absolute_percentage_error: 11.8666\n",
      "Epoch 53/100\n",
      "2813/2813 [==============================] - 3s 1ms/step - loss: 11.5203 - mean_absolute_error: 0.0226 - mean_absolute_percentage_error: 11.5203 - val_loss: 11.9487 - val_mean_absolute_error: 0.0229 - val_mean_absolute_percentage_error: 11.9487\n",
      "Epoch 54/100\n",
      "2813/2813 [==============================] - 3s 1ms/step - loss: 11.5281 - mean_absolute_error: 0.0226 - mean_absolute_percentage_error: 11.5281 - val_loss: 12.0303 - val_mean_absolute_error: 0.0248 - val_mean_absolute_percentage_error: 12.0303\n",
      "Epoch 55/100\n",
      "2813/2813 [==============================] - 3s 1ms/step - loss: 11.4965 - mean_absolute_error: 0.0226 - mean_absolute_percentage_error: 11.4965 - val_loss: 11.6308 - val_mean_absolute_error: 0.0223 - val_mean_absolute_percentage_error: 11.6308\n",
      "Epoch 56/100\n",
      "2813/2813 [==============================] - 3s 1ms/step - loss: 11.4988 - mean_absolute_error: 0.0226 - mean_absolute_percentage_error: 11.4988 - val_loss: 11.9773 - val_mean_absolute_error: 0.0234 - val_mean_absolute_percentage_error: 11.9773\n",
      "Epoch 57/100\n",
      "2813/2813 [==============================] - 3s 1ms/step - loss: 11.4918 - mean_absolute_error: 0.0225 - mean_absolute_percentage_error: 11.4918 - val_loss: 11.5552 - val_mean_absolute_error: 0.0230 - val_mean_absolute_percentage_error: 11.5552\n",
      "Epoch 58/100\n",
      "2813/2813 [==============================] - 3s 1ms/step - loss: 11.4685 - mean_absolute_error: 0.0225 - mean_absolute_percentage_error: 11.4685 - val_loss: 11.7991 - val_mean_absolute_error: 0.0240 - val_mean_absolute_percentage_error: 11.7991\n",
      "Epoch 59/100\n",
      "2813/2813 [==============================] - 4s 1ms/step - loss: 11.4342 - mean_absolute_error: 0.0224 - mean_absolute_percentage_error: 11.4342 - val_loss: 12.1959 - val_mean_absolute_error: 0.0231 - val_mean_absolute_percentage_error: 12.1959\n",
      "Epoch 60/100\n",
      "2813/2813 [==============================] - 3s 1ms/step - loss: 11.4625 - mean_absolute_error: 0.0225 - mean_absolute_percentage_error: 11.4625 - val_loss: 12.1565 - val_mean_absolute_error: 0.0238 - val_mean_absolute_percentage_error: 12.1565\n",
      "Epoch 61/100\n",
      "2813/2813 [==============================] - 3s 1ms/step - loss: 11.4417 - mean_absolute_error: 0.0225 - mean_absolute_percentage_error: 11.4417 - val_loss: 11.7710 - val_mean_absolute_error: 0.0225 - val_mean_absolute_percentage_error: 11.7710\n",
      "Epoch 62/100\n",
      "2813/2813 [==============================] - 3s 1ms/step - loss: 11.3810 - mean_absolute_error: 0.0223 - mean_absolute_percentage_error: 11.3810 - val_loss: 11.7393 - val_mean_absolute_error: 0.0229 - val_mean_absolute_percentage_error: 11.7393\n",
      "Epoch 63/100\n",
      "2813/2813 [==============================] - 3s 1ms/step - loss: 11.3988 - mean_absolute_error: 0.0224 - mean_absolute_percentage_error: 11.3988 - val_loss: 12.0019 - val_mean_absolute_error: 0.0232 - val_mean_absolute_percentage_error: 12.0019\n",
      "Epoch 64/100\n",
      "2813/2813 [==============================] - 3s 1ms/step - loss: 11.3912 - mean_absolute_error: 0.0223 - mean_absolute_percentage_error: 11.3912 - val_loss: 12.3861 - val_mean_absolute_error: 0.0256 - val_mean_absolute_percentage_error: 12.3861\n",
      "Epoch 65/100\n",
      "2813/2813 [==============================] - 3s 1ms/step - loss: 11.3498 - mean_absolute_error: 0.0223 - mean_absolute_percentage_error: 11.3498 - val_loss: 12.4539 - val_mean_absolute_error: 0.0259 - val_mean_absolute_percentage_error: 12.4539\n",
      "Epoch 66/100\n",
      "2813/2813 [==============================] - 3s 1ms/step - loss: 11.3636 - mean_absolute_error: 0.0223 - mean_absolute_percentage_error: 11.3636 - val_loss: 11.6836 - val_mean_absolute_error: 0.0229 - val_mean_absolute_percentage_error: 11.6836\n",
      "Epoch 67/100\n",
      "2813/2813 [==============================] - 3s 1ms/step - loss: 11.3322 - mean_absolute_error: 0.0222 - mean_absolute_percentage_error: 11.3322 - val_loss: 11.9555 - val_mean_absolute_error: 0.0231 - val_mean_absolute_percentage_error: 11.9555\n",
      "Epoch 68/100\n",
      "2813/2813 [==============================] - 3s 1ms/step - loss: 11.3554 - mean_absolute_error: 0.0223 - mean_absolute_percentage_error: 11.3554 - val_loss: 11.7448 - val_mean_absolute_error: 0.0229 - val_mean_absolute_percentage_error: 11.7448\n",
      "Epoch 69/100\n",
      "2813/2813 [==============================] - 3s 1ms/step - loss: 11.3304 - mean_absolute_error: 0.0222 - mean_absolute_percentage_error: 11.3304 - val_loss: 12.0374 - val_mean_absolute_error: 0.0233 - val_mean_absolute_percentage_error: 12.0374\n",
      "Epoch 70/100\n",
      "2813/2813 [==============================] - 3s 1ms/step - loss: 11.3296 - mean_absolute_error: 0.0222 - mean_absolute_percentage_error: 11.3296 - val_loss: 12.5728 - val_mean_absolute_error: 0.0234 - val_mean_absolute_percentage_error: 12.5728\n",
      "Epoch 71/100\n",
      "2813/2813 [==============================] - 3s 1ms/step - loss: 11.2970 - mean_absolute_error: 0.0222 - mean_absolute_percentage_error: 11.2970 - val_loss: 11.6079 - val_mean_absolute_error: 0.0230 - val_mean_absolute_percentage_error: 11.6079\n",
      "Epoch 72/100\n",
      "2813/2813 [==============================] - 3s 1ms/step - loss: 11.3130 - mean_absolute_error: 0.0222 - mean_absolute_percentage_error: 11.3130 - val_loss: 11.6768 - val_mean_absolute_error: 0.0227 - val_mean_absolute_percentage_error: 11.6768\n",
      "Epoch 73/100\n",
      "2813/2813 [==============================] - 3s 1ms/step - loss: 11.2677 - mean_absolute_error: 0.0221 - mean_absolute_percentage_error: 11.2677 - val_loss: 12.3216 - val_mean_absolute_error: 0.0237 - val_mean_absolute_percentage_error: 12.3216\n",
      "Epoch 74/100\n",
      "2813/2813 [==============================] - 3s 1ms/step - loss: 11.2579 - mean_absolute_error: 0.0221 - mean_absolute_percentage_error: 11.2579 - val_loss: 11.8741 - val_mean_absolute_error: 0.0230 - val_mean_absolute_percentage_error: 11.8741\n",
      "Epoch 75/100\n",
      "2813/2813 [==============================] - 3s 1ms/step - loss: 11.2704 - mean_absolute_error: 0.0221 - mean_absolute_percentage_error: 11.2704 - val_loss: 12.1665 - val_mean_absolute_error: 0.0249 - val_mean_absolute_percentage_error: 12.1665\n",
      "Epoch 76/100\n",
      "2813/2813 [==============================] - 3s 1ms/step - loss: 11.2410 - mean_absolute_error: 0.0220 - mean_absolute_percentage_error: 11.2410 - val_loss: 11.7593 - val_mean_absolute_error: 0.0238 - val_mean_absolute_percentage_error: 11.7593\n",
      "Epoch 77/100\n",
      "2813/2813 [==============================] - 3s 1ms/step - loss: 11.2451 - mean_absolute_error: 0.0220 - mean_absolute_percentage_error: 11.2451 - val_loss: 11.6999 - val_mean_absolute_error: 0.0232 - val_mean_absolute_percentage_error: 11.6999\n",
      "Epoch 78/100\n",
      "2813/2813 [==============================] - 3s 1ms/step - loss: 11.2219 - mean_absolute_error: 0.0220 - mean_absolute_percentage_error: 11.2219 - val_loss: 12.1260 - val_mean_absolute_error: 0.0250 - val_mean_absolute_percentage_error: 12.1260\n",
      "Epoch 79/100\n",
      "2813/2813 [==============================] - 3s 1ms/step - loss: 11.2534 - mean_absolute_error: 0.0221 - mean_absolute_percentage_error: 11.2534 - val_loss: 11.7807 - val_mean_absolute_error: 0.0234 - val_mean_absolute_percentage_error: 11.7807\n",
      "Epoch 80/100\n",
      "2813/2813 [==============================] - 3s 1ms/step - loss: 11.2250 - mean_absolute_error: 0.0220 - mean_absolute_percentage_error: 11.2250 - val_loss: 11.7777 - val_mean_absolute_error: 0.0234 - val_mean_absolute_percentage_error: 11.7777\n",
      "Epoch 81/100\n",
      "2813/2813 [==============================] - 3s 1ms/step - loss: 11.1784 - mean_absolute_error: 0.0219 - mean_absolute_percentage_error: 11.1784 - val_loss: 12.0491 - val_mean_absolute_error: 0.0241 - val_mean_absolute_percentage_error: 12.0491\n",
      "Epoch 82/100\n",
      "2813/2813 [==============================] - 3s 1ms/step - loss: 11.1897 - mean_absolute_error: 0.0220 - mean_absolute_percentage_error: 11.1897 - val_loss: 12.3892 - val_mean_absolute_error: 0.0244 - val_mean_absolute_percentage_error: 12.3892\n",
      "Epoch 83/100\n",
      "2813/2813 [==============================] - 3s 1ms/step - loss: 11.2069 - mean_absolute_error: 0.0220 - mean_absolute_percentage_error: 11.2069 - val_loss: 11.6608 - val_mean_absolute_error: 0.0228 - val_mean_absolute_percentage_error: 11.6608\n",
      "Epoch 84/100\n",
      "2813/2813 [==============================] - 3s 1ms/step - loss: 11.1576 - mean_absolute_error: 0.0219 - mean_absolute_percentage_error: 11.1576 - val_loss: 12.0091 - val_mean_absolute_error: 0.0235 - val_mean_absolute_percentage_error: 12.0091\n",
      "Epoch 85/100\n",
      "2813/2813 [==============================] - 3s 1ms/step - loss: 11.1854 - mean_absolute_error: 0.0219 - mean_absolute_percentage_error: 11.1854 - val_loss: 11.7297 - val_mean_absolute_error: 0.0231 - val_mean_absolute_percentage_error: 11.7297\n",
      "Epoch 86/100\n",
      "2813/2813 [==============================] - 3s 1ms/step - loss: 11.1759 - mean_absolute_error: 0.0219 - mean_absolute_percentage_error: 11.1759 - val_loss: 11.7112 - val_mean_absolute_error: 0.0230 - val_mean_absolute_percentage_error: 11.7112\n",
      "Epoch 87/100\n",
      "2813/2813 [==============================] - 3s 1ms/step - loss: 11.1452 - mean_absolute_error: 0.0219 - mean_absolute_percentage_error: 11.1452 - val_loss: 12.3281 - val_mean_absolute_error: 0.0249 - val_mean_absolute_percentage_error: 12.3281\n",
      "Epoch 88/100\n",
      "2813/2813 [==============================] - 3s 1ms/step - loss: 11.1722 - mean_absolute_error: 0.0219 - mean_absolute_percentage_error: 11.1722 - val_loss: 11.7611 - val_mean_absolute_error: 0.0228 - val_mean_absolute_percentage_error: 11.7611\n",
      "Epoch 89/100\n",
      "2813/2813 [==============================] - 3s 1ms/step - loss: 11.1276 - mean_absolute_error: 0.0219 - mean_absolute_percentage_error: 11.1276 - val_loss: 11.6606 - val_mean_absolute_error: 0.0226 - val_mean_absolute_percentage_error: 11.6606\n",
      "Epoch 90/100\n",
      "2813/2813 [==============================] - 3s 1ms/step - loss: 11.1054 - mean_absolute_error: 0.0218 - mean_absolute_percentage_error: 11.1054 - val_loss: 11.8550 - val_mean_absolute_error: 0.0225 - val_mean_absolute_percentage_error: 11.8550\n",
      "Epoch 91/100\n",
      "2813/2813 [==============================] - 3s 1ms/step - loss: 11.0963 - mean_absolute_error: 0.0218 - mean_absolute_percentage_error: 11.0963 - val_loss: 11.8960 - val_mean_absolute_error: 0.0231 - val_mean_absolute_percentage_error: 11.8960\n",
      "Epoch 92/100\n",
      "2813/2813 [==============================] - 3s 1ms/step - loss: 11.0852 - mean_absolute_error: 0.0217 - mean_absolute_percentage_error: 11.0852 - val_loss: 12.2223 - val_mean_absolute_error: 0.0252 - val_mean_absolute_percentage_error: 12.2223\n",
      "Epoch 93/100\n",
      "2813/2813 [==============================] - 3s 1ms/step - loss: 11.0674 - mean_absolute_error: 0.0217 - mean_absolute_percentage_error: 11.0674 - val_loss: 11.7327 - val_mean_absolute_error: 0.0228 - val_mean_absolute_percentage_error: 11.7327\n",
      "Epoch 94/100\n",
      "2813/2813 [==============================] - 3s 1ms/step - loss: 11.0799 - mean_absolute_error: 0.0217 - mean_absolute_percentage_error: 11.0799 - val_loss: 11.7500 - val_mean_absolute_error: 0.0228 - val_mean_absolute_percentage_error: 11.7500\n",
      "Epoch 95/100\n",
      "2813/2813 [==============================] - 3s 1ms/step - loss: 11.0604 - mean_absolute_error: 0.0217 - mean_absolute_percentage_error: 11.0604 - val_loss: 11.6579 - val_mean_absolute_error: 0.0222 - val_mean_absolute_percentage_error: 11.6579\n",
      "Epoch 96/100\n",
      "2813/2813 [==============================] - 3s 1ms/step - loss: 11.0565 - mean_absolute_error: 0.0217 - mean_absolute_percentage_error: 11.0565 - val_loss: 11.5835 - val_mean_absolute_error: 0.0223 - val_mean_absolute_percentage_error: 11.5835\n",
      "Epoch 97/100\n",
      "2813/2813 [==============================] - 3s 1ms/step - loss: 11.0660 - mean_absolute_error: 0.0217 - mean_absolute_percentage_error: 11.0660 - val_loss: 11.7901 - val_mean_absolute_error: 0.0226 - val_mean_absolute_percentage_error: 11.7901\n",
      "Epoch 98/100\n",
      "2813/2813 [==============================] - 3s 1ms/step - loss: 11.0229 - mean_absolute_error: 0.0216 - mean_absolute_percentage_error: 11.0229 - val_loss: 11.6431 - val_mean_absolute_error: 0.0227 - val_mean_absolute_percentage_error: 11.6431\n",
      "Epoch 99/100\n",
      "2813/2813 [==============================] - 3s 1ms/step - loss: 11.0276 - mean_absolute_error: 0.0216 - mean_absolute_percentage_error: 11.0276 - val_loss: 11.8311 - val_mean_absolute_error: 0.0234 - val_mean_absolute_percentage_error: 11.8311\n",
      "Epoch 100/100\n",
      "2813/2813 [==============================] - 3s 1ms/step - loss: 11.0200 - mean_absolute_error: 0.0216 - mean_absolute_percentage_error: 11.0200 - val_loss: 12.3218 - val_mean_absolute_error: 0.0232 - val_mean_absolute_percentage_error: 12.3218\n"
     ]
    }
   ],
   "source": [
    "\n",
    "history = model.fit(train_x,train_y,validation_data=(val_x,val_y),batch_size= 32 , epochs = epoch_num)"
   ]
  },
  {
   "cell_type": "code",
   "execution_count": 21,
   "metadata": {},
   "outputs": [],
   "source": [
    "#history = model.history\n",
    "model.save('./5_10{}datapoints_noise_{}.h5'.format((np.log10(train_y.shape[0]+val_y.shape[0])),sigma))\n",
    "model = tf.keras.models.load_model('/home/sean/Documents/Work/Level 4/Level-4-Masters-Project/Hyperparam_Testing/Testing_Notebooks/Optimised_Network/103.0datapoints_noise_0.03_cutoff_0.1_date20_02_22.h5')\n",
    "pred_y = model.predict(x)\n",
    "mape = np.mean(abs((pred_y[:,0]-y)/y))"
   ]
  },
  {
   "cell_type": "code",
   "execution_count": 22,
   "metadata": {},
   "outputs": [
    {
     "name": "stdout",
     "output_type": "stream",
     "text": [
      "0.16960337971241365\n"
     ]
    }
   ],
   "source": [
    "print(mape)"
   ]
  },
  {
   "cell_type": "code",
   "execution_count": 23,
   "metadata": {},
   "outputs": [],
   "source": [
    "loss = history.history['loss']\n",
    "val_loss = history.history['val_loss']\n",
    "## Save these \n",
    "np.savetxt('./loss_for_window.csv',loss)\n",
    "np.savetxt('./val_loss_for_window.csv',val_loss)"
   ]
  },
  {
   "cell_type": "code",
   "execution_count": 9,
   "metadata": {},
   "outputs": [
    {
     "data": {
      "text/plain": [
       "[<matplotlib.lines.Line2D at 0x7fc1930d9be0>]"
      ]
     },
     "execution_count": 9,
     "metadata": {},
     "output_type": "execute_result"
    },
    {
     "data": {
      "image/png": "[encoded data removed]",
      "text/plain": [
       "<Figure size 432x288 with 1 Axes>"
      ]
     },
     "metadata": {
      "needs_background": "light"
     },
     "output_type": "display_data"
    }
   ],
   "source": [
    "plt.semilogx(range(epoch_num),val_loss,c = 'black',label = 'val_Loss')\n",
    "plt.semilogx(range(epoch_num),loss,c = 'red',label = 'Loss')"
   ]
  },
  {
   "cell_type": "code",
   "execution_count": 10,
   "metadata": {},
   "outputs": [
    {
     "ename": "NameError",
     "evalue": "name 'gen_and_load_noisy' is not defined",
     "output_type": "error",
     "traceback": [
      "\u001b[0;31m---------------------------------------------------------------------------\u001b[0m",
      "\u001b[0;31mNameError\u001b[0m                                 Traceback (most recent call last)",
      "\u001b[0;32m/tmp/ipykernel_547714/277909536.py\u001b[0m in \u001b[0;36m<module>\u001b[0;34m\u001b[0m\n\u001b[0;32m----> 1\u001b[0;31m \u001b[0mnew_test_data\u001b[0m \u001b[0;34m=\u001b[0m \u001b[0mgen_and_load_noisy\u001b[0m\u001b[0;34m(\u001b[0m\u001b[0;36m10\u001b[0m\u001b[0;34m**\u001b[0m\u001b[0;36m5\u001b[0m\u001b[0;34m,\u001b[0m\u001b[0;36m0\u001b[0m\u001b[0;34m,\u001b[0m\u001b[0msigma\u001b[0m\u001b[0;34m,\u001b[0m\u001b[0mcutoff\u001b[0m \u001b[0;34m=\u001b[0m \u001b[0;36m0.1\u001b[0m\u001b[0;34m)\u001b[0m\u001b[0;34m\u001b[0m\u001b[0;34m\u001b[0m\u001b[0m\n\u001b[0m\u001b[1;32m      2\u001b[0m \u001b[0mtest_x\u001b[0m\u001b[0;34m,\u001b[0m\u001b[0mtest_y\u001b[0m \u001b[0;34m=\u001b[0m \u001b[0mnew_test_data\u001b[0m\u001b[0;34m[\u001b[0m\u001b[0;36m1\u001b[0m\u001b[0;34m]\u001b[0m\u001b[0;34m\u001b[0m\u001b[0;34m\u001b[0m\u001b[0m\n",
      "\u001b[0;31mNameError\u001b[0m: name 'gen_and_load_noisy' is not defined"
     ]
    }
   ],
   "source": [
    "new_test_data = gen_and_load_noisy(10**5,0,sigma,cutoff = 0.1)\n",
    "test_x,test_y = new_test_data[1]"
   ]
  },
  {
   "cell_type": "code",
   "execution_count": null,
   "metadata": {},
   "outputs": [
    {
     "name": "stdout",
     "output_type": "stream",
     "text": [
      "Test MAPE with sigma 0.04 is: 15.883269009724843\n"
     ]
    }
   ],
   "source": [
    "pred_y = model.predict(test_x)[:,0]\n",
    "mape = np.mean(abs((test_y-pred_y)/pred_y))\n",
    "print('Test MAPE with sigma {} is: {}'.format(sigma,mape*100))"
   ]
  },
  {
   "cell_type": "markdown",
   "metadata": {},
   "source": [
    "Huge Mape improvement with the noisy data using a cutoff, it really performs extra well"
   ]
  }
 ],
 "metadata": {
  "interpreter": {
   "hash": "f104f88efb840d0e3bc7589e04724d256e4ed8b928c3ad9315ee551fb11f4dcf"
  },
  "kernelspec": {
   "display_name": "Python 3.9.7 64-bit ('tf-gpu': conda)",
   "name": "python3"
  },
  "language_info": {
   "codemirror_mode": {
    "name": "ipython",
    "version": 3
   },
   "file_extension": ".py",
   "mimetype": "text/x-python",
   "name": "python",
   "nbconvert_exporter": "python",
   "pygments_lexer": "ipython3",
   "version": "3.9.7"
  },
  "orig_nbformat": 4
 },
 "nbformat": 4,
 "nbformat_minor": 2
}
