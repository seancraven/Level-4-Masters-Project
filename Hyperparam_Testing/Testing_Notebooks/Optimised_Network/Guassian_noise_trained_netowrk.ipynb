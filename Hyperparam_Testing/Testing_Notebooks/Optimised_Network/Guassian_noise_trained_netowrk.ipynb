{
 "cells": [
  {
   "cell_type": "code",
   "execution_count": 1,
   "metadata": {},
   "outputs": [],
   "source": [
    "import sys \n",
    "sys.path.append('/home/sean/Documents/Work/Level 4/Level-4-Masters-Project/')\n",
    "import tensorflow as tf \n",
    "import numpy as np\n",
    "import matplotlib.pyplot as plt\n",
    "import pandas as pd\n",
    "\n",
    "from tensorflow import keras\n",
    "from tensorflow.keras import layers \n",
    "from tensorflow.keras import models \n",
    "import os\n",
    "from keras.regularizers import l2\n",
    "import matplotlib\n",
    "from multiprocessing import Pool\n",
    "import Hyperparam_Testing.Testing_Notebooks.Common_Functions as cf \n",
    "import Hyperparam_Testing.Testing_Notebooks.chirallag as cL\n",
    "\n",
    "matplotlib.rcParams.update({'legend.fontsize': 16})\n",
    "matplotlib.rcParams.update({'font.size': 16})\n"
   ]
  },
  {
   "cell_type": "code",
   "execution_count": 2,
   "metadata": {},
   "outputs": [],
   "source": [
    "def gen_and_load_noisy(n_pred,n_val,sigma):\n",
    "    number_predictions= n_pred\n",
    "    N = 3\n",
    "    F0 = 1\n",
    "    gens = cL.gen_gellman(3)\n",
    "    pi=np.random.rand(number_predictions,N*N-1)**0.25\n",
    "    dpi=np.random.rand(number_predictions,N*N-1)**0.25\n",
    "    orig_V = abs(cL.get_V(pi,dpi,gens,F0).real)\n",
    "    #Make the xvals noisey\n",
    "    pi = cf.apply_noise(pi,sigma)\n",
    "    dpi = cf.apply_noise(dpi,sigma)\n",
    "    output = np.hstack((pi,dpi,np.expand_dims(orig_V,axis=1)))\n",
    "    \n",
    "    return [(output[:-n_val,:-1],output[:-n_val,-1]),(output[-n_val:,:-1],output[-n_val:,-1])]"
   ]
  },
  {
   "cell_type": "code",
   "execution_count": 3,
   "metadata": {},
   "outputs": [],
   "source": [
    "sigma = 0.03\n",
    "data = gen_and_load_noisy(10**7,10**5,sigma)\n",
    "train_x ,train_y = data[0]\n",
    "val_x,val_y = data[1]"
   ]
  },
  {
   "cell_type": "code",
   "execution_count": 5,
   "metadata": {},
   "outputs": [],
   "source": [
    "opt = keras.optimizers.Adam(beta_1= 0.9, beta_2= 0.98)\n"
   ]
  },
  {
   "cell_type": "code",
   "execution_count": 6,
   "metadata": {},
   "outputs": [
    {
     "name": "stdout",
     "output_type": "stream",
     "text": [
      "Model: \"sequential\"\n",
      "_________________________________________________________________\n",
      "Layer (type)                 Output Shape              Param #   \n",
      "=================================================================\n",
      "dense (Dense)                (None, 300)               5100      \n",
      "_________________________________________________________________\n",
      "dense_1 (Dense)              (None, 300)               90300     \n",
      "_________________________________________________________________\n",
      "dense_2 (Dense)              (None, 300)               90300     \n",
      "_________________________________________________________________\n",
      "dense_3 (Dense)              (None, 300)               90300     \n",
      "_________________________________________________________________\n",
      "dense_4 (Dense)              (None, 300)               90300     \n",
      "_________________________________________________________________\n",
      "dense_5 (Dense)              (None, 1)                 301       \n",
      "=================================================================\n",
      "Total params: 366,601\n",
      "Trainable params: 366,601\n",
      "Non-trainable params: 0\n",
      "_________________________________________________________________\n"
     ]
    },
    {
     "name": "stderr",
     "output_type": "stream",
     "text": [
      "2022-02-16 22:47:47.139746: I tensorflow/stream_executor/cuda/cuda_gpu_executor.cc:937] successful NUMA node read from SysFS had negative value (-1), but there must be at least one NUMA node, so returning NUMA node zero\n",
      "2022-02-16 22:47:47.144827: I tensorflow/stream_executor/cuda/cuda_gpu_executor.cc:937] successful NUMA node read from SysFS had negative value (-1), but there must be at least one NUMA node, so returning NUMA node zero\n",
      "2022-02-16 22:47:47.145102: I tensorflow/stream_executor/cuda/cuda_gpu_executor.cc:937] successful NUMA node read from SysFS had negative value (-1), but there must be at least one NUMA node, so returning NUMA node zero\n",
      "2022-02-16 22:47:47.145510: I tensorflow/core/platform/cpu_feature_guard.cc:142] This TensorFlow binary is optimized with oneAPI Deep Neural Network Library (oneDNN) to use the following CPU instructions in performance-critical operations:  AVX2 FMA\n",
      "To enable them in other operations, rebuild TensorFlow with the appropriate compiler flags.\n",
      "2022-02-16 22:47:47.146281: I tensorflow/stream_executor/cuda/cuda_gpu_executor.cc:937] successful NUMA node read from SysFS had negative value (-1), but there must be at least one NUMA node, so returning NUMA node zero\n",
      "2022-02-16 22:47:47.146544: I tensorflow/stream_executor/cuda/cuda_gpu_executor.cc:937] successful NUMA node read from SysFS had negative value (-1), but there must be at least one NUMA node, so returning NUMA node zero\n",
      "2022-02-16 22:47:47.146784: I tensorflow/stream_executor/cuda/cuda_gpu_executor.cc:937] successful NUMA node read from SysFS had negative value (-1), but there must be at least one NUMA node, so returning NUMA node zero\n",
      "2022-02-16 22:47:47.395007: I tensorflow/stream_executor/cuda/cuda_gpu_executor.cc:937] successful NUMA node read from SysFS had negative value (-1), but there must be at least one NUMA node, so returning NUMA node zero\n",
      "2022-02-16 22:47:47.395254: I tensorflow/stream_executor/cuda/cuda_gpu_executor.cc:937] successful NUMA node read from SysFS had negative value (-1), but there must be at least one NUMA node, so returning NUMA node zero\n",
      "2022-02-16 22:47:47.395462: I tensorflow/stream_executor/cuda/cuda_gpu_executor.cc:937] successful NUMA node read from SysFS had negative value (-1), but there must be at least one NUMA node, so returning NUMA node zero\n",
      "2022-02-16 22:47:47.395646: I tensorflow/core/common_runtime/gpu/gpu_device.cc:1510] Created device /job:localhost/replica:0/task:0/device:GPU:0 with 2593 MB memory:  -> device: 0, name: NVIDIA GeForce GTX 970, pci bus id: 0000:2b:00.0, compute capability: 5.2\n"
     ]
    }
   ],
   "source": [
    "\n",
    "model = models.Sequential()\n",
    "\n",
    "model.add(layers.Input(train_x.shape[1]))\n",
    "model.add(layers.Dense(300,activation= 'relu',))\n",
    "model.add(layers.Dense(300,activation= 'relu',))\n",
    "model.add(layers.Dense(300,activation= 'relu',))\n",
    "model.add(layers.Dense(300,activation= 'relu',))\n",
    "model.add(layers.Dense(300,activation= 'relu',))\n",
    "model.add(layers.Dense(1))\n",
    "model.compile(optimizer = opt,loss = 'mape', metrics = [['mean_absolute_error'],['mean_absolute_percentage_error']])\n",
    "model.summary()"
   ]
  },
  {
   "cell_type": "code",
   "execution_count": 7,
   "metadata": {},
   "outputs": [
    {
     "data": {
      "text/plain": [
       "(9900000, 16)"
      ]
     },
     "execution_count": 7,
     "metadata": {},
     "output_type": "execute_result"
    }
   ],
   "source": [
    "epoch_num = 100\n"
   ]
  },
  {
   "cell_type": "code",
   "execution_count": 8,
   "metadata": {},
   "outputs": [
    {
     "name": "stderr",
     "output_type": "stream",
     "text": [
      "2022-02-16 22:47:48.067457: I tensorflow/compiler/mlir/mlir_graph_optimization_pass.cc:185] None of the MLIR Optimization Passes are enabled (registered 2)\n"
     ]
    },
    {
     "name": "stdout",
     "output_type": "stream",
     "text": [
      "Epoch 1/100\n",
      "309375/309375 [==============================] - 306s 988us/step - loss: 18.4838 - mean_absolute_error: 0.0212 - mean_absolute_percentage_error: 18.4838 - val_loss: 17.0576 - val_mean_absolute_error: 0.0195 - val_mean_absolute_percentage_error: 17.0576\n",
      "Epoch 2/100\n",
      "309375/309375 [==============================] - 309s 1000us/step - loss: 17.4311 - mean_absolute_error: 0.0199 - mean_absolute_percentage_error: 17.4311 - val_loss: 16.9003 - val_mean_absolute_error: 0.0194 - val_mean_absolute_percentage_error: 16.9003\n",
      "Epoch 3/100\n",
      "309375/309375 [==============================] - 309s 998us/step - loss: 17.2256 - mean_absolute_error: 0.0196 - mean_absolute_percentage_error: 17.2256 - val_loss: 17.0130 - val_mean_absolute_error: 0.0196 - val_mean_absolute_percentage_error: 17.0130\n",
      "Epoch 4/100\n",
      "309375/309375 [==============================] - 310s 1ms/step - loss: 17.1147 - mean_absolute_error: 0.0195 - mean_absolute_percentage_error: 17.1147 - val_loss: 16.6446 - val_mean_absolute_error: 0.0189 - val_mean_absolute_percentage_error: 16.6446\n",
      "Epoch 5/100\n",
      "309375/309375 [==============================] - 311s 1ms/step - loss: 17.0584 - mean_absolute_error: 0.0194 - mean_absolute_percentage_error: 17.0584 - val_loss: 16.6604 - val_mean_absolute_error: 0.0192 - val_mean_absolute_percentage_error: 16.6604\n",
      "Epoch 6/100\n",
      "309375/309375 [==============================] - 311s 1ms/step - loss: 17.0135 - mean_absolute_error: 0.0194 - mean_absolute_percentage_error: 17.0135 - val_loss: 16.8625 - val_mean_absolute_error: 0.0191 - val_mean_absolute_percentage_error: 16.8625\n",
      "Epoch 7/100\n",
      "309375/309375 [==============================] - 306s 990us/step - loss: 16.9900 - mean_absolute_error: 0.0193 - mean_absolute_percentage_error: 16.9900 - val_loss: 17.0664 - val_mean_absolute_error: 0.0186 - val_mean_absolute_percentage_error: 17.0664\n",
      "Epoch 8/100\n",
      "309375/309375 [==============================] - 302s 978us/step - loss: 16.9693 - mean_absolute_error: 0.0193 - mean_absolute_percentage_error: 16.9693 - val_loss: 16.6494 - val_mean_absolute_error: 0.0191 - val_mean_absolute_percentage_error: 16.6494\n",
      "Epoch 9/100\n",
      "309375/309375 [==============================] - 300s 969us/step - loss: 16.9493 - mean_absolute_error: 0.0193 - mean_absolute_percentage_error: 16.9493 - val_loss: 16.5829 - val_mean_absolute_error: 0.0186 - val_mean_absolute_percentage_error: 16.5829\n",
      "Epoch 10/100\n",
      "309375/309375 [==============================] - 287s 929us/step - loss: 16.9363 - mean_absolute_error: 0.0193 - mean_absolute_percentage_error: 16.9363 - val_loss: 16.6267 - val_mean_absolute_error: 0.0188 - val_mean_absolute_percentage_error: 16.6267\n",
      "Epoch 11/100\n",
      "309375/309375 [==============================] - 272s 879us/step - loss: 16.9294 - mean_absolute_error: 0.0193 - mean_absolute_percentage_error: 16.9294 - val_loss: 18.1525 - val_mean_absolute_error: 0.0197 - val_mean_absolute_percentage_error: 18.1525\n",
      "Epoch 12/100\n",
      "309375/309375 [==============================] - 274s 886us/step - loss: 16.9251 - mean_absolute_error: 0.0193 - mean_absolute_percentage_error: 16.9251 - val_loss: 16.5899 - val_mean_absolute_error: 0.0195 - val_mean_absolute_percentage_error: 16.5899\n",
      "Epoch 13/100\n",
      "309375/309375 [==============================] - 273s 882us/step - loss: 16.9208 - mean_absolute_error: 0.0193 - mean_absolute_percentage_error: 16.9208 - val_loss: 16.8782 - val_mean_absolute_error: 0.0187 - val_mean_absolute_percentage_error: 16.8782\n",
      "Epoch 14/100\n",
      "309375/309375 [==============================] - 270s 873us/step - loss: 16.9134 - mean_absolute_error: 0.0193 - mean_absolute_percentage_error: 16.9134 - val_loss: 16.4808 - val_mean_absolute_error: 0.0186 - val_mean_absolute_percentage_error: 16.4808\n",
      "Epoch 15/100\n",
      "309375/309375 [==============================] - 274s 887us/step - loss: 16.9111 - mean_absolute_error: 0.0192 - mean_absolute_percentage_error: 16.9111 - val_loss: 17.7965 - val_mean_absolute_error: 0.0228 - val_mean_absolute_percentage_error: 17.7965\n",
      "Epoch 16/100\n",
      "309375/309375 [==============================] - 275s 888us/step - loss: 16.8996 - mean_absolute_error: 0.0192 - mean_absolute_percentage_error: 16.8996 - val_loss: 16.9626 - val_mean_absolute_error: 0.0205 - val_mean_absolute_percentage_error: 16.9626\n",
      "Epoch 17/100\n",
      "309375/309375 [==============================] - 275s 889us/step - loss: 16.8915 - mean_absolute_error: 0.0192 - mean_absolute_percentage_error: 16.8915 - val_loss: 16.7412 - val_mean_absolute_error: 0.0195 - val_mean_absolute_percentage_error: 16.7412\n",
      "Epoch 18/100\n",
      "309375/309375 [==============================] - 273s 881us/step - loss: 16.8899 - mean_absolute_error: 0.0192 - mean_absolute_percentage_error: 16.8899 - val_loss: 16.8381 - val_mean_absolute_error: 0.0204 - val_mean_absolute_percentage_error: 16.8381\n",
      "Epoch 19/100\n",
      "309375/309375 [==============================] - 273s 882us/step - loss: 16.8820 - mean_absolute_error: 0.0192 - mean_absolute_percentage_error: 16.8820 - val_loss: 17.5175 - val_mean_absolute_error: 0.0213 - val_mean_absolute_percentage_error: 17.5175\n",
      "Epoch 20/100\n",
      "309375/309375 [==============================] - 274s 884us/step - loss: 16.8777 - mean_absolute_error: 0.0192 - mean_absolute_percentage_error: 16.8777 - val_loss: 16.4317 - val_mean_absolute_error: 0.0188 - val_mean_absolute_percentage_error: 16.4317\n",
      "Epoch 21/100\n",
      "309375/309375 [==============================] - 271s 876us/step - loss: 16.8755 - mean_absolute_error: 0.0192 - mean_absolute_percentage_error: 16.8755 - val_loss: 16.4403 - val_mean_absolute_error: 0.0183 - val_mean_absolute_percentage_error: 16.4403\n",
      "Epoch 22/100\n",
      "309375/309375 [==============================] - 273s 883us/step - loss: 16.8784 - mean_absolute_error: 0.0192 - mean_absolute_percentage_error: 16.8784 - val_loss: 17.4776 - val_mean_absolute_error: 0.0192 - val_mean_absolute_percentage_error: 17.4776\n",
      "Epoch 23/100\n",
      "309375/309375 [==============================] - 274s 887us/step - loss: 16.8717 - mean_absolute_error: 0.0192 - mean_absolute_percentage_error: 16.8717 - val_loss: 16.4439 - val_mean_absolute_error: 0.0184 - val_mean_absolute_percentage_error: 16.4439\n",
      "Epoch 24/100\n",
      "309375/309375 [==============================] - 274s 886us/step - loss: 16.8663 - mean_absolute_error: 0.0192 - mean_absolute_percentage_error: 16.8663 - val_loss: 16.5613 - val_mean_absolute_error: 0.0190 - val_mean_absolute_percentage_error: 16.5613\n",
      "Epoch 25/100\n",
      "309375/309375 [==============================] - 276s 892us/step - loss: 16.8668 - mean_absolute_error: 0.0192 - mean_absolute_percentage_error: 16.8668 - val_loss: 16.9754 - val_mean_absolute_error: 0.0191 - val_mean_absolute_percentage_error: 16.9754\n",
      "Epoch 26/100\n",
      "309375/309375 [==============================] - 273s 882us/step - loss: 16.8640 - mean_absolute_error: 0.0192 - mean_absolute_percentage_error: 16.8640 - val_loss: 16.4200 - val_mean_absolute_error: 0.0188 - val_mean_absolute_percentage_error: 16.4200\n",
      "Epoch 27/100\n",
      "309375/309375 [==============================] - 274s 885us/step - loss: 16.8605 - mean_absolute_error: 0.0192 - mean_absolute_percentage_error: 16.8605 - val_loss: 16.7675 - val_mean_absolute_error: 0.0196 - val_mean_absolute_percentage_error: 16.7675\n",
      "Epoch 28/100\n",
      "309375/309375 [==============================] - 273s 882us/step - loss: 16.8596 - mean_absolute_error: 0.0192 - mean_absolute_percentage_error: 16.8596 - val_loss: 16.4400 - val_mean_absolute_error: 0.0188 - val_mean_absolute_percentage_error: 16.4400\n",
      "Epoch 29/100\n",
      "309375/309375 [==============================] - 274s 886us/step - loss: 16.8551 - mean_absolute_error: 0.0192 - mean_absolute_percentage_error: 16.8551 - val_loss: 17.1216 - val_mean_absolute_error: 0.0208 - val_mean_absolute_percentage_error: 17.1216\n",
      "Epoch 30/100\n",
      "309375/309375 [==============================] - 274s 887us/step - loss: 16.8580 - mean_absolute_error: 0.0192 - mean_absolute_percentage_error: 16.8580 - val_loss: 16.5747 - val_mean_absolute_error: 0.0189 - val_mean_absolute_percentage_error: 16.5747\n",
      "Epoch 31/100\n",
      "309375/309375 [==============================] - 270s 872us/step - loss: 16.8521 - mean_absolute_error: 0.0192 - mean_absolute_percentage_error: 16.8521 - val_loss: 16.6800 - val_mean_absolute_error: 0.0184 - val_mean_absolute_percentage_error: 16.6800\n",
      "Epoch 32/100\n",
      "309375/309375 [==============================] - 270s 874us/step - loss: 16.8477 - mean_absolute_error: 0.0192 - mean_absolute_percentage_error: 16.8477 - val_loss: 16.4941 - val_mean_absolute_error: 0.0189 - val_mean_absolute_percentage_error: 16.4941\n",
      "Epoch 33/100\n",
      "309375/309375 [==============================] - 273s 881us/step - loss: 16.8468 - mean_absolute_error: 0.0192 - mean_absolute_percentage_error: 16.8468 - val_loss: 16.4636 - val_mean_absolute_error: 0.0191 - val_mean_absolute_percentage_error: 16.4636\n",
      "Epoch 34/100\n",
      "309375/309375 [==============================] - 274s 885us/step - loss: 16.8420 - mean_absolute_error: 0.0192 - mean_absolute_percentage_error: 16.8420 - val_loss: 17.0230 - val_mean_absolute_error: 0.0206 - val_mean_absolute_percentage_error: 17.0230\n",
      "Epoch 35/100\n",
      "309375/309375 [==============================] - 273s 882us/step - loss: 16.8375 - mean_absolute_error: 0.0192 - mean_absolute_percentage_error: 16.8375 - val_loss: 16.6008 - val_mean_absolute_error: 0.0183 - val_mean_absolute_percentage_error: 16.6008\n",
      "Epoch 36/100\n",
      "309375/309375 [==============================] - 274s 887us/step - loss: 16.8488 - mean_absolute_error: 0.0192 - mean_absolute_percentage_error: 16.8488 - val_loss: 16.5772 - val_mean_absolute_error: 0.0186 - val_mean_absolute_percentage_error: 16.5772\n",
      "Epoch 37/100\n",
      "309375/309375 [==============================] - 273s 882us/step - loss: 16.8364 - mean_absolute_error: 0.0192 - mean_absolute_percentage_error: 16.8364 - val_loss: 16.9872 - val_mean_absolute_error: 0.0184 - val_mean_absolute_percentage_error: 16.9872\n",
      "Epoch 38/100\n",
      "309375/309375 [==============================] - 273s 882us/step - loss: 16.8416 - mean_absolute_error: 0.0191 - mean_absolute_percentage_error: 16.8416 - val_loss: 17.4717 - val_mean_absolute_error: 0.0217 - val_mean_absolute_percentage_error: 17.4717\n",
      "Epoch 39/100\n",
      "309375/309375 [==============================] - 276s 892us/step - loss: 16.8620 - mean_absolute_error: 0.0191 - mean_absolute_percentage_error: 16.8620 - val_loss: 16.8189 - val_mean_absolute_error: 0.0191 - val_mean_absolute_percentage_error: 16.8189\n",
      "Epoch 40/100\n",
      "309375/309375 [==============================] - 272s 879us/step - loss: 16.8641 - mean_absolute_error: 0.0191 - mean_absolute_percentage_error: 16.8641 - val_loss: 17.0441 - val_mean_absolute_error: 0.0210 - val_mean_absolute_percentage_error: 17.0441\n",
      "Epoch 41/100\n",
      "309375/309375 [==============================] - 272s 878us/step - loss: 16.8237 - mean_absolute_error: 0.0191 - mean_absolute_percentage_error: 16.8237 - val_loss: 16.7177 - val_mean_absolute_error: 0.0184 - val_mean_absolute_percentage_error: 16.7177\n",
      "Epoch 42/100\n",
      "309375/309375 [==============================] - 275s 887us/step - loss: 16.8387 - mean_absolute_error: 0.0191 - mean_absolute_percentage_error: 16.8387 - val_loss: 16.4567 - val_mean_absolute_error: 0.0184 - val_mean_absolute_percentage_error: 16.4567\n",
      "Epoch 43/100\n",
      "309375/309375 [==============================] - 275s 888us/step - loss: 16.8495 - mean_absolute_error: 0.0191 - mean_absolute_percentage_error: 16.8495 - val_loss: 16.6404 - val_mean_absolute_error: 0.0184 - val_mean_absolute_percentage_error: 16.6404\n",
      "Epoch 44/100\n",
      "309375/309375 [==============================] - 273s 882us/step - loss: 16.9292 - mean_absolute_error: 0.0191 - mean_absolute_percentage_error: 16.9292 - val_loss: 16.8525 - val_mean_absolute_error: 0.0186 - val_mean_absolute_percentage_error: 16.8525\n",
      "Epoch 45/100\n",
      "309375/309375 [==============================] - 274s 885us/step - loss: 17.0479 - mean_absolute_error: 0.0191 - mean_absolute_percentage_error: 17.0479 - val_loss: 16.5661 - val_mean_absolute_error: 0.0185 - val_mean_absolute_percentage_error: 16.5661\n",
      "Epoch 46/100\n",
      "309375/309375 [==============================] - 275s 890us/step - loss: 17.0855 - mean_absolute_error: 0.0191 - mean_absolute_percentage_error: 17.0855 - val_loss: 16.5009 - val_mean_absolute_error: 0.0186 - val_mean_absolute_percentage_error: 16.5009\n",
      "Epoch 47/100\n",
      "309360/309375 [============================>.] - ETA: 0s - loss: 17.2051 - mean_absolute_error: 0.0191 - mean_absolute_percentage_error: 17.2051"
     ]
    }
   ],
   "source": [
    "\n",
    "model.fit(train_x,train_y,validation_data=(val_x,val_y),batch_size= 32 , epochs = epoch_num)"
   ]
  },
  {
   "cell_type": "code",
   "execution_count": null,
   "metadata": {},
   "outputs": [],
   "source": [
    "#history = model.history\n",
    "model.save('./5_10{}datapoints_noise_{}.h5'.format((np.log10(train_y.shape[0]+val_y.shape[0])),sigma))\n",
    "#model = tf.keras.models.load_model('./batchsize16.h5')"
   ]
  }
 ],
 "metadata": {
  "interpreter": {
   "hash": "f104f88efb840d0e3bc7589e04724d256e4ed8b928c3ad9315ee551fb11f4dcf"
  },
  "kernelspec": {
   "display_name": "Python 3.9.7 64-bit ('tf-gpu': conda)",
   "name": "python3"
  },
  "language_info": {
   "codemirror_mode": {
    "name": "ipython",
    "version": 3
   },
   "file_extension": ".py",
   "mimetype": "text/x-python",
   "name": "python",
   "nbconvert_exporter": "python",
   "pygments_lexer": "ipython3",
   "version": "3.9.7"
  },
  "orig_nbformat": 4
 },
 "nbformat": 4,
 "nbformat_minor": 2
}
