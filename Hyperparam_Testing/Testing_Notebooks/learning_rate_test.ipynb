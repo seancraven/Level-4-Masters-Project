{
 "cells": [
  {
   "cell_type": "code",
   "execution_count": 11,
   "metadata": {},
   "outputs": [],
   "source": [
    "import tensorflow as tf \n",
    "from tensorflow import keras\n",
    "import numpy as np\n",
    "import matplotlib.pyplot as plt\n",
    "import pandas as pd\n",
    "import Common_Functions as cf \n",
    "from mpl_toolkits import mplot3d\n",
    "plt.rc('font', family='serif')\n",
    "import matplotlib\n",
    "matplotlib.rcParams.update({'legend.fontsize': 16})\n",
    "matplotlib.rcParams.update({'font.size': 16})"
   ]
  },
  {
   "cell_type": "code",
   "execution_count": 3,
   "metadata": {},
   "outputs": [],
   "source": [
    "df_pions = np.array(pd.read_csv('/home/sean/Documents/Work/Level 4/Level-4-Masters-Project/testing_data.csv',header = None))\n",
    "\n",
    "train_x, train_y = cf.data_normaliser(df_pions[:-1000,:-1]), df_pions[:-1000,-1]\n",
    "val_x, val_y = cf.data_normaliser(df_pions[-1000:,:-1]), df_pions[-1000:,-1]\n"
   ]
  },
  {
   "cell_type": "code",
   "execution_count": 4,
   "metadata": {},
   "outputs": [],
   "source": [
    "def lr_test(learning_rates,repeats):\n",
    "    no_optimsier = len(learning_rates)\n",
    "    is_last_val_bool = np.zeros(no_optimsier)\n",
    "    min_mape = np.zeros((no_optimsier,repeats))\n",
    "    for i in range(no_optimsier):\n",
    "        opt = keras.optimizers.Adam(learning_rate= learning_rates[i], beta_1 = 0.9, beta_2= 0.99)\n",
    "        print('learning rate =',learning_rates[i])\n",
    "        last_val_bool = 0\n",
    "        for j in range(repeats):\n",
    "            df = pd.DataFrame(cf.trained_network(train_x,train_y,val_x,val_y,[512,512], optimizer= opt, verbose= 0,epochs = 100, batch_size= 256).history)\n",
    "            val_mape_ar_smoothed = cf.exponetial_smoothing(np.array(df['val_mean_absolute_percentage_error']),0.4)\n",
    "            loss_ar_smoothed = cf.exponetial_smoothing(np.array(df['loss']),0.4)\n",
    "            min_mape[i,j] = np.min(val_mape_ar_smoothed)\n",
    "            if cf.neg_grad_tester(val_mape_ar_smoothed,loss_ar_smoothed):\n",
    "                last_val_bool +=1\n",
    "                print('Negative Grad Identified')\n",
    "            else:\n",
    "                pass\n",
    "        if last_val_bool >= repeats/4:\n",
    "            is_last_val_bool[i] = 1\n",
    "        else:\n",
    "            is_last_val_bool[i] = 0\n",
    "    return min_mape, is_last_val_bool"
   ]
  },
  {
   "cell_type": "code",
   "execution_count": 5,
   "metadata": {},
   "outputs": [],
   "source": [
    "lrs = np.logspace(-4,-1,20)"
   ]
  },
  {
   "cell_type": "code",
   "execution_count": 5,
   "metadata": {},
   "outputs": [
    {
     "name": "stdout",
     "output_type": "stream",
     "text": [
      "learning rate = 0.0001\n"
     ]
    },
    {
     "name": "stderr",
     "output_type": "stream",
     "text": [
      "2021-12-08 17:22:21.459370: I tensorflow/stream_executor/cuda/cuda_gpu_executor.cc:937] successful NUMA node read from SysFS had negative value (-1), but there must be at least one NUMA node, so returning NUMA node zero\n",
      "2021-12-08 17:22:21.463669: I tensorflow/stream_executor/cuda/cuda_gpu_executor.cc:937] successful NUMA node read from SysFS had negative value (-1), but there must be at least one NUMA node, so returning NUMA node zero\n",
      "2021-12-08 17:22:21.463903: I tensorflow/stream_executor/cuda/cuda_gpu_executor.cc:937] successful NUMA node read from SysFS had negative value (-1), but there must be at least one NUMA node, so returning NUMA node zero\n",
      "2021-12-08 17:22:21.464447: I tensorflow/core/platform/cpu_feature_guard.cc:142] This TensorFlow binary is optimized with oneAPI Deep Neural Network Library (oneDNN) to use the following CPU instructions in performance-critical operations:  AVX2 FMA\n",
      "To enable them in other operations, rebuild TensorFlow with the appropriate compiler flags.\n",
      "2021-12-08 17:22:21.465061: I tensorflow/stream_executor/cuda/cuda_gpu_executor.cc:937] successful NUMA node read from SysFS had negative value (-1), but there must be at least one NUMA node, so returning NUMA node zero\n",
      "2021-12-08 17:22:21.465274: I tensorflow/stream_executor/cuda/cuda_gpu_executor.cc:937] successful NUMA node read from SysFS had negative value (-1), but there must be at least one NUMA node, so returning NUMA node zero\n",
      "2021-12-08 17:22:21.465469: I tensorflow/stream_executor/cuda/cuda_gpu_executor.cc:937] successful NUMA node read from SysFS had negative value (-1), but there must be at least one NUMA node, so returning NUMA node zero\n",
      "2021-12-08 17:22:21.812769: I tensorflow/stream_executor/cuda/cuda_gpu_executor.cc:937] successful NUMA node read from SysFS had negative value (-1), but there must be at least one NUMA node, so returning NUMA node zero\n",
      "2021-12-08 17:22:21.813011: I tensorflow/stream_executor/cuda/cuda_gpu_executor.cc:937] successful NUMA node read from SysFS had negative value (-1), but there must be at least one NUMA node, so returning NUMA node zero\n",
      "2021-12-08 17:22:21.813211: I tensorflow/stream_executor/cuda/cuda_gpu_executor.cc:937] successful NUMA node read from SysFS had negative value (-1), but there must be at least one NUMA node, so returning NUMA node zero\n",
      "2021-12-08 17:22:21.813391: I tensorflow/core/common_runtime/gpu/gpu_device.cc:1510] Created device /job:localhost/replica:0/task:0/device:GPU:0 with 2596 MB memory:  -> device: 0, name: NVIDIA GeForce GTX 970, pci bus id: 0000:2b:00.0, compute capability: 5.2\n",
      "2021-12-08 17:22:21.962198: I tensorflow/compiler/mlir/mlir_graph_optimization_pass.cc:185] None of the MLIR Optimization Passes are enabled (registered 2)\n"
     ]
    },
    {
     "name": "stdout",
     "output_type": "stream",
     "text": [
      "Negative Grad Identified\n",
      "Negative Grad Identified\n",
      "Negative Grad Identified\n",
      "Negative Grad Identified\n",
      "Negative Grad Identified\n",
      "Negative Grad Identified\n",
      "Negative Grad Identified\n",
      "Negative Grad Identified\n",
      "Negative Grad Identified\n",
      "Negative Grad Identified\n",
      "learning rate = 0.0001438449888287663\n",
      "Negative Grad Identified\n",
      "Negative Grad Identified\n",
      "Negative Grad Identified\n",
      "Negative Grad Identified\n",
      "Negative Grad Identified\n",
      "Negative Grad Identified\n",
      "Negative Grad Identified\n",
      "Negative Grad Identified\n",
      "Negative Grad Identified\n",
      "Negative Grad Identified\n",
      "learning rate = 0.00020691380811147902\n",
      "Negative Grad Identified\n",
      "Negative Grad Identified\n",
      "Negative Grad Identified\n",
      "Negative Grad Identified\n",
      "Negative Grad Identified\n",
      "Negative Grad Identified\n",
      "Negative Grad Identified\n",
      "Negative Grad Identified\n",
      "Negative Grad Identified\n",
      "Negative Grad Identified\n",
      "learning rate = 0.00029763514416313193\n",
      "Negative Grad Identified\n",
      "Negative Grad Identified\n",
      "Negative Grad Identified\n",
      "Negative Grad Identified\n",
      "Negative Grad Identified\n",
      "Negative Grad Identified\n",
      "Negative Grad Identified\n",
      "Negative Grad Identified\n",
      "Negative Grad Identified\n",
      "Negative Grad Identified\n",
      "learning rate = 0.00042813323987193956\n",
      "Negative Grad Identified\n",
      "Negative Grad Identified\n",
      "Negative Grad Identified\n",
      "Negative Grad Identified\n",
      "Negative Grad Identified\n",
      "Negative Grad Identified\n",
      "Negative Grad Identified\n",
      "Negative Grad Identified\n",
      "Negative Grad Identified\n",
      "Negative Grad Identified\n",
      "learning rate = 0.0006158482110660267\n",
      "Negative Grad Identified\n",
      "Negative Grad Identified\n",
      "Negative Grad Identified\n",
      "Negative Grad Identified\n",
      "Negative Grad Identified\n",
      "Negative Grad Identified\n",
      "Negative Grad Identified\n",
      "Negative Grad Identified\n",
      "Negative Grad Identified\n",
      "Negative Grad Identified\n",
      "learning rate = 0.0008858667904100823\n",
      "Negative Grad Identified\n",
      "learning rate = 0.0012742749857031334\n",
      "learning rate = 0.0018329807108324356\n",
      "learning rate = 0.0026366508987303583\n",
      "learning rate = 0.00379269019073225\n",
      "learning rate = 0.005455594781168515\n",
      "learning rate = 0.007847599703514606\n",
      "learning rate = 0.011288378916846883\n",
      "learning rate = 0.01623776739188721\n",
      "learning rate = 0.023357214690901212\n",
      "learning rate = 0.03359818286283781\n",
      "learning rate = 0.04832930238571752\n",
      "learning rate = 0.06951927961775606\n",
      "learning rate = 0.1\n"
     ]
    }
   ],
   "source": [
    "min_mape ,bool = lr_test(lrs,10)\n",
    "\n"
   ]
  },
  {
   "cell_type": "code",
   "execution_count": 16,
   "metadata": {},
   "outputs": [
    {
     "name": "stdout",
     "output_type": "stream",
     "text": [
      "[0 1 2 3 4 5]\n",
      "[array([0.0001    , 0.00014384, 0.00020691, 0.00029764, 0.00042813,\n",
      "       0.00061585])] [array([16.8447306 , 10.4589519 ,  6.54327312,  4.7792053 ,  3.99566268,\n",
      "        3.95391249])]\n"
     ]
    }
   ],
   "source": [
    "def return_not_convergerd(x,z,bools): \n",
    "    if bools.shape != z.shape:\n",
    "        print('wrong size input')\n",
    "    indecies = np.where(z*bools != 0)\n",
    " \n",
    "    unconverged_z = []\n",
    "    unconverged_x =[]\n",
    "    for i in range(len(indecies)):\n",
    "        print(indecies[i])\n",
    "        unconverged_z.append(z[(indecies[i])])\n",
    "        unconverged_x.append(x[(indecies[i])])\n",
    "    return unconverged_x  , unconverged_z\n",
    "unc_x,unc_z = return_not_convergerd(lrs,mean_min_mape,bool)\n",
    "print(unc_x,unc_z)"
   ]
  },
  {
   "cell_type": "code",
   "execution_count": 38,
   "metadata": {},
   "outputs": [
    {
     "data": {
      "text/plain": [
       "<ErrorbarContainer object of 3 artists>"
      ]
     },
     "execution_count": 38,
     "metadata": {},
     "output_type": "execute_result"
    },
    {
     "data": {
      "image/png": "[encoded data removed]",
      "text/plain": [
       "<Figure size 720x576 with 2 Axes>"
      ]
     },
     "metadata": {
      "needs_background": "light"
     },
     "output_type": "display_data"
    }
   ],
   "source": [
    "mean_min_mape = np.mean(min_mape,axis = 1)\n",
    "\n",
    "ste = np.std(min_mape,axis = 1)\n",
    "\n",
    "fig, ax = plt.subplots(2,1,figsize= (10,8))\n",
    "\n",
    "ax[0].scatter(lrs[:6],mean_min_mape[:6], c = 'red', marker= 'x')\n",
    "ax[0].errorbar(lrs,mean_min_mape,ste,capsize= 2,c = 'black')\n",
    "ax[0].set_xscale('log')\n",
    "fig.supylabel('Mean Minimum MAPE')\n",
    "ax[1].set_xlabel('Learning Rate')\n",
    "ax[1].ticklabel_format(axis = 'x', style = 'sci', scilimits = (-3,-3))\n",
    "#ax[0].set_xlabel('Learning Rate')\n",
    "### zoom\n",
    "gz_lr = lrs[np.where(mean_min_mape<5)]\n",
    "gz_mape = mean_min_mape[np.where(mean_min_mape<5)]\n",
    "gz_ste = ste[np.where(mean_min_mape<5)]\n",
    "###\n",
    "ax[1].errorbar(gz_lr,gz_mape,gz_ste, c = 'black', capsize= 2)\n"
   ]
  },
  {
   "cell_type": "code",
   "execution_count": 39,
   "metadata": {},
   "outputs": [],
   "source": [
    "np.savetxt('/home/sean/Documents/Work/Level 4/Level-4-Masters-Project/Sean_Working_Notebooks/Testing_Notebooks/Testing_Data/lr/learningrate.csv',min_mape)\n",
    "fig.savefig('/home/sean/Documents/Work/Level 4/Level-4-Masters-Project/Figures/learningrate.png',dpi = 300,transparent= False)"
   ]
  },
  {
   "cell_type": "code",
   "execution_count": 6,
   "metadata": {},
   "outputs": [],
   "source": [
    "min_mape  = np.loadtxt('/home/sean/Documents/Work/Level 4/Level-4-Masters-Project/Sean_Working_Notebooks/Testing_Notebooks/Testing_Data/lr/learningrate.csv')"
   ]
  },
  {
   "cell_type": "code",
   "execution_count": 19,
   "metadata": {},
   "outputs": [
    {
     "data": {
      "text/plain": [
       "<ErrorbarContainer object of 3 artists>"
      ]
     },
     "execution_count": 19,
     "metadata": {},
     "output_type": "execute_result"
    },
    {
     "data": {
      "image/png": "[encoded data removed]",
      "text/plain": [
       "<Figure size 432x288 with 1 Axes>"
      ]
     },
     "metadata": {
      "needs_background": "light"
     },
     "output_type": "display_data"
    }
   ],
   "source": [
    "gz_lr = lrs[np.where(mean_min_mape<5)]\n",
    "gz_mape = mean_min_mape[np.where(mean_min_mape<5)]\n",
    "gz_ste = ste[np.where(mean_min_mape<5)]\n",
    "plt.\n"
   ]
  },
  {
   "cell_type": "code",
   "execution_count": null,
   "metadata": {},
   "outputs": [],
   "source": []
  }
 ],
 "metadata": {
  "interpreter": {
   "hash": "f104f88efb840d0e3bc7589e04724d256e4ed8b928c3ad9315ee551fb11f4dcf"
  },
  "kernelspec": {
   "display_name": "Python 3.9.7 64-bit ('tf-gpu': conda)",
   "name": "python3"
  },
  "language_info": {
   "codemirror_mode": {
    "name": "ipython",
    "version": 3
   },
   "file_extension": ".py",
   "mimetype": "text/x-python",
   "name": "python",
   "nbconvert_exporter": "python",
   "pygments_lexer": "ipython3",
   "version": "3.9.7"
  },
  "orig_nbformat": 4
 },
 "nbformat": 4,
 "nbformat_minor": 2
}
