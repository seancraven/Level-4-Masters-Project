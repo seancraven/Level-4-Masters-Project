{
 "cells": [
  {
   "cell_type": "code",
   "execution_count": 1,
   "metadata": {},
   "outputs": [],
   "source": [
    "import tensorflow as tf \n",
    "from tensorflow import keras\n",
    "import numpy as np\n",
    "import matplotlib.pyplot as plt\n",
    "import pandas as pd\n",
    "import Common_Functions as cf \n",
    "from mpl_toolkits import mplot3d\n",
    "plt.rc('font', family='serif')\n",
    "import matplotlib\n",
    "matplotlib.rcParams.update({'legend.fontsize': 16})\n",
    "matplotlib.rcParams.update({'font.size': 16})"
   ]
  },
  {
   "cell_type": "code",
   "execution_count": 5,
   "metadata": {},
   "outputs": [],
   "source": [
    "df_pions = np.array(pd.read_csv('/home/sean/Documents/Work/Level 4/Level-4-Masters-Project/testing_data.csv',header = None))\n",
    "\n",
    "train_x, train_y = cf.data_normaliser(df_pions[:-1000,:-1]), df_pions[:-1000,-1]\n",
    "val_x, val_y = cf.data_normaliser(df_pions[-1000:,:-1]), df_pions[-1000:,-1]\n",
    "Kernal_inital = ['he_normal','random_normal','random_uniform','glorot_normal','glorot_uniform','ones','zeros', ]"
   ]
  },
  {
   "cell_type": "code",
   "execution_count": 6,
   "metadata": {},
   "outputs": [],
   "source": [
    "def optimiser_test(kernal_list,repeats):\n",
    "    no_optimsier = len(kernal_list)\n",
    "    is_last_val_bool = np.zeros(no_optimsier)\n",
    "    min_mape = np.zeros((no_optimsier,repeats))\n",
    "    for i in range(no_optimsier):\n",
    "        print(kernal_list[i])\n",
    "        last_val_bool = 0\n",
    "        for j in range(repeats):\n",
    "            df = pd.DataFrame(cf.trained_network(train_x,train_y,val_x,val_y,[512,512], optimizer= 'adam', verbose= 0,epochs = 30, batch_size= 256,initializer=kernal_list[i] ).history)\n",
    "            val_mape_ar_smoothed = cf.exponetial_smoothing(np.array(df['val_mean_absolute_percentage_error']),0.4)\n",
    "            loss_ar_smoothed = cf.exponetial_smoothing(np.array(df['loss']),0.4)\n",
    "            min_mape[i,j] = np.min(val_mape_ar_smoothed)\n",
    "            if cf.neg_grad_tester(val_mape_ar_smoothed,loss_ar_smoothed):\n",
    "                last_val_bool +=1\n",
    "                print('Negative Grad Identified')\n",
    "            else:\n",
    "                pass\n",
    "        if last_val_bool >= repeats/4:\n",
    "            is_last_val_bool[i] = 1\n",
    "        else:\n",
    "            is_last_val_bool[i] = 0\n",
    "    return min_mape, is_last_val_bool"
   ]
  },
  {
   "cell_type": "code",
   "execution_count": 7,
   "metadata": {},
   "outputs": [
    {
     "name": "stdout",
     "output_type": "stream",
     "text": [
      "he_normal\n",
      "Negative Grad Identified\n",
      "random_normal\n",
      "random_uniform\n",
      "glorot_normal\n",
      "glorot_uniform\n",
      "ones\n",
      "Negative Grad Identified\n",
      "Negative Grad Identified\n",
      "Negative Grad Identified\n",
      "Negative Grad Identified\n",
      "Negative Grad Identified\n",
      "Negative Grad Identified\n",
      "Negative Grad Identified\n",
      "Negative Grad Identified\n",
      "zeros\n"
     ]
    }
   ],
   "source": [
    "min_mape ,bool = optimiser_test(Kernal_inital,10)\n",
    "\n"
   ]
  },
  {
   "cell_type": "code",
   "execution_count": 12,
   "metadata": {},
   "outputs": [
    {
     "name": "stdout",
     "output_type": "stream",
     "text": [
      "[ 5.54935665  3.99300823  3.95468932  4.00010425  3.93893361 66.35832186\n",
      " 66.1134656 ]\n",
      "[0.26948713 0.09463503 0.12279163 0.09148141 0.0904866  0.16933183\n",
      " 0.03134068]\n"
     ]
    },
    {
     "data": {
      "text/plain": [
       "Text(0.5, 0, 'Initializer')"
      ]
     },
     "execution_count": 12,
     "metadata": {},
     "output_type": "execute_result"
    },
    {
     "data": {
      "image/png": "[encoded data removed]",
      "text/plain": [
       "<Figure size 720x360 with 1 Axes>"
      ]
     },
     "metadata": {
      "needs_background": "light"
     },
     "output_type": "display_data"
    }
   ],
   "source": [
    "mean_min_mape = np.mean(min_mape,axis = 1)\n",
    "print(mean_min_mape)\n",
    "ste = np.std(min_mape,axis = 1)\n",
    "print(ste)\n",
    "fig = plt.figure(figsize= (10,5))\n",
    "plt.errorbar(range(7),mean_min_mape,ste, linestyle = '' , marker = 'x',capsize= 0.5,c = 'black')\n",
    "plt.xticks(range(7),['He normal','Random \\n normal','Random  \\nuniform','Glorot \\nNormal', 'Glorot \\nUniform','Ones','Zeros'])\n",
    "plt.xlim(-0.5,7)\n",
    "plt.ylim(0,10)\n",
    "plt.ylabel('Mean Min MAPE')\n",
    "plt.xlabel('Initializer')"
   ]
  },
  {
   "cell_type": "code",
   "execution_count": null,
   "metadata": {},
   "outputs": [],
   "source": [
    "np.savetxt('/home/sean/Documents/Work/Level 4/Level-4-Masters-Project/Sean_Working_Notebooks/Testing_Notebooks/norm.csv',min_mape)\n",
    "fig.savefig('/home/sean/Documents/Work/Level 4/Level-4-Masters-Project/Figures/kernal_init.png',dpi = 300)"
   ]
  },
  {
   "cell_type": "code",
   "execution_count": null,
   "metadata": {},
   "outputs": [],
   "source": [
    "min_mape = np.loadtxt('/home/sean/Documents/Work/Level 4/Level-4-Masters-Project/Sean_Working_Notebooks/Testing_Notebooks/norm.csv',delimiter=' ')"
   ]
  },
  {
   "cell_type": "code",
   "execution_count": null,
   "metadata": {},
   "outputs": [],
   "source": []
  }
 ],
 "metadata": {
  "interpreter": {
   "hash": "f104f88efb840d0e3bc7589e04724d256e4ed8b928c3ad9315ee551fb11f4dcf"
  },
  "kernelspec": {
   "display_name": "Python 3.9.7 64-bit ('tf-gpu': conda)",
   "name": "python3"
  },
  "language_info": {
   "codemirror_mode": {
    "name": "ipython",
    "version": 3
   },
   "file_extension": ".py",
   "mimetype": "text/x-python",
   "name": "python",
   "nbconvert_exporter": "python",
   "pygments_lexer": "ipython3",
   "version": "3.9.7"
  },
  "orig_nbformat": 4
 },
 "nbformat": 4,
 "nbformat_minor": 2
}
