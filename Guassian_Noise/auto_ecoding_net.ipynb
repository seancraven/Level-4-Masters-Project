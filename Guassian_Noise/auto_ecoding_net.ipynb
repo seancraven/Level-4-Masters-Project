{
 "cells": [
  {
   "cell_type": "code",
   "execution_count": 1,
   "metadata": {},
   "outputs": [],
   "source": [
    "import sys\n",
    "sys.path.append('/home/sean/Documents/Work/Level 4/Level-4-Masters-Project')\n",
    "import numpy as np\n",
    "import pandas as pd\n",
    "import random\n",
    "import datetime\n",
    "# Setup plotting with matplotlib\n",
    "import seaborn as sb\n",
    "import matplotlib\n",
    "import matplotlib.pyplot as plt\n",
    "## setup latex plotting\n",
    "plt.rc('text', usetex=True)\n",
    "\n",
    "## make font size bigger\n",
    "matplotlib.rcParams.update({'font.size': 18})\n",
    "## but make legend smaller\n",
    "matplotlib.rcParams.update({'legend.fontsize': 18})\n",
    "## change line thickness\n",
    "matplotlib.rcParams.update({'lines.linewidth' : 1.75})\n",
    "\n",
    "import Hyperparam_Testing.Testing_Notebooks.chirallag as cL\n",
    "import Hyperparam_Testing.Testing_Notebooks.Common_Functions as cf\n",
    "from tensorflow import keras\n",
    "from tensorflow.keras import layers \n",
    "from tensorflow.keras import models \n",
    "from sklearn.model_selection import train_test_split as tts\n"
   ]
  },
  {
   "cell_type": "code",
   "execution_count": 2,
   "metadata": {},
   "outputs": [
    {
     "name": "stdout",
     "output_type": "stream",
     "text": [
      "Training data cut for potential values below 0.1\n",
      "Remaining data fraction after cut  = 0.57857\n",
      "To retain 100000 training points generating 73178 more \n",
      "This produces 100195 usefull points\n"
     ]
    }
   ],
   "source": [
    "sigma = 0.01\n",
    "number_predictions = 10**5\n",
    "cutoff = 0.1\n",
    "\n",
    "x = cf.noisy(sigma).data(number_predictions,cutoff= cutoff,keep_dim=True)\n",
    "y = cf.gen_and_load(number_predictions,0,onearr= True)"
   ]
  },
  {
   "cell_type": "code",
   "execution_count": 7,
   "metadata": {},
   "outputs": [],
   "source": [
    "train_x ,val_x ,train_y, val_y = tts( x[:,:16], y[:,:16] ,test_size = 0.1)"
   ]
  },
  {
   "cell_type": "code",
   "execution_count": 10,
   "metadata": {},
   "outputs": [
    {
     "name": "stdout",
     "output_type": "stream",
     "text": [
      "Model: \"sequential_2\"\n",
      "_________________________________________________________________\n",
      "Layer (type)                 Output Shape              Param #   \n",
      "=================================================================\n",
      "dense_6 (Dense)              (None, 30)                510       \n",
      "_________________________________________________________________\n",
      "dense_7 (Dense)              (None, 30)                930       \n",
      "_________________________________________________________________\n",
      "dense_8 (Dense)              (None, 16)                496       \n",
      "=================================================================\n",
      "Total params: 1,936\n",
      "Trainable params: 1,936\n",
      "Non-trainable params: 0\n",
      "_________________________________________________________________\n"
     ]
    }
   ],
   "source": [
    "model = models.Sequential()\n",
    "model.add(layers.Input(train_x.shape[1]))\n",
    "model.add(layers.Dense(30,activation='relu'))\n",
    "model.add(layers.Dense(30,activation='relu'))\n",
    "model.add(layers.Dense(16))\n",
    "model.compile(optimizer = 'Adam',loss = 'mae', metrics = [['mean_absolute_error'],['mean_absolute_percentage_error']])\n",
    "model.summary()\n"
   ]
  },
  {
   "cell_type": "code",
   "execution_count": 11,
   "metadata": {},
   "outputs": [
    {
     "name": "stdout",
     "output_type": "stream",
     "text": [
      "Epoch 1/20\n",
      "2813/2813 [==============================] - 3s 1ms/step - loss: 0.1402 - mean_absolute_error: 0.1402 - mean_absolute_percentage_error: 22.5985 - val_loss: 0.1286 - val_mean_absolute_error: 0.1286 - val_mean_absolute_percentage_error: 21.2953\n",
      "Epoch 2/20\n",
      "2813/2813 [==============================] - 3s 1ms/step - loss: 0.1283 - mean_absolute_error: 0.1283 - mean_absolute_percentage_error: 21.3031 - val_loss: 0.1279 - val_mean_absolute_error: 0.1279 - val_mean_absolute_percentage_error: 21.3210\n",
      "Epoch 3/20\n",
      "2813/2813 [==============================] - 3s 1ms/step - loss: 0.1280 - mean_absolute_error: 0.1280 - mean_absolute_percentage_error: 21.2730 - val_loss: 0.1281 - val_mean_absolute_error: 0.1281 - val_mean_absolute_percentage_error: 21.0882\n",
      "Epoch 4/20\n",
      "2813/2813 [==============================] - 3s 1ms/step - loss: 0.1279 - mean_absolute_error: 0.1279 - mean_absolute_percentage_error: 21.2615 - val_loss: 0.1279 - val_mean_absolute_error: 0.1279 - val_mean_absolute_percentage_error: 21.4172\n",
      "Epoch 5/20\n",
      "2813/2813 [==============================] - 3s 1ms/step - loss: 0.1278 - mean_absolute_error: 0.1278 - mean_absolute_percentage_error: 21.2573 - val_loss: 0.1280 - val_mean_absolute_error: 0.1280 - val_mean_absolute_percentage_error: 21.4637\n",
      "Epoch 6/20\n",
      "2813/2813 [==============================] - 3s 1ms/step - loss: 0.1277 - mean_absolute_error: 0.1277 - mean_absolute_percentage_error: 21.2487 - val_loss: 0.1278 - val_mean_absolute_error: 0.1278 - val_mean_absolute_percentage_error: 21.1564\n",
      "Epoch 7/20\n",
      "2813/2813 [==============================] - 3s 1ms/step - loss: 0.1277 - mean_absolute_error: 0.1277 - mean_absolute_percentage_error: 21.2407 - val_loss: 0.1278 - val_mean_absolute_error: 0.1278 - val_mean_absolute_percentage_error: 21.2227\n",
      "Epoch 8/20\n",
      "2813/2813 [==============================] - 3s 1ms/step - loss: 0.1276 - mean_absolute_error: 0.1276 - mean_absolute_percentage_error: 21.2408 - val_loss: 0.1278 - val_mean_absolute_error: 0.1278 - val_mean_absolute_percentage_error: 21.1251\n",
      "Epoch 9/20\n",
      "2813/2813 [==============================] - 3s 1ms/step - loss: 0.1276 - mean_absolute_error: 0.1276 - mean_absolute_percentage_error: 21.2343 - val_loss: 0.1277 - val_mean_absolute_error: 0.1277 - val_mean_absolute_percentage_error: 21.2535\n",
      "Epoch 10/20\n",
      "2813/2813 [==============================] - 3s 1ms/step - loss: 0.1276 - mean_absolute_error: 0.1276 - mean_absolute_percentage_error: 21.2334 - val_loss: 0.1278 - val_mean_absolute_error: 0.1278 - val_mean_absolute_percentage_error: 21.0484\n",
      "Epoch 11/20\n",
      "2813/2813 [==============================] - 3s 1ms/step - loss: 0.1275 - mean_absolute_error: 0.1275 - mean_absolute_percentage_error: 21.2288 - val_loss: 0.1277 - val_mean_absolute_error: 0.1277 - val_mean_absolute_percentage_error: 21.2399\n",
      "Epoch 12/20\n",
      "2813/2813 [==============================] - 3s 1ms/step - loss: 0.1275 - mean_absolute_error: 0.1275 - mean_absolute_percentage_error: 21.2283 - val_loss: 0.1275 - val_mean_absolute_error: 0.1275 - val_mean_absolute_percentage_error: 21.1822\n",
      "Epoch 13/20\n",
      "2813/2813 [==============================] - 3s 1ms/step - loss: 0.1275 - mean_absolute_error: 0.1275 - mean_absolute_percentage_error: 21.2271 - val_loss: 0.1276 - val_mean_absolute_error: 0.1276 - val_mean_absolute_percentage_error: 21.2777\n",
      "Epoch 14/20\n",
      "2813/2813 [==============================] - 3s 1ms/step - loss: 0.1275 - mean_absolute_error: 0.1275 - mean_absolute_percentage_error: 21.2251 - val_loss: 0.1276 - val_mean_absolute_error: 0.1276 - val_mean_absolute_percentage_error: 21.2466\n",
      "Epoch 15/20\n",
      "2813/2813 [==============================] - 3s 1ms/step - loss: 0.1275 - mean_absolute_error: 0.1275 - mean_absolute_percentage_error: 21.2259 - val_loss: 0.1278 - val_mean_absolute_error: 0.1278 - val_mean_absolute_percentage_error: 21.1799\n",
      "Epoch 16/20\n",
      "2813/2813 [==============================] - 3s 1ms/step - loss: 0.1275 - mean_absolute_error: 0.1275 - mean_absolute_percentage_error: 21.2264 - val_loss: 0.1276 - val_mean_absolute_error: 0.1276 - val_mean_absolute_percentage_error: 21.3408\n",
      "Epoch 17/20\n",
      "2813/2813 [==============================] - 3s 1ms/step - loss: 0.1275 - mean_absolute_error: 0.1275 - mean_absolute_percentage_error: 21.2265 - val_loss: 0.1276 - val_mean_absolute_error: 0.1276 - val_mean_absolute_percentage_error: 21.2932\n",
      "Epoch 18/20\n",
      "2813/2813 [==============================] - 3s 1ms/step - loss: 0.1275 - mean_absolute_error: 0.1275 - mean_absolute_percentage_error: 21.2261 - val_loss: 0.1275 - val_mean_absolute_error: 0.1275 - val_mean_absolute_percentage_error: 21.3068\n",
      "Epoch 19/20\n",
      "2813/2813 [==============================] - 3s 959us/step - loss: 0.1275 - mean_absolute_error: 0.1275 - mean_absolute_percentage_error: 21.2235 - val_loss: 0.1275 - val_mean_absolute_error: 0.1275 - val_mean_absolute_percentage_error: 21.2983\n",
      "Epoch 20/20\n",
      "2813/2813 [==============================] - 3s 994us/step - loss: 0.1274 - mean_absolute_error: 0.1274 - mean_absolute_percentage_error: 21.2259 - val_loss: 0.1275 - val_mean_absolute_error: 0.1275 - val_mean_absolute_percentage_error: 21.1832\n"
     ]
    }
   ],
   "source": [
    "history = model.fit(x = train_x,y = train_y,validation_data = (val_x,val_y),batch_size = 32, epochs = 20)"
   ]
  },
  {
   "cell_type": "code",
   "execution_count": null,
   "metadata": {},
   "outputs": [],
   "source": []
  }
 ],
 "metadata": {
  "interpreter": {
   "hash": "f104f88efb840d0e3bc7589e04724d256e4ed8b928c3ad9315ee551fb11f4dcf"
  },
  "kernelspec": {
   "display_name": "Python 3.9.7 ('tf-gpu')",
   "language": "python",
   "name": "python3"
  },
  "language_info": {
   "codemirror_mode": {
    "name": "ipython",
    "version": 3
   },
   "file_extension": ".py",
   "mimetype": "text/x-python",
   "name": "python",
   "nbconvert_exporter": "python",
   "pygments_lexer": "ipython3",
   "version": "3.9.7"
  },
  "orig_nbformat": 4
 },
 "nbformat": 4,
 "nbformat_minor": 2
}
