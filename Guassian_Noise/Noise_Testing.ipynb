{
 "cells": [
  {
   "cell_type": "code",
   "execution_count": 1,
   "metadata": {},
   "outputs": [],
   "source": [
    "import sys\n",
    "sys.path.append('/home/sean/Documents/Work/Level 4/Level-4-Masters-Project/')"
   ]
  },
  {
   "cell_type": "code",
   "execution_count": 2,
   "metadata": {},
   "outputs": [],
   "source": [
    "\n",
    "import tensorflow as tf \n",
    "import numpy as np\n",
    "import matplotlib.pyplot as plt\n",
    "import pandas as pd\n",
    "import Hyperparam_Testing.Testing_Notebooks.Common_Functions as cf \n",
    "from tensorflow import keras\n",
    "from tensorflow.keras import layers \n",
    "from tensorflow.keras import models \n",
    "\n",
    "from keras.regularizers import l2\n",
    "from Hyperparam_Testing.Testing_Notebooks import chirallag as cL\n",
    "\n",
    "import matplotlib\n",
    "matplotlib.rcParams.update({'legend.fontsize': 16})\n",
    "matplotlib.rcParams.update({'font.size': 16})"
   ]
  },
  {
   "cell_type": "code",
   "execution_count": 3,
   "metadata": {},
   "outputs": [
    {
     "ename": "AttributeError",
     "evalue": "module 'Hyperparam_Testing.Testing_Notebooks.Common_Functions' has no attribute 'g'",
     "output_type": "error",
     "traceback": [
      "\u001b[0;31m---------------------------------------------------------------------------\u001b[0m",
      "\u001b[0;31mAttributeError\u001b[0m                            Traceback (most recent call last)",
      "\u001b[0;32m/tmp/ipykernel_26835/224708151.py\u001b[0m in \u001b[0;36m<module>\u001b[0;34m\u001b[0m\n\u001b[0;32m----> 1\u001b[0;31m \u001b[0mcf\u001b[0m\u001b[0;34m.\u001b[0m\u001b[0mg\u001b[0m\u001b[0;34m\u001b[0m\u001b[0;34m\u001b[0m\u001b[0m\n\u001b[0m",
      "\u001b[0;31mAttributeError\u001b[0m: module 'Hyperparam_Testing.Testing_Notebooks.Common_Functions' has no attribute 'g'"
     ]
    }
   ],
   "source": [
    "cf.g"
   ]
  },
  {
   "cell_type": "code",
   "execution_count": null,
   "metadata": {},
   "outputs": [],
   "source": [
    "def gen_and_load(n_pred,n_val):\n",
    "    number_predictions= n_pred\n",
    "    N = 3\n",
    "    F0 = 1\n",
    "    gens = cL.gen_gellman(3)\n",
    "    pi=np.random.rand(number_predictions,N*N-1)**0.25\n",
    "    dpi=np.random.rand(number_predictions,N*N-1)**0.25\n",
    "    orig_V = abs(cL.get_V(pi,dpi,gens,F0).real)\n",
    "    output = np.hstack((pi,dpi,np.expand_dims(orig_V,axis=1)))\n",
    "    return [(output[:-n_val,:-1],output[:-n_val,-1]),(output[-n_val:,:-1],output[-n_val:,-1])]"
   ]
  },
  {
   "cell_type": "code",
   "execution_count": null,
   "metadata": {},
   "outputs": [],
   "source": [
    "data = gen_and_load(1000,0)\n",
    "data_x,data_y = data[1]"
   ]
  },
  {
   "cell_type": "code",
   "execution_count": null,
   "metadata": {},
   "outputs": [
    {
     "data": {
      "text/plain": [
       "(1000, 16)"
      ]
     },
     "execution_count": 44,
     "metadata": {},
     "output_type": "execute_result"
    }
   ],
   "source": [
    "data_x.shape"
   ]
  },
  {
   "cell_type": "code",
   "execution_count": null,
   "metadata": {},
   "outputs": [],
   "source": [
    "pred_y = model.predict(data_x)"
   ]
  },
  {
   "cell_type": "code",
   "execution_count": null,
   "metadata": {},
   "outputs": [],
   "source": [
    "pred_y = pred_y.reshape(pred_y.shape[0])\n"
   ]
  },
  {
   "cell_type": "code",
   "execution_count": null,
   "metadata": {},
   "outputs": [],
   "source": [
    "baseline = np.mean(abs((data_y-pred_y)/data_y))*100"
   ]
  },
  {
   "cell_type": "code",
   "execution_count": null,
   "metadata": {},
   "outputs": [],
   "source": [
    "### Applying guassian noise\n",
    "def apply_noise(xs,noise_level):\n",
    "    xs = xs+np.random.normal(size = xs.shape, scale= noise_level)\n",
    "    xs[np.where(xs>1)] = 1\n",
    "    xs[np.where(xs<0)] = 0\n",
    "    return xs\n",
    "mape = []\n",
    "sigmas = np.logspace(-4,-1,num=100)\n",
    "for i in sigmas:\n",
    "    sum_mape = 0\n",
    "    for j in range(10):\n",
    "        noisy_x = apply_noise(data_x,i)\n",
    "        pred_y_noise = model.predict(noisy_x).reshape(data_y.shape)\n",
    "        sum_mape +=np.mean(abs((data_y-pred_y_noise)/data_y))*100\n",
    "    mape.append(sum_mape/10)"
   ]
  },
  {
   "cell_type": "code",
   "execution_count": null,
   "metadata": {},
   "outputs": [
    {
     "data": {
      "image/png": "[encoded data removed]",
      "text/plain": [
       "<Figure size 720x432 with 1 Axes>"
      ]
     },
     "metadata": {
      "needs_background": "light"
     },
     "output_type": "display_data"
    }
   ],
   "source": [
    "fig  = plt.figure(figsize=(10,6))\n",
    "plt.semilogx(sigmas,mape, c = 'black')\n",
    "plt.plot(sigmas, np.ones_like(sigmas)*baseline,'r--', label = 'Noiseless MAPE')\n",
    "plt.xlabel(r'Noise $\\sigma$ ')\n",
    "plt.ylabel('$E$')\n",
    "plt.legend()\n",
    "fig.savefig('/home/sean/Documents/Work/Level 4/Level-4-Masters-Project/Figures/mape_noise.png',dpi = 300)"
   ]
  },
  {
   "cell_type": "code",
   "execution_count": null,
   "metadata": {},
   "outputs": [
    {
     "name": "stdout",
     "output_type": "stream",
     "text": [
      "0.641823042165421\n"
     ]
    }
   ],
   "source": []
  },
  {
   "cell_type": "code",
   "execution_count": null,
   "metadata": {},
   "outputs": [
    {
     "data": {
      "text/plain": [
       "[0.030941750192490975,\n",
       " 0.08590197217166443,\n",
       " 0.22523527372634194,\n",
       " 0.101518337718456,\n",
       " 0.037470301860090593]"
      ]
     },
     "execution_count": 29,
     "metadata": {},
     "output_type": "execute_result"
    }
   ],
   "source": []
  },
  {
   "cell_type": "code",
   "execution_count": null,
   "metadata": {},
   "outputs": [],
   "source": []
  }
 ],
 "metadata": {
  "interpreter": {
   "hash": "f104f88efb840d0e3bc7589e04724d256e4ed8b928c3ad9315ee551fb11f4dcf"
  },
  "kernelspec": {
   "display_name": "Python 3.9.7 64-bit ('tf-gpu': conda)",
   "language": "python",
   "name": "python3"
  },
  "language_info": {
   "codemirror_mode": {
    "name": "ipython",
    "version": 3
   },
   "file_extension": ".py",
   "mimetype": "text/x-python",
   "name": "python",
   "nbconvert_exporter": "python",
   "pygments_lexer": "ipython3",
   "version": "3.9.7"
  },
  "orig_nbformat": 4
 },
 "nbformat": 4,
 "nbformat_minor": 2
}
